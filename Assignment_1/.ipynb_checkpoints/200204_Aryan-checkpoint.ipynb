{
 "cells": [
  {
   "cell_type": "markdown",
   "metadata": {},
   "source": [
    "# Q1: Discrete Inverse Transform"
   ]
  },
  {
   "cell_type": "code",
   "execution_count": 1,
   "metadata": {},
   "outputs": [
    {
     "data": {
      "text/plain": [
       "possoinDist (generic function with 1 method)"
      ]
     },
     "execution_count": 1,
     "metadata": {},
     "output_type": "execute_result"
    }
   ],
   "source": [
    "function possoinDist(lambda,i)\n",
    "    return (((lambda ^ i)*(exp(-lambda)))/(factorial(big(i))))\n",
    "end"
   ]
  },
  {
   "cell_type": "code",
   "execution_count": 2,
   "metadata": {},
   "outputs": [
    {
     "data": {
      "text/plain": [
       "poissonSampling (generic function with 1 method)"
      ]
     },
     "execution_count": 2,
     "metadata": {},
     "output_type": "execute_result"
    }
   ],
   "source": [
    "function poissonSampling(lambda)\n",
    "    x=rand(Uniform(0, 1))\n",
    "    i=0\n",
    "    prev=0\n",
    "    curr=possoinDist(lambda,i)\n",
    "    while 0<1\n",
    "        if(prev<x && x<=curr)\n",
    "            return i\n",
    "        else\n",
    "            i=i+1\n",
    "            # print(i,\" \")\n",
    "            prev=curr\n",
    "            curr=curr+possoinDist(lambda,i)\n",
    "        end\n",
    "    end\n",
    "end"
   ]
  },
  {
   "cell_type": "code",
   "execution_count": 3,
   "metadata": {},
   "outputs": [
    {
     "name": "stdout",
     "output_type": "stream",
     "text": [
      "Discrete Inverse Transform Sampler for Poisson Distribution\n"
     ]
    }
   ],
   "source": [
    "println(\"Discrete Inverse Transform Sampler for Poisson Distribution\")\n",
    "using Distributions"
   ]
  },
  {
   "cell_type": "code",
   "execution_count": 4,
   "metadata": {},
   "outputs": [
    {
     "data": {
      "text/plain": [
       "10000"
      ]
     },
     "execution_count": 4,
     "metadata": {},
     "output_type": "execute_result"
    }
   ],
   "source": [
    "l=3 #lambda \n",
    "global num_samples=10000 #Number of Samples\n",
    "p=num_samples"
   ]
  },
  {
   "cell_type": "code",
   "execution_count": 5,
   "metadata": {},
   "outputs": [],
   "source": [
    "Samples=0\n",
    "global A=[]\n",
    "while(num_samples>0)\n",
    "    append!( A, poissonSampling(l) )\n",
    "    global num_samples=num_samples-1\n",
    "end"
   ]
  },
  {
   "cell_type": "code",
   "execution_count": 6,
   "metadata": {},
   "outputs": [
    {
     "data": {
      "text/plain": [
       "Float64[]"
      ]
     },
     "execution_count": 6,
     "metadata": {},
     "output_type": "execute_result"
    }
   ],
   "source": [
    "global max=0\n",
    "for x in A\n",
    "    if(x>max)\n",
    "        global max=x\n",
    "    end\n",
    "end\n",
    "global freq=zeros(max+1)\n",
    "for x in A\n",
    "    global freq[x+1]=freq[x+1]+1\n",
    "end\n",
    "\n",
    "for i in 1:length(freq)\n",
    "    global freq[i]=freq[i]/p\n",
    "end\n",
    "\n",
    "global prob=Float64[]"
   ]
  },
  {
   "cell_type": "code",
   "execution_count": 7,
   "metadata": {},
   "outputs": [],
   "source": [
    "x_Axis=collect(0:max)\n",
    "X = Poisson(l)\n",
    "for t in 0:max\n",
    "    append!(prob,pdf(X, t))\n",
    "end"
   ]
  },
  {
   "cell_type": "code",
   "execution_count": null,
   "metadata": {},
   "outputs": [],
   "source": [
    "using Plots\n",
    "using StatsPlots\n",
    "pyplot(size = (400, 300))\n",
    "\n",
    "p1=plot(histogram(A,label=\"SelfMade\",xlims=(-0.5,max)))\n",
    "p2=plot(Poisson(l),color=\"red\",xlims=(-0.5,max),label=\"BuiltIn\")\n",
    "\n",
    "p3=plot(p1,p2,layout=2)"
   ]
  },
  {
   "cell_type": "code",
   "execution_count": null,
   "metadata": {},
   "outputs": [],
   "source": [
    "println(\"Average is: \", mean(A))\n",
    "println(\"Expectation is: \", l)  \n",
    "\n",
    "println(\"Variance of selfmade is: \", var(A))\n",
    "println(\"Variance of actual is: \", l)  \n",
    "\n",
    "\n",
    "png(\"PoissonSamplerQ1.png\")\n"
   ]
  },
  {
   "cell_type": "markdown",
   "metadata": {},
   "source": [
    "# Q2 Accept Reject"
   ]
  },
  {
   "cell_type": "code",
   "execution_count": null,
   "metadata": {},
   "outputs": [],
   "source": [
    "println(\"Discrete Accept Reject\")\n",
    "using Distributions"
   ]
  },
  {
   "cell_type": "code",
   "execution_count": null,
   "metadata": {},
   "outputs": [],
   "source": [
    "\n",
    "function binomialDist(n,p,k)\n",
    "    return (factorial(big(n)))*(p^k)*((1-p)^(n-k))/(factorial(big(k))*factorial(big(n-k)))\n",
    "end"
   ]
  },
  {
   "cell_type": "code",
   "execution_count": null,
   "metadata": {},
   "outputs": [],
   "source": [
    "n=10 # n for Binomial\n",
    "p=0.3 # prob of success for Binomial\n",
    "global num_samples=10000 # Number of Samples"
   ]
  },
  {
   "cell_type": "code",
   "execution_count": null,
   "metadata": {},
   "outputs": [],
   "source": [
    "l=n*p\n",
    "global c=0\n",
    "for k in 0:n\n",
    "    x=exp(l)*factorial(big(n))*(p^k)*((1-p)^(n-k))/((l^k)*(factorial(big(n-k))))\n",
    "    if x>c\n",
    "        global c=x+1\n",
    "    end\n",
    "end"
   ]
  },
  {
   "cell_type": "code",
   "execution_count": null,
   "metadata": {},
   "outputs": [],
   "source": [
    "global binomialSampling=[]\n",
    "while(num_samples>0)\n",
    "    u=rand(Uniform(0,1))\n",
    "    y=poissonSampling(l)\n",
    "    qy=possoinDist(l,y)\n",
    "    if(n>=y)\n",
    "        py=binomialDist(n,p,y)\n",
    "        if((py/qy) > c)\n",
    "            println(\"CHoose bigger c\")\n",
    "            exit()\n",
    "        end\n",
    "        if(u<(py/(c*qy)))\n",
    "            append!(binomialSampling,y)\n",
    "            global num_samples=num_samples-1\n",
    "        end\n",
    "    end\n",
    "end"
   ]
  },
  {
   "cell_type": "code",
   "execution_count": null,
   "metadata": {},
   "outputs": [],
   "source": [
    "println(\"Average is: \", mean(binomialSampling))\n",
    "println(\"Expectation is: \", n*p) \n",
    "\n",
    "println(\"Variance of selfmade is: \", var(binomialSampling))\n",
    "println(\"Variance of actual is: \", n*p-n*p^2)\n"
   ]
  },
  {
   "cell_type": "code",
   "execution_count": null,
   "metadata": {},
   "outputs": [],
   "source": [
    "global max=0\n",
    "for x in binomialSampling\n",
    "    if(x>max)\n",
    "        global max=x\n",
    "    end\n",
    "end"
   ]
  },
  {
   "cell_type": "code",
   "execution_count": null,
   "metadata": {},
   "outputs": [],
   "source": [
    "using Plots\n",
    "using StatsPlots\n",
    "p1=plot(histogram(binomialSampling,label=\"SelfMade\",xlims=(-0.5,max)))\n",
    "p2=plot(Binomial(n,p),color=\"red\",xlims=(-0.5,max),label=\"BuiltIn\")\n",
    "p3=plot(p1,p2,layout=2)"
   ]
  },
  {
   "cell_type": "code",
   "execution_count": null,
   "metadata": {},
   "outputs": [],
   "source": [
    "png(\"BinomialARQ2.png\")"
   ]
  },
  {
   "cell_type": "code",
   "execution_count": null,
   "metadata": {},
   "outputs": [],
   "source": []
  }
 ],
 "metadata": {
  "@webio": {
   "lastCommId": null,
   "lastKernelId": null
  },
  "kernelspec": {
   "display_name": "Julia 1.7.2",
   "language": "julia",
   "name": "julia-1.7"
  },
  "language_info": {
   "file_extension": ".jl",
   "mimetype": "application/julia",
   "name": "julia",
   "version": "1.7.2"
  }
 },
 "nbformat": 4,
 "nbformat_minor": 2
}
