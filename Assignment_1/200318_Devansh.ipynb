{
 "cells": [
  {
   "cell_type": "code",
   "execution_count": 1,
   "id": "e18b74e6",
   "metadata": {},
   "outputs": [],
   "source": [
    "# https://docs.google.com/document/d/1eioUEP7i1V89BIXY8u6L3qkvIZchk63ukC6tHJMiSrw/edit#\n",
    "# Resources Document Link"
   ]
  },
  {
   "cell_type": "code",
   "execution_count": 2,
   "id": "6c34b488",
   "metadata": {},
   "outputs": [
    {
     "name": "stderr",
     "output_type": "stream",
     "text": [
      "\u001b[32m\u001b[1m    Updating\u001b[22m\u001b[39m registry at `C:\\Users\\Devansh\\.julia\\registries\\General.toml`\n",
      "\u001b[32m\u001b[1m   Resolving\u001b[22m\u001b[39m package versions...\n",
      "\u001b[32m\u001b[1m  No Changes\u001b[22m\u001b[39m to `C:\\Users\\Devansh\\.julia\\environments\\v1.7\\Project.toml`\n",
      "\u001b[32m\u001b[1m  No Changes\u001b[22m\u001b[39m to `C:\\Users\\Devansh\\.julia\\environments\\v1.7\\Manifest.toml`\n"
     ]
    }
   ],
   "source": [
    "import Pkg;\n",
    "Pkg.add(\"Distributions\");\n",
    "using Distributions;"
   ]
  },
  {
   "cell_type": "markdown",
   "id": "bff8137a",
   "metadata": {},
   "source": [
    "# PROBLEM 1\n",
    "\n",
    "### Implement a Discrete Inverse Transform sampler for Poisson distribution."
   ]
  },
  {
   "cell_type": "code",
   "execution_count": 18,
   "id": "bf028c37",
   "metadata": {
    "scrolled": true
   },
   "outputs": [
    {
     "data": {
      "text/plain": [
       "30001-element Vector{Any}:\n",
       " 3\n",
       " 3\n",
       " 1\n",
       " 6\n",
       " 4\n",
       " 0\n",
       " 3\n",
       " 4\n",
       " 4\n",
       " 1\n",
       " 3\n",
       " 5\n",
       " 4\n",
       " ⋮\n",
       " 4\n",
       " 2\n",
       " 6\n",
       " 4\n",
       " 3\n",
       " 2\n",
       " 3\n",
       " 0\n",
       " 4\n",
       " 1\n",
       " 4\n",
       " 3.6975"
      ]
     },
     "execution_count": 18,
     "metadata": {},
     "output_type": "execute_result"
    }
   ],
   "source": [
    "# Below is the function which stimulates a poisson Random Variable and can be used to get a Random Whole Number which follows\n",
    "# poisson's probability distribution.\n",
    "\n",
    "function poisson(lambda::Float64)\n",
    "    u = rand();\n",
    "    sum = 1;\n",
    "    pro1 = 1;\n",
    "    pro2 = 1;\n",
    "    ctr = 0;\n",
    "    con = (MathConstants.e)^(-1*lambda);\n",
    "    while (con*sum) <= u\n",
    "        pro1=pro1*lambda;\n",
    "        pro2=pro2*(ctr+1);\n",
    "        ctr=ctr+1;\n",
    "        sum=sum+(pro1/pro2);\n",
    "    end\n",
    "    ctr\n",
    "end\n",
    "\n",
    "# Function which returns an array of required size containing a set of Independent and Identically distributed Poisson\n",
    "# Random Variables of the required parameter lambda.\n",
    "\n",
    "# The last element of the array contains the mean of all the sample observations taken. It being close enough to the theoretical\n",
    "# mean of the probability distribution shows that the program works correctly.\n",
    "function simulate(lambda::Float64,length::Integer)\n",
    "    arr = [];\n",
    "    ctr = 0;\n",
    "    sum = 0;\n",
    "    while ctr<length\n",
    "        c = poisson(lambda);\n",
    "        push!(arr,c);\n",
    "        ctr = ctr+1;\n",
    "        sum = sum+c;\n",
    "    end\n",
    "    push!(arr,sum/length);\n",
    "    arr\n",
    "end\n",
    "\n",
    "# Theorectically the mean of a Poisson(lambda) Random Variable = lambda\n",
    "# In this case this value comes out to be equal to 3.7\n",
    "# For large enough \"length\" parameter the last value of the array is closer and closer to 3.7\n",
    "\n",
    "simulate(3.7,30000) # An example implementation"
   ]
  },
  {
   "cell_type": "markdown",
   "id": "8d729037",
   "metadata": {},
   "source": [
    "# PROBLEM 2\n",
    "\n",
    "### Implement a Discrete Accept Reject Sampler to simulate draws from $Binomial(n, p)$ using a Poisson proposal."
   ]
  },
  {
   "cell_type": "code",
   "execution_count": 14,
   "id": "4a227bb4",
   "metadata": {},
   "outputs": [
    {
     "data": {
      "text/plain": [
       "30001-element Vector{Any}:\n",
       " 2\n",
       " 3\n",
       " 2\n",
       " 3\n",
       " 3\n",
       " 3\n",
       " 4\n",
       " 3\n",
       " 3\n",
       " 3\n",
       " 3\n",
       " 3\n",
       " 3\n",
       " ⋮\n",
       " 4\n",
       " 3\n",
       " 4\n",
       " 0\n",
       " 1\n",
       " 2\n",
       " 2\n",
       " 3\n",
       " 4\n",
       " 2\n",
       " 3\n",
       " 2.7994"
      ]
     },
     "execution_count": 14,
     "metadata": {},
     "output_type": "execute_result"
    }
   ],
   "source": [
    "# Poission Distribution sampler which will work as the proposal distribution for using the Accept Reject Method \n",
    "# of sampling of a Binomial(n,p) Random Variable.\n",
    "\n",
    "function poisson(lambda::Float64)\n",
    "    u = rand();\n",
    "    sum = 1;\n",
    "    pro1 = 1;\n",
    "    pro2 = 1;\n",
    "    ctr = 0;\n",
    "    con = (MathConstants.e)^(-1*lambda);\n",
    "    while (con*sum) <= u\n",
    "        pro1=pro1*lambda;\n",
    "        pro2=pro2*(ctr+1);\n",
    "        ctr=ctr+1;\n",
    "        sum=sum+(pro1/pro2);\n",
    "    end\n",
    "    ctr\n",
    "end\n",
    "\n",
    "# The main sampler function which uses the Accept Reject Sampling technique for simulating a Binomial(n,p) Random Variable\n",
    "# with the Poisson Distribution as a proposal. The proposal is being created using the Inverse Transform Sampler.\n",
    "# CONSTRAINT : The value of 64 Bit Floating point number p should follow -- 0 < p < 1\n",
    "\n",
    "function binomial(n::Integer,p::Float64)\n",
    "    flag = true;\n",
    "    c = ((MathConstants.e)^(p))*factorial(n);\n",
    "    y = 0;\n",
    "    while flag == true\n",
    "        u = rand();\n",
    "        y = poisson(p);\n",
    "        q_y = ((MathConstants.e)^(-1*p))*(p^y)/factorial(y);\n",
    "        p_y = 0;\n",
    "        if y <= n\n",
    "            p_y = (p^y)*((1-p)^(n-y))*factorial(n)/(factorial(y)*factorial(n-y));\n",
    "        else \n",
    "            p_y = 0;\n",
    "        end\n",
    "        num = p_y/(c*(q_y));\n",
    "        if u < num\n",
    "            flag = false;\n",
    "        else\n",
    "            continue;\n",
    "        end \n",
    "    end\n",
    "    y\n",
    "end\n",
    "\n",
    "# Function which returns an array of required size containing a set of Independent and Identically distributed Binomial(n,p)\n",
    "# Random Variables.\n",
    "\n",
    "# The last element of the array contains the mean of all the sample observations taken. It being close enough to the theoretical\n",
    "# mean of the probability distribution shows that the program works correctly.\n",
    "function simulate(n::Integer,p::Float64,length::Integer)\n",
    "    arr = [];\n",
    "    ctr = 0;\n",
    "    sum = 0;\n",
    "    while ctr<length\n",
    "        c = binomial(n,p);\n",
    "        push!(arr,c);\n",
    "        ctr = ctr+1;\n",
    "        sum = sum+c;\n",
    "    end\n",
    "    push!(arr,sum/length);\n",
    "    arr\n",
    "end \n",
    "\n",
    "# Theorectically the mean of a Binomial(n,p) Random Variable = n*p\n",
    "# In this case this value comes out to be equal to 2.8\n",
    "# For large enough \"length\" parameter the last value of the array is closer and closer to 2.8\n",
    "\n",
    "simulate(4,0.7,30000) # An example implementation"
   ]
  }
 ],
 "metadata": {
  "kernelspec": {
   "display_name": "Julia 1.7.2",
   "language": "julia",
   "name": "julia-1.7"
  },
  "language_info": {
   "file_extension": ".jl",
   "mimetype": "application/julia",
   "name": "julia",
   "version": "1.7.2"
  }
 },
 "nbformat": 4,
 "nbformat_minor": 5
}
