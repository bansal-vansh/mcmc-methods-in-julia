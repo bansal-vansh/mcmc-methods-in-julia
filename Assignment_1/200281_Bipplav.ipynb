{
 "cells": [
  {
   "cell_type": "code",
   "execution_count": 1,
   "metadata": {},
   "outputs": [],
   "source": [
    "using Distributions\n",
    "using StatsPlots"
   ]
  },
  {
   "cell_type": "code",
   "execution_count": 2,
   "metadata": {},
   "outputs": [
    {
     "data": {
      "text/plain": [
       "poisson (generic function with 1 method)"
      ]
     },
     "execution_count": 2,
     "metadata": {},
     "output_type": "execute_result"
    }
   ],
   "source": [
    "# Implementation of Algorithm 3 from https://dvats.github.io/assets/course/mth511/notes/W2L3_notes.pdf\n",
    "function poisson(lambda)\n",
    "    U = rand(Uniform(0,1))\n",
    "    i = 0\n",
    "    p = exp(-lambda)\n",
    "    A = p\n",
    "    while true\n",
    "        if U < A\n",
    "            return i\n",
    "        else\n",
    "            p = lambda*p/(i+1)\n",
    "            A = A + p\n",
    "            i = i + 1\n",
    "        end\n",
    "    end   \n",
    "end"
   ]
  },
  {
   "cell_type": "code",
   "execution_count": 3,
   "metadata": {},
   "outputs": [
    {
     "name": "stdout",
     "output_type": "stream",
     "text": [
      "Actual mean is 3.9925 and theoretical value of mean is 4\n",
      "Actual variance is 4.020043749999999 and theoretical value of mean is 4"
     ]
    }
   ],
   "source": [
    "array_poisson = []\n",
    "count_poisson = 10000\n",
    "no_of_samples_poisson = count_poisson\n",
    "\n",
    "#You may change the value of _lambda from here \n",
    "_lambda = 4\n",
    "\n",
    "actual_mean_poisson = 0\n",
    "actual_variance_poission = 0\n",
    "\n",
    "while count_poisson>0\n",
    "    x = poisson(_lambda)\n",
    "    push!(array_poisson, x)\n",
    "    global actual_mean_poisson = actual_mean_poisson + x\n",
    "    global actual_variance_poission = actual_variance_poission + x*x\n",
    "    global count_poisson = count_poisson - 1 \n",
    "end\n",
    "\n",
    "actual_mean_poisson = actual_mean_poisson/no_of_samples_poisson\n",
    "actual_variance_poission = actual_variance_poission/no_of_samples_poisson\n",
    "actual_variance_poission = actual_variance_poission - (actual_mean_poisson*actual_mean_poisson)\n",
    "\n",
    "print(\"Actual mean is \")\n",
    "print(actual_mean_poisson) \n",
    "print(\" and theoretical value of mean is \")\n",
    "print(_lambda)\n",
    "print(\"\\nActual variance is \")\n",
    "print(actual_variance_poission) \n",
    "print(\" and theoretical value of mean is \")\n",
    "print(_lambda)\n",
    "\n",
    "histogram(array_poisson, bins = 23)\n",
    "savefig(\"poisson.pdf\")"
   ]
  },
  {
   "cell_type": "code",
   "execution_count": 4,
   "metadata": {},
   "outputs": [
    {
     "data": {
      "text/plain": [
       "_Binomial (generic function with 1 method)"
      ]
     },
     "execution_count": 4,
     "metadata": {},
     "output_type": "execute_result"
    }
   ],
   "source": [
    "# Inspired by Algorithm 1 and exapmle 1 of https://dvats.github.io/assets/course/mth511/notes/W2L4_notes.pdf\n",
    "function _Binomial(_n,p)\n",
    "    c = -1000\n",
    "    i = 0\n",
    "    lambda = _n*p\n",
    "    while i<=_n\n",
    "        c = max((factorial(_n)*exp(lambda)*((1-p)^(_n-i))*(p^i))/(factorial(_n-i)*(lambda^i)),c)\n",
    "        i = i+1\n",
    "    end\n",
    "    # The above loop computes c\n",
    "    while true\n",
    "        U = rand(Uniform(0,1))\n",
    "        y = poisson(lambda)\n",
    "        py = (factorial(_n)*((1-p)^(_n-y))*(p^y))/(factorial(_n-y)*factorial(y))\n",
    "        qy = ((lambda^y)*(exp(-lambda)))/(factorial(y))\n",
    "        z = py/(c*qy)\n",
    "        if U<z\n",
    "            return y\n",
    "        end\n",
    "    end\n",
    "end "
   ]
  },
  {
   "cell_type": "code",
   "execution_count": 5,
   "metadata": {},
   "outputs": [
    {
     "name": "stdout",
     "output_type": "stream",
     "text": [
      "Actual value of mean is 3.783 and theoretical value of mean is 3.75\n",
      "Actual value of variance is 2.683911000000002and theoretical value of variance is 2.8125"
     ]
    }
   ],
   "source": [
    "array_binomial = []\n",
    "count_binomial = 1000\n",
    "no_of_samples_binomial = count_binomial\n",
    "actual_mean_binomial = 0\n",
    "actual_variance_binomial = 0\n",
    "\n",
    "# You may modify the below values as per your convinience\n",
    "n = 15\n",
    "p = 0.25\n",
    "\n",
    "while count_binomial>0\n",
    "    x = _Binomial(n,p)\n",
    "    global actual_mean_binomial = actual_mean_binomial + x\n",
    "    global actual_variance_binomial = actual_variance_binomial + x*x\n",
    "    push!(array_binomial , x)\n",
    "    global count_binomial = count_binomial - 1 \n",
    "end\n",
    "\n",
    "actual_mean_binomial = actual_mean_binomial/no_of_samples_binomial\n",
    "actual_variance_binomial = actual_variance_binomial/no_of_samples_binomial\n",
    "actual_variance_binomial = actual_variance_binomial - (actual_mean_binomial*actual_mean_binomial)\n",
    "\n",
    "print(\"Actual value of mean is \")\n",
    "print(actual_mean_binomial)\n",
    "print(\" and theoretical value of mean is \")\n",
    "print(n*p)  \n",
    "print(\"\\nActual value of variance is \")\n",
    "print(actual_variance_binomial)\n",
    "print(\"and theoretical value of variance is \")\n",
    "print(n*p*(1-p))\n",
    "\n",
    "histogram(array_binomial, bins = 10)\n",
    "savefig(\"Binomial.pdf\")"
   ]
  }
 ],
 "metadata": {
  "kernelspec": {
   "display_name": "Julia 1.6.6",
   "language": "julia",
   "name": "julia-1.6"
  },
  "language_info": {
   "file_extension": ".jl",
   "mimetype": "application/julia",
   "name": "julia",
   "version": "1.6.6"
  },
  "orig_nbformat": 4
 },
 "nbformat": 4,
 "nbformat_minor": 2
}
