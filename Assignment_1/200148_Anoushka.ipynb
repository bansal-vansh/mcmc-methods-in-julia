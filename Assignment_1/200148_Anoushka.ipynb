{
 "cells": [
  {
   "cell_type": "code",
   "execution_count": 2,
   "id": "df08d6e3",
   "metadata": {},
   "outputs": [
    {
     "name": "stderr",
     "output_type": "stream",
     "text": [
      "\u001b[32m\u001b[1m   Resolving\u001b[22m\u001b[39m package versions...\n",
      "\u001b[32m\u001b[1m  No Changes\u001b[22m\u001b[39m to `C:\\Users\\Anoushka 30\\.julia\\environments\\v1.7\\Project.toml`\n",
      "\u001b[32m\u001b[1m  No Changes\u001b[22m\u001b[39m to `C:\\Users\\Anoushka 30\\.julia\\environments\\v1.7\\Manifest.toml`\n",
      "\u001b[32m\u001b[1m   Resolving\u001b[22m\u001b[39m package versions...\n",
      "\u001b[32m\u001b[1m  No Changes\u001b[22m\u001b[39m to `C:\\Users\\Anoushka 30\\.julia\\environments\\v1.7\\Project.toml`\n",
      "\u001b[32m\u001b[1m  No Changes\u001b[22m\u001b[39m to `C:\\Users\\Anoushka 30\\.julia\\environments\\v1.7\\Manifest.toml`\n",
      "\u001b[32m\u001b[1m   Resolving\u001b[22m\u001b[39m package versions...\n",
      "\u001b[32m\u001b[1m  No Changes\u001b[22m\u001b[39m to `C:\\Users\\Anoushka 30\\.julia\\environments\\v1.7\\Project.toml`\n",
      "\u001b[32m\u001b[1m  No Changes\u001b[22m\u001b[39m to `C:\\Users\\Anoushka 30\\.julia\\environments\\v1.7\\Manifest.toml`\n"
     ]
    }
   ],
   "source": [
    "using Pkg\n",
    "Pkg.add(\"Distributions\")\n",
    "Pkg.add(\"Plots\")\n",
    "Pkg.add(\"DataStructures\")\n",
    "Pkg.add(\"Statistics\")\n",
    "using Distributions\n",
    "using Plots\n",
    "using DataStructures\n",
    "using Statistics"
   ]
  },
  {
   "cell_type": "code",
   "execution_count": 5,
   "id": "d86adf59",
   "metadata": {},
   "outputs": [
    {
     "data": {
      "text/plain": [
       "1"
      ]
     },
     "execution_count": 5,
     "metadata": {},
     "output_type": "execute_result"
    }
   ],
   "source": [
    "NO_SAMPLE = 1000     #NUMBER OF SAMPLES YOU WANT TO TAKE\n",
    "LAMBDA = 1"
   ]
  },
  {
   "cell_type": "code",
   "execution_count": 6,
   "id": "36c01dc7",
   "metadata": {},
   "outputs": [
    {
     "data": {
      "text/plain": [
       "50-element Vector{Int64}:\n",
       " 1\n",
       " 2\n",
       " 2\n",
       " 1\n",
       " 1\n",
       " 0\n",
       " 1\n",
       " 1\n",
       " 5\n",
       " 2\n",
       " 1\n",
       " 2\n",
       " 0\n",
       " ⋮\n",
       " 1\n",
       " 2\n",
       " 0\n",
       " 1\n",
       " 3\n",
       " 0\n",
       " 0\n",
       " 3\n",
       " 0\n",
       " 0\n",
       " 2\n",
       " 0"
      ]
     },
     "execution_count": 6,
     "metadata": {},
     "output_type": "execute_result"
    }
   ],
   "source": [
    "Uniform_dist = Uniform()                        \n",
    "Poisson_dist = Poisson(LAMBDA)           \n",
    "Uniform_samples = rand(Uniform_dist, NO_SAMPLE)\n",
    "Poisson_samples = rand(Poisson_dist, NO_SAMPLE)"
   ]
  },
  {
   "cell_type": "code",
   "execution_count": 16,
   "id": "84bde030",
   "metadata": {},
   "outputs": [
    {
     "name": "stdout",
     "output_type": "stream",
     "text": [
      "1.04\n",
      "1.1820408163265308\n"
     ]
    }
   ],
   "source": [
    "mean_org = mean(Poisson_samples)\n",
    "var_org = var(Poisson_samples)\n",
    "println(mean_org)\n",
    "println(var_org)"
   ]
  },
  {
   "cell_type": "code",
   "execution_count": 8,
   "id": "b303c8b4",
   "metadata": {},
   "outputs": [
    {
     "data": {
      "image/svg+xml": [
       "<?xml version=\"1.0\" encoding=\"utf-8\"?>\n",
       "<svg xmlns=\"http://www.w3.org/2000/svg\" xmlns:xlink=\"http://www.w3.org/1999/xlink\" width=\"600\" height=\"400\" viewBox=\"0 0 2400 1600\">\n",
       "<defs>\n",
       "  <clipPath id=\"clip070\">\n",
       "    <rect x=\"0\" y=\"0\" width=\"2400\" height=\"1600\"/>\n",
       "  </clipPath>\n",
       "</defs>\n",
       "<path clip-path=\"url(#clip070)\" d=\"\n",
       "M0 1600 L2400 1600 L2400 0 L0 0  Z\n",
       "  \" fill=\"#ffffff\" fill-rule=\"evenodd\" fill-opacity=\"1\"/>\n",
       "<defs>\n",
       "  <clipPath id=\"clip071\">\n",
       "    <rect x=\"480\" y=\"0\" width=\"1681\" height=\"1600\"/>\n",
       "  </clipPath>\n",
       "</defs>\n",
       "<path clip-path=\"url(#clip070)\" d=\"\n",
       "M156.112 1486.45 L2352.76 1486.45 L2352.76 47.2441 L156.112 47.2441  Z\n",
       "  \" fill=\"#ffffff\" fill-rule=\"evenodd\" fill-opacity=\"1\"/>\n",
       "<defs>\n",
       "  <clipPath id=\"clip072\">\n",
       "    <rect x=\"156\" y=\"47\" width=\"2198\" height=\"1440\"/>\n",
       "  </clipPath>\n",
       "</defs>\n",
       "<polyline clip-path=\"url(#clip072)\" style=\"stroke:#000000; stroke-linecap:butt; stroke-linejoin:round; stroke-width:2; stroke-opacity:0.1; fill:none\" points=\"\n",
       "  218.281,1486.45 218.281,47.2441 \n",
       "  \"/>\n",
       "<polyline clip-path=\"url(#clip072)\" style=\"stroke:#000000; stroke-linecap:butt; stroke-linejoin:round; stroke-width:2; stroke-opacity:0.1; fill:none\" points=\"\n",
       "  641.201,1486.45 641.201,47.2441 \n",
       "  \"/>\n",
       "<polyline clip-path=\"url(#clip072)\" style=\"stroke:#000000; stroke-linecap:butt; stroke-linejoin:round; stroke-width:2; stroke-opacity:0.1; fill:none\" points=\"\n",
       "  1064.12,1486.45 1064.12,47.2441 \n",
       "  \"/>\n",
       "<polyline clip-path=\"url(#clip072)\" style=\"stroke:#000000; stroke-linecap:butt; stroke-linejoin:round; stroke-width:2; stroke-opacity:0.1; fill:none\" points=\"\n",
       "  1487.04,1486.45 1487.04,47.2441 \n",
       "  \"/>\n",
       "<polyline clip-path=\"url(#clip072)\" style=\"stroke:#000000; stroke-linecap:butt; stroke-linejoin:round; stroke-width:2; stroke-opacity:0.1; fill:none\" points=\"\n",
       "  1909.96,1486.45 1909.96,47.2441 \n",
       "  \"/>\n",
       "<polyline clip-path=\"url(#clip072)\" style=\"stroke:#000000; stroke-linecap:butt; stroke-linejoin:round; stroke-width:2; stroke-opacity:0.1; fill:none\" points=\"\n",
       "  2332.88,1486.45 2332.88,47.2441 \n",
       "  \"/>\n",
       "<polyline clip-path=\"url(#clip070)\" style=\"stroke:#000000; stroke-linecap:butt; stroke-linejoin:round; stroke-width:4; stroke-opacity:1; fill:none\" points=\"\n",
       "  156.112,1486.45 2352.76,1486.45 \n",
       "  \"/>\n",
       "<polyline clip-path=\"url(#clip070)\" style=\"stroke:#000000; stroke-linecap:butt; stroke-linejoin:round; stroke-width:4; stroke-opacity:1; fill:none\" points=\"\n",
       "  218.281,1486.45 218.281,1467.55 \n",
       "  \"/>\n",
       "<polyline clip-path=\"url(#clip070)\" style=\"stroke:#000000; stroke-linecap:butt; stroke-linejoin:round; stroke-width:4; stroke-opacity:1; fill:none\" points=\"\n",
       "  641.201,1486.45 641.201,1467.55 \n",
       "  \"/>\n",
       "<polyline clip-path=\"url(#clip070)\" style=\"stroke:#000000; stroke-linecap:butt; stroke-linejoin:round; stroke-width:4; stroke-opacity:1; fill:none\" points=\"\n",
       "  1064.12,1486.45 1064.12,1467.55 \n",
       "  \"/>\n",
       "<polyline clip-path=\"url(#clip070)\" style=\"stroke:#000000; stroke-linecap:butt; stroke-linejoin:round; stroke-width:4; stroke-opacity:1; fill:none\" points=\"\n",
       "  1487.04,1486.45 1487.04,1467.55 \n",
       "  \"/>\n",
       "<polyline clip-path=\"url(#clip070)\" style=\"stroke:#000000; stroke-linecap:butt; stroke-linejoin:round; stroke-width:4; stroke-opacity:1; fill:none\" points=\"\n",
       "  1909.96,1486.45 1909.96,1467.55 \n",
       "  \"/>\n",
       "<polyline clip-path=\"url(#clip070)\" style=\"stroke:#000000; stroke-linecap:butt; stroke-linejoin:round; stroke-width:4; stroke-opacity:1; fill:none\" points=\"\n",
       "  2332.88,1486.45 2332.88,1467.55 \n",
       "  \"/>\n",
       "<path clip-path=\"url(#clip070)\" d=\"M218.281 1517.37 Q214.67 1517.37 212.842 1520.93 Q211.036 1524.47 211.036 1531.6 Q211.036 1538.71 212.842 1542.27 Q214.67 1545.82 218.281 1545.82 Q221.916 1545.82 223.721 1542.27 Q225.55 1538.71 225.55 1531.6 Q225.55 1524.47 223.721 1520.93 Q221.916 1517.37 218.281 1517.37 M218.281 1513.66 Q224.091 1513.66 227.147 1518.27 Q230.226 1522.85 230.226 1531.6 Q230.226 1540.33 227.147 1544.94 Q224.091 1549.52 218.281 1549.52 Q212.471 1549.52 209.392 1544.94 Q206.337 1540.33 206.337 1531.6 Q206.337 1522.85 209.392 1518.27 Q212.471 1513.66 218.281 1513.66 Z\" fill=\"#000000\" fill-rule=\"evenodd\" fill-opacity=\"1\" /><path clip-path=\"url(#clip070)\" d=\"M615.888 1544.91 L623.527 1544.91 L623.527 1518.55 L615.217 1520.21 L615.217 1515.95 L623.481 1514.29 L628.157 1514.29 L628.157 1544.91 L635.796 1544.91 L635.796 1548.85 L615.888 1548.85 L615.888 1544.91 Z\" fill=\"#000000\" fill-rule=\"evenodd\" fill-opacity=\"1\" /><path clip-path=\"url(#clip070)\" d=\"M655.24 1517.37 Q651.629 1517.37 649.8 1520.93 Q647.995 1524.47 647.995 1531.6 Q647.995 1538.71 649.8 1542.27 Q651.629 1545.82 655.24 1545.82 Q658.874 1545.82 660.68 1542.27 Q662.509 1538.71 662.509 1531.6 Q662.509 1524.47 660.68 1520.93 Q658.874 1517.37 655.24 1517.37 M655.24 1513.66 Q661.05 1513.66 664.106 1518.27 Q667.184 1522.85 667.184 1531.6 Q667.184 1540.33 664.106 1544.94 Q661.05 1549.52 655.24 1549.52 Q649.43 1549.52 646.351 1544.94 Q643.296 1540.33 643.296 1531.6 Q643.296 1522.85 646.351 1518.27 Q649.43 1513.66 655.24 1513.66 Z\" fill=\"#000000\" fill-rule=\"evenodd\" fill-opacity=\"1\" /><path clip-path=\"url(#clip070)\" d=\"M1042.89 1544.91 L1059.21 1544.91 L1059.21 1548.85 L1037.27 1548.85 L1037.27 1544.91 Q1039.93 1542.16 1044.51 1537.53 Q1049.12 1532.88 1050.3 1531.53 Q1052.55 1529.01 1053.43 1527.27 Q1054.33 1525.51 1054.33 1523.82 Q1054.33 1521.07 1052.38 1519.33 Q1050.46 1517.6 1047.36 1517.6 Q1045.16 1517.6 1042.71 1518.36 Q1040.28 1519.13 1037.5 1520.68 L1037.5 1515.95 Q1040.32 1514.82 1042.78 1514.24 Q1045.23 1513.66 1047.27 1513.66 Q1052.64 1513.66 1055.83 1516.35 Q1059.03 1519.03 1059.03 1523.52 Q1059.03 1525.65 1058.22 1527.57 Q1057.43 1529.47 1055.32 1532.07 Q1054.75 1532.74 1051.64 1535.95 Q1048.54 1539.15 1042.89 1544.91 Z\" fill=\"#000000\" fill-rule=\"evenodd\" fill-opacity=\"1\" /><path clip-path=\"url(#clip070)\" d=\"M1079.03 1517.37 Q1075.42 1517.37 1073.59 1520.93 Q1071.78 1524.47 1071.78 1531.6 Q1071.78 1538.71 1073.59 1542.27 Q1075.42 1545.82 1079.03 1545.82 Q1082.66 1545.82 1084.47 1542.27 Q1086.3 1538.71 1086.3 1531.6 Q1086.3 1524.47 1084.47 1520.93 Q1082.66 1517.37 1079.03 1517.37 M1079.03 1513.66 Q1084.84 1513.66 1087.89 1518.27 Q1090.97 1522.85 1090.97 1531.6 Q1090.97 1540.33 1087.89 1544.94 Q1084.84 1549.52 1079.03 1549.52 Q1073.22 1549.52 1070.14 1544.94 Q1067.08 1540.33 1067.08 1531.6 Q1067.08 1522.85 1070.14 1518.27 Q1073.22 1513.66 1079.03 1513.66 Z\" fill=\"#000000\" fill-rule=\"evenodd\" fill-opacity=\"1\" /><path clip-path=\"url(#clip070)\" d=\"M1475.88 1530.21 Q1479.24 1530.93 1481.11 1533.2 Q1483.01 1535.47 1483.01 1538.8 Q1483.01 1543.92 1479.49 1546.72 Q1475.97 1549.52 1469.49 1549.52 Q1467.32 1549.52 1465 1549.08 Q1462.71 1548.66 1460.26 1547.81 L1460.26 1543.29 Q1462.2 1544.43 1464.52 1545.01 Q1466.83 1545.58 1469.35 1545.58 Q1473.75 1545.58 1476.04 1543.85 Q1478.36 1542.11 1478.36 1538.8 Q1478.36 1535.75 1476.21 1534.03 Q1474.08 1532.3 1470.26 1532.3 L1466.23 1532.3 L1466.23 1528.45 L1470.44 1528.45 Q1473.89 1528.45 1475.72 1527.09 Q1477.55 1525.7 1477.55 1523.11 Q1477.55 1520.45 1475.65 1519.03 Q1473.78 1517.6 1470.26 1517.6 Q1468.34 1517.6 1466.14 1518.01 Q1463.94 1518.43 1461.3 1519.31 L1461.3 1515.14 Q1463.96 1514.4 1466.28 1514.03 Q1468.61 1513.66 1470.67 1513.66 Q1476 1513.66 1479.1 1516.09 Q1482.2 1518.5 1482.2 1522.62 Q1482.2 1525.49 1480.56 1527.48 Q1478.91 1529.45 1475.88 1530.21 Z\" fill=\"#000000\" fill-rule=\"evenodd\" fill-opacity=\"1\" /><path clip-path=\"url(#clip070)\" d=\"M1501.88 1517.37 Q1498.27 1517.37 1496.44 1520.93 Q1494.63 1524.47 1494.63 1531.6 Q1494.63 1538.71 1496.44 1542.27 Q1498.27 1545.82 1501.88 1545.82 Q1505.51 1545.82 1507.32 1542.27 Q1509.15 1538.71 1509.15 1531.6 Q1509.15 1524.47 1507.32 1520.93 Q1505.51 1517.37 1501.88 1517.37 M1501.88 1513.66 Q1507.69 1513.66 1510.74 1518.27 Q1513.82 1522.85 1513.82 1531.6 Q1513.82 1540.33 1510.74 1544.94 Q1507.69 1549.52 1501.88 1549.52 Q1496.07 1549.52 1492.99 1544.94 Q1489.93 1540.33 1489.93 1531.6 Q1489.93 1522.85 1492.99 1518.27 Q1496.07 1513.66 1501.88 1513.66 Z\" fill=\"#000000\" fill-rule=\"evenodd\" fill-opacity=\"1\" /><path clip-path=\"url(#clip070)\" d=\"M1898.13 1518.36 L1886.33 1536.81 L1898.13 1536.81 L1898.13 1518.36 M1896.9 1514.29 L1902.78 1514.29 L1902.78 1536.81 L1907.71 1536.81 L1907.71 1540.7 L1902.78 1540.7 L1902.78 1548.85 L1898.13 1548.85 L1898.13 1540.7 L1882.53 1540.7 L1882.53 1536.19 L1896.9 1514.29 Z\" fill=\"#000000\" fill-rule=\"evenodd\" fill-opacity=\"1\" /><path clip-path=\"url(#clip070)\" d=\"M1925.45 1517.37 Q1921.83 1517.37 1920.01 1520.93 Q1918.2 1524.47 1918.2 1531.6 Q1918.2 1538.71 1920.01 1542.27 Q1921.83 1545.82 1925.45 1545.82 Q1929.08 1545.82 1930.89 1542.27 Q1932.71 1538.71 1932.71 1531.6 Q1932.71 1524.47 1930.89 1520.93 Q1929.08 1517.37 1925.45 1517.37 M1925.45 1513.66 Q1931.26 1513.66 1934.31 1518.27 Q1937.39 1522.85 1937.39 1531.6 Q1937.39 1540.33 1934.31 1544.94 Q1931.26 1549.52 1925.45 1549.52 Q1919.64 1549.52 1916.56 1544.94 Q1913.5 1540.33 1913.5 1531.6 Q1913.5 1522.85 1916.56 1518.27 Q1919.64 1513.66 1925.45 1513.66 Z\" fill=\"#000000\" fill-rule=\"evenodd\" fill-opacity=\"1\" /><path clip-path=\"url(#clip070)\" d=\"M2307.58 1514.29 L2325.93 1514.29 L2325.93 1518.22 L2311.86 1518.22 L2311.86 1526.7 Q2312.88 1526.35 2313.9 1526.19 Q2314.92 1526 2315.93 1526 Q2321.72 1526 2325.1 1529.17 Q2328.48 1532.34 2328.48 1537.76 Q2328.48 1543.34 2325.01 1546.44 Q2321.54 1549.52 2315.22 1549.52 Q2313.04 1549.52 2310.77 1549.15 Q2308.53 1548.78 2306.12 1548.04 L2306.12 1543.34 Q2308.2 1544.47 2310.43 1545.03 Q2312.65 1545.58 2315.12 1545.58 Q2319.13 1545.58 2321.47 1543.48 Q2323.8 1541.37 2323.8 1537.76 Q2323.8 1534.15 2321.47 1532.04 Q2319.13 1529.94 2315.12 1529.94 Q2313.25 1529.94 2311.37 1530.35 Q2309.52 1530.77 2307.58 1531.65 L2307.58 1514.29 Z\" fill=\"#000000\" fill-rule=\"evenodd\" fill-opacity=\"1\" /><path clip-path=\"url(#clip070)\" d=\"M2347.69 1517.37 Q2344.08 1517.37 2342.25 1520.93 Q2340.45 1524.47 2340.45 1531.6 Q2340.45 1538.71 2342.25 1542.27 Q2344.08 1545.82 2347.69 1545.82 Q2351.33 1545.82 2353.13 1542.27 Q2354.96 1538.71 2354.96 1531.6 Q2354.96 1524.47 2353.13 1520.93 Q2351.33 1517.37 2347.69 1517.37 M2347.69 1513.66 Q2353.5 1513.66 2356.56 1518.27 Q2359.64 1522.85 2359.64 1531.6 Q2359.64 1540.33 2356.56 1544.94 Q2353.5 1549.52 2347.69 1549.52 Q2341.88 1549.52 2338.8 1544.94 Q2335.75 1540.33 2335.75 1531.6 Q2335.75 1522.85 2338.8 1518.27 Q2341.88 1513.66 2347.69 1513.66 Z\" fill=\"#000000\" fill-rule=\"evenodd\" fill-opacity=\"1\" /><polyline clip-path=\"url(#clip072)\" style=\"stroke:#000000; stroke-linecap:butt; stroke-linejoin:round; stroke-width:2; stroke-opacity:0.1; fill:none\" points=\"\n",
       "  156.112,1445.72 2352.76,1445.72 \n",
       "  \"/>\n",
       "<polyline clip-path=\"url(#clip072)\" style=\"stroke:#000000; stroke-linecap:butt; stroke-linejoin:round; stroke-width:2; stroke-opacity:0.1; fill:none\" points=\"\n",
       "  156.112,1088.42 2352.76,1088.42 \n",
       "  \"/>\n",
       "<polyline clip-path=\"url(#clip072)\" style=\"stroke:#000000; stroke-linecap:butt; stroke-linejoin:round; stroke-width:2; stroke-opacity:0.1; fill:none\" points=\"\n",
       "  156.112,731.116 2352.76,731.116 \n",
       "  \"/>\n",
       "<polyline clip-path=\"url(#clip072)\" style=\"stroke:#000000; stroke-linecap:butt; stroke-linejoin:round; stroke-width:2; stroke-opacity:0.1; fill:none\" points=\"\n",
       "  156.112,373.816 2352.76,373.816 \n",
       "  \"/>\n",
       "<polyline clip-path=\"url(#clip070)\" style=\"stroke:#000000; stroke-linecap:butt; stroke-linejoin:round; stroke-width:4; stroke-opacity:1; fill:none\" points=\"\n",
       "  156.112,1486.45 156.112,47.2441 \n",
       "  \"/>\n",
       "<polyline clip-path=\"url(#clip070)\" style=\"stroke:#000000; stroke-linecap:butt; stroke-linejoin:round; stroke-width:4; stroke-opacity:1; fill:none\" points=\"\n",
       "  156.112,1445.72 175.01,1445.72 \n",
       "  \"/>\n",
       "<polyline clip-path=\"url(#clip070)\" style=\"stroke:#000000; stroke-linecap:butt; stroke-linejoin:round; stroke-width:4; stroke-opacity:1; fill:none\" points=\"\n",
       "  156.112,1088.42 175.01,1088.42 \n",
       "  \"/>\n",
       "<polyline clip-path=\"url(#clip070)\" style=\"stroke:#000000; stroke-linecap:butt; stroke-linejoin:round; stroke-width:4; stroke-opacity:1; fill:none\" points=\"\n",
       "  156.112,731.116 175.01,731.116 \n",
       "  \"/>\n",
       "<polyline clip-path=\"url(#clip070)\" style=\"stroke:#000000; stroke-linecap:butt; stroke-linejoin:round; stroke-width:4; stroke-opacity:1; fill:none\" points=\"\n",
       "  156.112,373.816 175.01,373.816 \n",
       "  \"/>\n",
       "<path clip-path=\"url(#clip070)\" d=\"M62.9365 1431.51 Q59.3254 1431.51 57.4967 1435.08 Q55.6912 1438.62 55.6912 1445.75 Q55.6912 1452.86 57.4967 1456.42 Q59.3254 1459.96 62.9365 1459.96 Q66.5707 1459.96 68.3763 1456.42 Q70.205 1452.86 70.205 1445.75 Q70.205 1438.62 68.3763 1435.08 Q66.5707 1431.51 62.9365 1431.51 M62.9365 1427.81 Q68.7467 1427.81 71.8022 1432.42 Q74.8809 1437 74.8809 1445.75 Q74.8809 1454.48 71.8022 1459.08 Q68.7467 1463.67 62.9365 1463.67 Q57.1264 1463.67 54.0477 1459.08 Q50.9921 1454.48 50.9921 1445.75 Q50.9921 1437 54.0477 1432.42 Q57.1264 1427.81 62.9365 1427.81 Z\" fill=\"#000000\" fill-rule=\"evenodd\" fill-opacity=\"1\" /><path clip-path=\"url(#clip070)\" d=\"M83.0984 1457.12 L87.9827 1457.12 L87.9827 1463 L83.0984 1463 L83.0984 1457.12 Z\" fill=\"#000000\" fill-rule=\"evenodd\" fill-opacity=\"1\" /><path clip-path=\"url(#clip070)\" d=\"M108.168 1431.51 Q104.557 1431.51 102.728 1435.08 Q100.922 1438.62 100.922 1445.75 Q100.922 1452.86 102.728 1456.42 Q104.557 1459.96 108.168 1459.96 Q111.802 1459.96 113.608 1456.42 Q115.436 1452.86 115.436 1445.75 Q115.436 1438.62 113.608 1435.08 Q111.802 1431.51 108.168 1431.51 M108.168 1427.81 Q113.978 1427.81 117.033 1432.42 Q120.112 1437 120.112 1445.75 Q120.112 1454.48 117.033 1459.08 Q113.978 1463.67 108.168 1463.67 Q102.358 1463.67 99.2789 1459.08 Q96.2234 1454.48 96.2234 1445.75 Q96.2234 1437 99.2789 1432.42 Q102.358 1427.81 108.168 1427.81 Z\" fill=\"#000000\" fill-rule=\"evenodd\" fill-opacity=\"1\" /><path clip-path=\"url(#clip070)\" d=\"M64.1634 1074.21 Q60.5523 1074.21 58.7236 1077.78 Q56.918 1081.32 56.918 1088.45 Q56.918 1095.56 58.7236 1099.12 Q60.5523 1102.66 64.1634 1102.66 Q67.7976 1102.66 69.6031 1099.12 Q71.4318 1095.56 71.4318 1088.45 Q71.4318 1081.32 69.6031 1077.78 Q67.7976 1074.21 64.1634 1074.21 M64.1634 1070.51 Q69.9735 1070.51 73.029 1075.12 Q76.1077 1079.7 76.1077 1088.45 Q76.1077 1097.18 73.029 1101.78 Q69.9735 1106.37 64.1634 1106.37 Q58.3532 1106.37 55.2745 1101.78 Q52.219 1097.18 52.219 1088.45 Q52.219 1079.7 55.2745 1075.12 Q58.3532 1070.51 64.1634 1070.51 Z\" fill=\"#000000\" fill-rule=\"evenodd\" fill-opacity=\"1\" /><path clip-path=\"url(#clip070)\" d=\"M84.3253 1099.82 L89.2095 1099.82 L89.2095 1105.7 L84.3253 1105.7 L84.3253 1099.82 Z\" fill=\"#000000\" fill-rule=\"evenodd\" fill-opacity=\"1\" /><path clip-path=\"url(#clip070)\" d=\"M100.205 1101.76 L107.844 1101.76 L107.844 1075.4 L99.5335 1077.06 L99.5335 1072.8 L107.797 1071.14 L112.473 1071.14 L112.473 1101.76 L120.112 1101.76 L120.112 1105.7 L100.205 1105.7 L100.205 1101.76 Z\" fill=\"#000000\" fill-rule=\"evenodd\" fill-opacity=\"1\" /><path clip-path=\"url(#clip070)\" d=\"M64.5337 716.915 Q60.9226 716.915 59.0939 720.479 Q57.2884 724.021 57.2884 731.151 Q57.2884 738.257 59.0939 741.822 Q60.9226 745.364 64.5337 745.364 Q68.168 745.364 69.9735 741.822 Q71.8022 738.257 71.8022 731.151 Q71.8022 724.021 69.9735 720.479 Q68.168 716.915 64.5337 716.915 M64.5337 713.211 Q70.3439 713.211 73.3994 717.817 Q76.4781 722.401 76.4781 731.151 Q76.4781 739.878 73.3994 744.484 Q70.3439 749.067 64.5337 749.067 Q58.7236 749.067 55.6449 744.484 Q52.5893 739.878 52.5893 731.151 Q52.5893 722.401 55.6449 717.817 Q58.7236 713.211 64.5337 713.211 Z\" fill=\"#000000\" fill-rule=\"evenodd\" fill-opacity=\"1\" /><path clip-path=\"url(#clip070)\" d=\"M84.6956 742.516 L89.5799 742.516 L89.5799 748.396 L84.6956 748.396 L84.6956 742.516 Z\" fill=\"#000000\" fill-rule=\"evenodd\" fill-opacity=\"1\" /><path clip-path=\"url(#clip070)\" d=\"M103.793 744.461 L120.112 744.461 L120.112 748.396 L98.1678 748.396 L98.1678 744.461 Q100.83 741.706 105.413 737.077 Q110.02 732.424 111.2 731.081 Q113.445 728.558 114.325 726.822 Q115.228 725.063 115.228 723.373 Q115.228 720.618 113.283 718.882 Q111.362 717.146 108.26 717.146 Q106.061 717.146 103.608 717.91 Q101.177 718.674 98.3993 720.225 L98.3993 715.503 Q101.223 714.368 103.677 713.79 Q106.131 713.211 108.168 713.211 Q113.538 713.211 116.733 715.896 Q119.927 718.581 119.927 723.072 Q119.927 725.202 119.117 727.123 Q118.33 729.021 116.223 731.614 Q115.645 732.285 112.543 735.503 Q109.441 738.697 103.793 744.461 Z\" fill=\"#000000\" fill-rule=\"evenodd\" fill-opacity=\"1\" /><path clip-path=\"url(#clip070)\" d=\"M63.5847 359.615 Q59.9736 359.615 58.1449 363.18 Q56.3393 366.721 56.3393 373.851 Q56.3393 380.957 58.1449 384.522 Q59.9736 388.064 63.5847 388.064 Q67.2189 388.064 69.0244 384.522 Q70.8531 380.957 70.8531 373.851 Q70.8531 366.721 69.0244 363.18 Q67.2189 359.615 63.5847 359.615 M63.5847 355.911 Q69.3948 355.911 72.4503 360.518 Q75.529 365.101 75.529 373.851 Q75.529 382.578 72.4503 387.184 Q69.3948 391.767 63.5847 391.767 Q57.7745 391.767 54.6958 387.184 Q51.6403 382.578 51.6403 373.851 Q51.6403 365.101 54.6958 360.518 Q57.7745 355.911 63.5847 355.911 Z\" fill=\"#000000\" fill-rule=\"evenodd\" fill-opacity=\"1\" /><path clip-path=\"url(#clip070)\" d=\"M83.7466 385.217 L88.6308 385.217 L88.6308 391.096 L83.7466 391.096 L83.7466 385.217 Z\" fill=\"#000000\" fill-rule=\"evenodd\" fill-opacity=\"1\" /><path clip-path=\"url(#clip070)\" d=\"M112.983 372.462 Q116.339 373.18 118.214 375.448 Q120.112 377.717 120.112 381.05 Q120.112 386.166 116.594 388.967 Q113.075 391.767 106.594 391.767 Q104.418 391.767 102.103 391.328 Q99.8113 390.911 97.3576 390.054 L97.3576 385.541 Q99.3021 386.675 101.617 387.254 Q103.932 387.832 106.455 387.832 Q110.853 387.832 113.145 386.096 Q115.459 384.36 115.459 381.05 Q115.459 377.994 113.307 376.281 Q111.177 374.545 107.358 374.545 L103.33 374.545 L103.33 370.703 L107.543 370.703 Q110.992 370.703 112.82 369.337 Q114.649 367.948 114.649 365.356 Q114.649 362.694 112.751 361.281 Q110.876 359.846 107.358 359.846 Q105.436 359.846 103.237 360.263 Q101.038 360.68 98.3993 361.559 L98.3993 357.393 Q101.061 356.652 103.376 356.282 Q105.714 355.911 107.774 355.911 Q113.098 355.911 116.2 358.342 Q119.302 360.749 119.302 364.869 Q119.302 367.74 117.658 369.731 Q116.015 371.698 112.983 372.462 Z\" fill=\"#000000\" fill-rule=\"evenodd\" fill-opacity=\"1\" /><polyline clip-path=\"url(#clip072)\" style=\"stroke:#009af9; stroke-linecap:butt; stroke-linejoin:round; stroke-width:4; stroke-opacity:1; fill:none\" points=\"\n",
       "  218.281,87.9763 260.573,302.356 302.865,659.656 345.157,1231.34 387.449,1445.72 429.741,1374.26 472.033,1445.72 514.325,1445.72 556.617,1445.72 598.909,1445.72 \n",
       "  641.201,1445.72 683.493,1445.72 725.785,1445.72 768.077,1445.72 810.369,1445.72 852.661,1445.72 894.952,1445.72 937.244,1445.72 979.536,1445.72 1021.83,1445.72 \n",
       "  1064.12,1445.72 1106.41,1445.72 1148.7,1445.72 1191,1445.72 1233.29,1445.72 1275.58,1445.72 1317.87,1445.72 1360.16,1445.72 1402.46,1445.72 1444.75,1445.72 \n",
       "  1487.04,1445.72 1529.33,1445.72 1571.62,1445.72 1613.92,1445.72 1656.21,1445.72 1698.5,1445.72 1740.79,1445.72 1783.08,1445.72 1825.38,1445.72 1867.67,1445.72 \n",
       "  1909.96,1445.72 1952.25,1445.72 1994.54,1445.72 2036.84,1445.72 2079.13,1445.72 2121.42,1445.72 2163.71,1445.72 2206,1445.72 2248.29,1445.72 2290.59,1445.72 \n",
       "  \n",
       "  \"/>\n",
       "<path clip-path=\"url(#clip070)\" d=\"\n",
       "M1983.03 198.898 L2279.53 198.898 L2279.53 95.2176 L1983.03 95.2176  Z\n",
       "  \" fill=\"#ffffff\" fill-rule=\"evenodd\" fill-opacity=\"1\"/>\n",
       "<polyline clip-path=\"url(#clip070)\" style=\"stroke:#000000; stroke-linecap:butt; stroke-linejoin:round; stroke-width:4; stroke-opacity:1; fill:none\" points=\"\n",
       "  1983.03,198.898 2279.53,198.898 2279.53,95.2176 1983.03,95.2176 1983.03,198.898 \n",
       "  \"/>\n",
       "<polyline clip-path=\"url(#clip070)\" style=\"stroke:#009af9; stroke-linecap:butt; stroke-linejoin:round; stroke-width:4; stroke-opacity:1; fill:none\" points=\"\n",
       "  2007.44,147.058 2153.88,147.058 \n",
       "  \"/>\n",
       "<path clip-path=\"url(#clip070)\" d=\"M2192.13 166.745 Q2190.33 171.375 2188.61 172.787 Q2186.9 174.199 2184.03 174.199 L2180.63 174.199 L2180.63 170.634 L2183.13 170.634 Q2184.89 170.634 2185.86 169.8 Q2186.83 168.967 2188.01 165.865 L2188.78 163.921 L2178.29 138.412 L2182.8 138.412 L2190.91 158.689 L2199.01 138.412 L2203.52 138.412 L2192.13 166.745 Z\" fill=\"#000000\" fill-rule=\"evenodd\" fill-opacity=\"1\" /><path clip-path=\"url(#clip070)\" d=\"M2210.81 160.402 L2218.45 160.402 L2218.45 134.037 L2210.14 135.703 L2210.14 131.444 L2218.41 129.778 L2223.08 129.778 L2223.08 160.402 L2230.72 160.402 L2230.72 164.338 L2210.81 164.338 L2210.81 160.402 Z\" fill=\"#000000\" fill-rule=\"evenodd\" fill-opacity=\"1\" /></svg>\n"
      ]
     },
     "execution_count": 8,
     "metadata": {},
     "output_type": "execute_result"
    }
   ],
   "source": [
    "Counter_p = counter(Poisson_samples)\n",
    "Probabilities = fill(0.0, (NO_SAMPLE))\n",
    "for i in 0:NO_SAMPLE-1\n",
    "    Probabilities[i+1] = Counter_p[i]/NO_SAMPLE\n",
    "end\n",
    "plot(0:NO_SAMPLE-1,Probabilities)"
   ]
  },
  {
   "cell_type": "code",
   "execution_count": 14,
   "id": "cb43fd74",
   "metadata": {},
   "outputs": [],
   "source": [
    "X = fill(0,(NO_SAMPLE))\n",
    "for j in 1:NO_SAMPLE\n",
    "    U = Uniform_samples[j]\n",
    "    i = 0\n",
    "    p = ℯ^(-LAMBDA)\n",
    "    A = p\n",
    "    while A<1\n",
    "        if U < A\n",
    "            X[j] = 1\n",
    "            break\n",
    "        else\n",
    "            p = (LAMBDA/(i+1)) * p\n",
    "            A = A + p\n",
    "            i = i + 1\n",
    "        end\n",
    "    end\n",
    "end"
   ]
  },
  {
   "cell_type": "code",
   "execution_count": 15,
   "id": "9c68574c",
   "metadata": {},
   "outputs": [
    {
     "name": "stdout",
     "output_type": "stream",
     "text": [
      "1.0\n",
      "0.0\n"
     ]
    }
   ],
   "source": [
    "mean_ = mean(X)\n",
    "var_ = var(X)\n",
    "println(mean_)\n",
    "println(var_)"
   ]
  },
  {
   "cell_type": "code",
   "execution_count": 13,
   "id": "3e9001c6",
   "metadata": {},
   "outputs": [
    {
     "data": {
      "image/svg+xml": [
       "<?xml version=\"1.0\" encoding=\"utf-8\"?>\n",
       "<svg xmlns=\"http://www.w3.org/2000/svg\" xmlns:xlink=\"http://www.w3.org/1999/xlink\" width=\"600\" height=\"400\" viewBox=\"0 0 2400 1600\">\n",
       "<defs>\n",
       "  <clipPath id=\"clip150\">\n",
       "    <rect x=\"0\" y=\"0\" width=\"2400\" height=\"1600\"/>\n",
       "  </clipPath>\n",
       "</defs>\n",
       "<path clip-path=\"url(#clip150)\" d=\"\n",
       "M0 1600 L2400 1600 L2400 0 L0 0  Z\n",
       "  \" fill=\"#ffffff\" fill-rule=\"evenodd\" fill-opacity=\"1\"/>\n",
       "<defs>\n",
       "  <clipPath id=\"clip151\">\n",
       "    <rect x=\"480\" y=\"0\" width=\"1681\" height=\"1600\"/>\n",
       "  </clipPath>\n",
       "</defs>\n",
       "<path clip-path=\"url(#clip150)\" d=\"\n",
       "M186.274 1486.45 L2352.76 1486.45 L2352.76 47.2441 L186.274 47.2441  Z\n",
       "  \" fill=\"#ffffff\" fill-rule=\"evenodd\" fill-opacity=\"1\"/>\n",
       "<defs>\n",
       "  <clipPath id=\"clip152\">\n",
       "    <rect x=\"186\" y=\"47\" width=\"2167\" height=\"1440\"/>\n",
       "  </clipPath>\n",
       "</defs>\n",
       "<polyline clip-path=\"url(#clip152)\" style=\"stroke:#000000; stroke-linecap:butt; stroke-linejoin:round; stroke-width:2; stroke-opacity:0.1; fill:none\" points=\"\n",
       "  247.59,1486.45 247.59,47.2441 \n",
       "  \"/>\n",
       "<polyline clip-path=\"url(#clip152)\" style=\"stroke:#000000; stroke-linecap:butt; stroke-linejoin:round; stroke-width:2; stroke-opacity:0.1; fill:none\" points=\"\n",
       "  664.702,1486.45 664.702,47.2441 \n",
       "  \"/>\n",
       "<polyline clip-path=\"url(#clip152)\" style=\"stroke:#000000; stroke-linecap:butt; stroke-linejoin:round; stroke-width:2; stroke-opacity:0.1; fill:none\" points=\"\n",
       "  1081.81,1486.45 1081.81,47.2441 \n",
       "  \"/>\n",
       "<polyline clip-path=\"url(#clip152)\" style=\"stroke:#000000; stroke-linecap:butt; stroke-linejoin:round; stroke-width:2; stroke-opacity:0.1; fill:none\" points=\"\n",
       "  1498.93,1486.45 1498.93,47.2441 \n",
       "  \"/>\n",
       "<polyline clip-path=\"url(#clip152)\" style=\"stroke:#000000; stroke-linecap:butt; stroke-linejoin:round; stroke-width:2; stroke-opacity:0.1; fill:none\" points=\"\n",
       "  1916.04,1486.45 1916.04,47.2441 \n",
       "  \"/>\n",
       "<polyline clip-path=\"url(#clip152)\" style=\"stroke:#000000; stroke-linecap:butt; stroke-linejoin:round; stroke-width:2; stroke-opacity:0.1; fill:none\" points=\"\n",
       "  2333.15,1486.45 2333.15,47.2441 \n",
       "  \"/>\n",
       "<polyline clip-path=\"url(#clip150)\" style=\"stroke:#000000; stroke-linecap:butt; stroke-linejoin:round; stroke-width:4; stroke-opacity:1; fill:none\" points=\"\n",
       "  186.274,1486.45 2352.76,1486.45 \n",
       "  \"/>\n",
       "<polyline clip-path=\"url(#clip150)\" style=\"stroke:#000000; stroke-linecap:butt; stroke-linejoin:round; stroke-width:4; stroke-opacity:1; fill:none\" points=\"\n",
       "  247.59,1486.45 247.59,1467.55 \n",
       "  \"/>\n",
       "<polyline clip-path=\"url(#clip150)\" style=\"stroke:#000000; stroke-linecap:butt; stroke-linejoin:round; stroke-width:4; stroke-opacity:1; fill:none\" points=\"\n",
       "  664.702,1486.45 664.702,1467.55 \n",
       "  \"/>\n",
       "<polyline clip-path=\"url(#clip150)\" style=\"stroke:#000000; stroke-linecap:butt; stroke-linejoin:round; stroke-width:4; stroke-opacity:1; fill:none\" points=\"\n",
       "  1081.81,1486.45 1081.81,1467.55 \n",
       "  \"/>\n",
       "<polyline clip-path=\"url(#clip150)\" style=\"stroke:#000000; stroke-linecap:butt; stroke-linejoin:round; stroke-width:4; stroke-opacity:1; fill:none\" points=\"\n",
       "  1498.93,1486.45 1498.93,1467.55 \n",
       "  \"/>\n",
       "<polyline clip-path=\"url(#clip150)\" style=\"stroke:#000000; stroke-linecap:butt; stroke-linejoin:round; stroke-width:4; stroke-opacity:1; fill:none\" points=\"\n",
       "  1916.04,1486.45 1916.04,1467.55 \n",
       "  \"/>\n",
       "<polyline clip-path=\"url(#clip150)\" style=\"stroke:#000000; stroke-linecap:butt; stroke-linejoin:round; stroke-width:4; stroke-opacity:1; fill:none\" points=\"\n",
       "  2333.15,1486.45 2333.15,1467.55 \n",
       "  \"/>\n",
       "<path clip-path=\"url(#clip150)\" d=\"M247.59 1517.37 Q243.978 1517.37 242.15 1520.93 Q240.344 1524.47 240.344 1531.6 Q240.344 1538.71 242.15 1542.27 Q243.978 1545.82 247.59 1545.82 Q251.224 1545.82 253.029 1542.27 Q254.858 1538.71 254.858 1531.6 Q254.858 1524.47 253.029 1520.93 Q251.224 1517.37 247.59 1517.37 M247.59 1513.66 Q253.4 1513.66 256.455 1518.27 Q259.534 1522.85 259.534 1531.6 Q259.534 1540.33 256.455 1544.94 Q253.4 1549.52 247.59 1549.52 Q241.779 1549.52 238.701 1544.94 Q235.645 1540.33 235.645 1531.6 Q235.645 1522.85 238.701 1518.27 Q241.779 1513.66 247.59 1513.66 Z\" fill=\"#000000\" fill-rule=\"evenodd\" fill-opacity=\"1\" /><path clip-path=\"url(#clip150)\" d=\"M639.39 1544.91 L647.028 1544.91 L647.028 1518.55 L638.718 1520.21 L638.718 1515.95 L646.982 1514.29 L651.658 1514.29 L651.658 1544.91 L659.297 1544.91 L659.297 1548.85 L639.39 1548.85 L639.39 1544.91 Z\" fill=\"#000000\" fill-rule=\"evenodd\" fill-opacity=\"1\" /><path clip-path=\"url(#clip150)\" d=\"M678.741 1517.37 Q675.13 1517.37 673.301 1520.93 Q671.496 1524.47 671.496 1531.6 Q671.496 1538.71 673.301 1542.27 Q675.13 1545.82 678.741 1545.82 Q682.375 1545.82 684.181 1542.27 Q686.01 1538.71 686.01 1531.6 Q686.01 1524.47 684.181 1520.93 Q682.375 1517.37 678.741 1517.37 M678.741 1513.66 Q684.551 1513.66 687.607 1518.27 Q690.686 1522.85 690.686 1531.6 Q690.686 1540.33 687.607 1544.94 Q684.551 1549.52 678.741 1549.52 Q672.931 1549.52 669.852 1544.94 Q666.797 1540.33 666.797 1531.6 Q666.797 1522.85 669.852 1518.27 Q672.931 1513.66 678.741 1513.66 Z\" fill=\"#000000\" fill-rule=\"evenodd\" fill-opacity=\"1\" /><path clip-path=\"url(#clip150)\" d=\"M1060.59 1544.91 L1076.91 1544.91 L1076.91 1548.85 L1054.96 1548.85 L1054.96 1544.91 Q1057.62 1542.16 1062.21 1537.53 Q1066.81 1532.88 1067.99 1531.53 Q1070.24 1529.01 1071.12 1527.27 Q1072.02 1525.51 1072.02 1523.82 Q1072.02 1521.07 1070.08 1519.33 Q1068.16 1517.6 1065.06 1517.6 Q1062.86 1517.6 1060.4 1518.36 Q1057.97 1519.13 1055.19 1520.68 L1055.19 1515.95 Q1058.02 1514.82 1060.47 1514.24 Q1062.93 1513.66 1064.96 1513.66 Q1070.33 1513.66 1073.53 1516.35 Q1076.72 1519.03 1076.72 1523.52 Q1076.72 1525.65 1075.91 1527.57 Q1075.12 1529.47 1073.02 1532.07 Q1072.44 1532.74 1069.34 1535.95 Q1066.24 1539.15 1060.59 1544.91 Z\" fill=\"#000000\" fill-rule=\"evenodd\" fill-opacity=\"1\" /><path clip-path=\"url(#clip150)\" d=\"M1096.72 1517.37 Q1093.11 1517.37 1091.28 1520.93 Q1089.48 1524.47 1089.48 1531.6 Q1089.48 1538.71 1091.28 1542.27 Q1093.11 1545.82 1096.72 1545.82 Q1100.36 1545.82 1102.16 1542.27 Q1103.99 1538.71 1103.99 1531.6 Q1103.99 1524.47 1102.16 1520.93 Q1100.36 1517.37 1096.72 1517.37 M1096.72 1513.66 Q1102.53 1513.66 1105.59 1518.27 Q1108.67 1522.85 1108.67 1531.6 Q1108.67 1540.33 1105.59 1544.94 Q1102.53 1549.52 1096.72 1549.52 Q1090.91 1549.52 1087.83 1544.94 Q1084.78 1540.33 1084.78 1531.6 Q1084.78 1522.85 1087.83 1518.27 Q1090.91 1513.66 1096.72 1513.66 Z\" fill=\"#000000\" fill-rule=\"evenodd\" fill-opacity=\"1\" /><path clip-path=\"url(#clip150)\" d=\"M1487.77 1530.21 Q1491.13 1530.93 1493 1533.2 Q1494.9 1535.47 1494.9 1538.8 Q1494.9 1543.92 1491.38 1546.72 Q1487.86 1549.52 1481.38 1549.52 Q1479.2 1549.52 1476.89 1549.08 Q1474.6 1548.66 1472.14 1547.81 L1472.14 1543.29 Q1474.09 1544.43 1476.4 1545.01 Q1478.72 1545.58 1481.24 1545.58 Q1485.64 1545.58 1487.93 1543.85 Q1490.25 1542.11 1490.25 1538.8 Q1490.25 1535.75 1488.09 1534.03 Q1485.96 1532.3 1482.14 1532.3 L1478.12 1532.3 L1478.12 1528.45 L1482.33 1528.45 Q1485.78 1528.45 1487.61 1527.09 Q1489.44 1525.7 1489.44 1523.11 Q1489.44 1520.45 1487.54 1519.03 Q1485.66 1517.6 1482.14 1517.6 Q1480.22 1517.6 1478.02 1518.01 Q1475.83 1518.43 1473.19 1519.31 L1473.19 1515.14 Q1475.85 1514.4 1478.16 1514.03 Q1480.5 1513.66 1482.56 1513.66 Q1487.89 1513.66 1490.99 1516.09 Q1494.09 1518.5 1494.09 1522.62 Q1494.09 1525.49 1492.45 1527.48 Q1490.8 1529.45 1487.77 1530.21 Z\" fill=\"#000000\" fill-rule=\"evenodd\" fill-opacity=\"1\" /><path clip-path=\"url(#clip150)\" d=\"M1513.76 1517.37 Q1510.15 1517.37 1508.32 1520.93 Q1506.52 1524.47 1506.52 1531.6 Q1506.52 1538.71 1508.32 1542.27 Q1510.15 1545.82 1513.76 1545.82 Q1517.4 1545.82 1519.2 1542.27 Q1521.03 1538.71 1521.03 1531.6 Q1521.03 1524.47 1519.2 1520.93 Q1517.4 1517.37 1513.76 1517.37 M1513.76 1513.66 Q1519.57 1513.66 1522.63 1518.27 Q1525.71 1522.85 1525.71 1531.6 Q1525.71 1540.33 1522.63 1544.94 Q1519.57 1549.52 1513.76 1549.52 Q1507.95 1549.52 1504.88 1544.94 Q1501.82 1540.33 1501.82 1531.6 Q1501.82 1522.85 1504.88 1518.27 Q1507.95 1513.66 1513.76 1513.66 Z\" fill=\"#000000\" fill-rule=\"evenodd\" fill-opacity=\"1\" /><path clip-path=\"url(#clip150)\" d=\"M1904.21 1518.36 L1892.41 1536.81 L1904.21 1536.81 L1904.21 1518.36 M1902.98 1514.29 L1908.86 1514.29 L1908.86 1536.81 L1913.79 1536.81 L1913.79 1540.7 L1908.86 1540.7 L1908.86 1548.85 L1904.21 1548.85 L1904.21 1540.7 L1888.61 1540.7 L1888.61 1536.19 L1902.98 1514.29 Z\" fill=\"#000000\" fill-rule=\"evenodd\" fill-opacity=\"1\" /><path clip-path=\"url(#clip150)\" d=\"M1931.53 1517.37 Q1927.91 1517.37 1926.09 1520.93 Q1924.28 1524.47 1924.28 1531.6 Q1924.28 1538.71 1926.09 1542.27 Q1927.91 1545.82 1931.53 1545.82 Q1935.16 1545.82 1936.97 1542.27 Q1938.79 1538.71 1938.79 1531.6 Q1938.79 1524.47 1936.97 1520.93 Q1935.16 1517.37 1931.53 1517.37 M1931.53 1513.66 Q1937.34 1513.66 1940.39 1518.27 Q1943.47 1522.85 1943.47 1531.6 Q1943.47 1540.33 1940.39 1544.94 Q1937.34 1549.52 1931.53 1549.52 Q1925.72 1549.52 1922.64 1544.94 Q1919.58 1540.33 1919.58 1531.6 Q1919.58 1522.85 1922.64 1518.27 Q1925.72 1513.66 1931.53 1513.66 Z\" fill=\"#000000\" fill-rule=\"evenodd\" fill-opacity=\"1\" /><path clip-path=\"url(#clip150)\" d=\"M2307.85 1514.29 L2326.21 1514.29 L2326.21 1518.22 L2312.13 1518.22 L2312.13 1526.7 Q2313.15 1526.35 2314.17 1526.19 Q2315.19 1526 2316.21 1526 Q2321.99 1526 2325.37 1529.17 Q2328.75 1532.34 2328.75 1537.76 Q2328.75 1543.34 2325.28 1546.44 Q2321.81 1549.52 2315.49 1549.52 Q2313.31 1549.52 2311.05 1549.15 Q2308.8 1548.78 2306.39 1548.04 L2306.39 1543.34 Q2308.48 1544.47 2310.7 1545.03 Q2312.92 1545.58 2315.4 1545.58 Q2319.4 1545.58 2321.74 1543.48 Q2324.08 1541.37 2324.08 1537.76 Q2324.08 1534.15 2321.74 1532.04 Q2319.4 1529.94 2315.4 1529.94 Q2313.52 1529.94 2311.65 1530.35 Q2309.8 1530.77 2307.85 1531.65 L2307.85 1514.29 Z\" fill=\"#000000\" fill-rule=\"evenodd\" fill-opacity=\"1\" /><path clip-path=\"url(#clip150)\" d=\"M2347.97 1517.37 Q2344.36 1517.37 2342.53 1520.93 Q2340.72 1524.47 2340.72 1531.6 Q2340.72 1538.71 2342.53 1542.27 Q2344.36 1545.82 2347.97 1545.82 Q2351.6 1545.82 2353.41 1542.27 Q2355.23 1538.71 2355.23 1531.6 Q2355.23 1524.47 2353.41 1520.93 Q2351.6 1517.37 2347.97 1517.37 M2347.97 1513.66 Q2353.78 1513.66 2356.83 1518.27 Q2359.91 1522.85 2359.91 1531.6 Q2359.91 1540.33 2356.83 1544.94 Q2353.78 1549.52 2347.97 1549.52 Q2342.16 1549.52 2339.08 1544.94 Q2336.02 1540.33 2336.02 1531.6 Q2336.02 1522.85 2339.08 1518.27 Q2342.16 1513.66 2347.97 1513.66 Z\" fill=\"#000000\" fill-rule=\"evenodd\" fill-opacity=\"1\" /><polyline clip-path=\"url(#clip152)\" style=\"stroke:#000000; stroke-linecap:butt; stroke-linejoin:round; stroke-width:2; stroke-opacity:0.1; fill:none\" points=\"\n",
       "  186.274,1445.72 2352.76,1445.72 \n",
       "  \"/>\n",
       "<polyline clip-path=\"url(#clip152)\" style=\"stroke:#000000; stroke-linecap:butt; stroke-linejoin:round; stroke-width:2; stroke-opacity:0.1; fill:none\" points=\"\n",
       "  186.274,1106.28 2352.76,1106.28 \n",
       "  \"/>\n",
       "<polyline clip-path=\"url(#clip152)\" style=\"stroke:#000000; stroke-linecap:butt; stroke-linejoin:round; stroke-width:2; stroke-opacity:0.1; fill:none\" points=\"\n",
       "  186.274,766.846 2352.76,766.846 \n",
       "  \"/>\n",
       "<polyline clip-path=\"url(#clip152)\" style=\"stroke:#000000; stroke-linecap:butt; stroke-linejoin:round; stroke-width:2; stroke-opacity:0.1; fill:none\" points=\"\n",
       "  186.274,427.411 2352.76,427.411 \n",
       "  \"/>\n",
       "<polyline clip-path=\"url(#clip152)\" style=\"stroke:#000000; stroke-linecap:butt; stroke-linejoin:round; stroke-width:2; stroke-opacity:0.1; fill:none\" points=\"\n",
       "  186.274,87.9763 2352.76,87.9763 \n",
       "  \"/>\n",
       "<polyline clip-path=\"url(#clip150)\" style=\"stroke:#000000; stroke-linecap:butt; stroke-linejoin:round; stroke-width:4; stroke-opacity:1; fill:none\" points=\"\n",
       "  186.274,1486.45 186.274,47.2441 \n",
       "  \"/>\n",
       "<polyline clip-path=\"url(#clip150)\" style=\"stroke:#000000; stroke-linecap:butt; stroke-linejoin:round; stroke-width:4; stroke-opacity:1; fill:none\" points=\"\n",
       "  186.274,1445.72 205.172,1445.72 \n",
       "  \"/>\n",
       "<polyline clip-path=\"url(#clip150)\" style=\"stroke:#000000; stroke-linecap:butt; stroke-linejoin:round; stroke-width:4; stroke-opacity:1; fill:none\" points=\"\n",
       "  186.274,1106.28 205.172,1106.28 \n",
       "  \"/>\n",
       "<polyline clip-path=\"url(#clip150)\" style=\"stroke:#000000; stroke-linecap:butt; stroke-linejoin:round; stroke-width:4; stroke-opacity:1; fill:none\" points=\"\n",
       "  186.274,766.846 205.172,766.846 \n",
       "  \"/>\n",
       "<polyline clip-path=\"url(#clip150)\" style=\"stroke:#000000; stroke-linecap:butt; stroke-linejoin:round; stroke-width:4; stroke-opacity:1; fill:none\" points=\"\n",
       "  186.274,427.411 205.172,427.411 \n",
       "  \"/>\n",
       "<polyline clip-path=\"url(#clip150)\" style=\"stroke:#000000; stroke-linecap:butt; stroke-linejoin:round; stroke-width:4; stroke-opacity:1; fill:none\" points=\"\n",
       "  186.274,87.9763 205.172,87.9763 \n",
       "  \"/>\n",
       "<path clip-path=\"url(#clip150)\" d=\"M62.9365 1431.51 Q59.3254 1431.51 57.4967 1435.08 Q55.6912 1438.62 55.6912 1445.75 Q55.6912 1452.86 57.4967 1456.42 Q59.3254 1459.96 62.9365 1459.96 Q66.5707 1459.96 68.3763 1456.42 Q70.205 1452.86 70.205 1445.75 Q70.205 1438.62 68.3763 1435.08 Q66.5707 1431.51 62.9365 1431.51 M62.9365 1427.81 Q68.7467 1427.81 71.8022 1432.42 Q74.8809 1437 74.8809 1445.75 Q74.8809 1454.48 71.8022 1459.08 Q68.7467 1463.67 62.9365 1463.67 Q57.1264 1463.67 54.0477 1459.08 Q50.9921 1454.48 50.9921 1445.75 Q50.9921 1437 54.0477 1432.42 Q57.1264 1427.81 62.9365 1427.81 Z\" fill=\"#000000\" fill-rule=\"evenodd\" fill-opacity=\"1\" /><path clip-path=\"url(#clip150)\" d=\"M83.0984 1457.12 L87.9827 1457.12 L87.9827 1463 L83.0984 1463 L83.0984 1457.12 Z\" fill=\"#000000\" fill-rule=\"evenodd\" fill-opacity=\"1\" /><path clip-path=\"url(#clip150)\" d=\"M108.168 1431.51 Q104.557 1431.51 102.728 1435.08 Q100.922 1438.62 100.922 1445.75 Q100.922 1452.86 102.728 1456.42 Q104.557 1459.96 108.168 1459.96 Q111.802 1459.96 113.608 1456.42 Q115.436 1452.86 115.436 1445.75 Q115.436 1438.62 113.608 1435.08 Q111.802 1431.51 108.168 1431.51 M108.168 1427.81 Q113.978 1427.81 117.033 1432.42 Q120.112 1437 120.112 1445.75 Q120.112 1454.48 117.033 1459.08 Q113.978 1463.67 108.168 1463.67 Q102.358 1463.67 99.2789 1459.08 Q96.2234 1454.48 96.2234 1445.75 Q96.2234 1437 99.2789 1432.42 Q102.358 1427.81 108.168 1427.81 Z\" fill=\"#000000\" fill-rule=\"evenodd\" fill-opacity=\"1\" /><path clip-path=\"url(#clip150)\" d=\"M138.33 1431.51 Q134.719 1431.51 132.89 1435.08 Q131.084 1438.62 131.084 1445.75 Q131.084 1452.86 132.89 1456.42 Q134.719 1459.96 138.33 1459.96 Q141.964 1459.96 143.769 1456.42 Q145.598 1452.86 145.598 1445.75 Q145.598 1438.62 143.769 1435.08 Q141.964 1431.51 138.33 1431.51 M138.33 1427.81 Q144.14 1427.81 147.195 1432.42 Q150.274 1437 150.274 1445.75 Q150.274 1454.48 147.195 1459.08 Q144.14 1463.67 138.33 1463.67 Q132.519 1463.67 129.441 1459.08 Q126.385 1454.48 126.385 1445.75 Q126.385 1437 129.441 1432.42 Q132.519 1427.81 138.33 1427.81 Z\" fill=\"#000000\" fill-rule=\"evenodd\" fill-opacity=\"1\" /><path clip-path=\"url(#clip150)\" d=\"M63.9319 1092.08 Q60.3208 1092.08 58.4921 1095.64 Q56.6865 1099.19 56.6865 1106.32 Q56.6865 1113.42 58.4921 1116.99 Q60.3208 1120.53 63.9319 1120.53 Q67.5661 1120.53 69.3717 1116.99 Q71.2004 1113.42 71.2004 1106.32 Q71.2004 1099.19 69.3717 1095.64 Q67.5661 1092.08 63.9319 1092.08 M63.9319 1088.38 Q69.742 1088.38 72.7976 1092.98 Q75.8763 1097.57 75.8763 1106.32 Q75.8763 1115.04 72.7976 1119.65 Q69.742 1124.23 63.9319 1124.23 Q58.1217 1124.23 55.043 1119.65 Q51.9875 1115.04 51.9875 1106.32 Q51.9875 1097.57 55.043 1092.98 Q58.1217 1088.38 63.9319 1088.38 Z\" fill=\"#000000\" fill-rule=\"evenodd\" fill-opacity=\"1\" /><path clip-path=\"url(#clip150)\" d=\"M84.0938 1117.68 L88.978 1117.68 L88.978 1123.56 L84.0938 1123.56 L84.0938 1117.68 Z\" fill=\"#000000\" fill-rule=\"evenodd\" fill-opacity=\"1\" /><path clip-path=\"url(#clip150)\" d=\"M103.191 1119.63 L119.51 1119.63 L119.51 1123.56 L97.566 1123.56 L97.566 1119.63 Q100.228 1116.87 104.811 1112.24 Q109.418 1107.59 110.598 1106.25 Q112.844 1103.72 113.723 1101.99 Q114.626 1100.23 114.626 1098.54 Q114.626 1095.78 112.682 1094.05 Q110.76 1092.31 107.658 1092.31 Q105.459 1092.31 103.006 1093.07 Q100.575 1093.84 97.7974 1095.39 L97.7974 1090.67 Q100.621 1089.53 103.075 1088.95 Q105.529 1088.38 107.566 1088.38 Q112.936 1088.38 116.131 1091.06 Q119.325 1093.75 119.325 1098.24 Q119.325 1100.37 118.515 1102.29 Q117.728 1104.19 115.621 1106.78 Q115.043 1107.45 111.941 1110.67 Q108.839 1113.86 103.191 1119.63 Z\" fill=\"#000000\" fill-rule=\"evenodd\" fill-opacity=\"1\" /><path clip-path=\"url(#clip150)\" d=\"M129.371 1089 L147.728 1089 L147.728 1092.94 L133.654 1092.94 L133.654 1101.41 Q134.672 1101.06 135.691 1100.9 Q136.709 1100.71 137.728 1100.71 Q143.515 1100.71 146.894 1103.89 Q150.274 1107.06 150.274 1112.47 Q150.274 1118.05 146.802 1121.15 Q143.33 1124.23 137.01 1124.23 Q134.834 1124.23 132.566 1123.86 Q130.32 1123.49 127.913 1122.75 L127.913 1118.05 Q129.996 1119.19 132.219 1119.74 Q134.441 1120.3 136.918 1120.3 Q140.922 1120.3 143.26 1118.19 Q145.598 1116.08 145.598 1112.47 Q145.598 1108.86 143.26 1106.76 Q140.922 1104.65 136.918 1104.65 Q135.043 1104.65 133.168 1105.07 Q131.316 1105.48 129.371 1106.36 L129.371 1089 Z\" fill=\"#000000\" fill-rule=\"evenodd\" fill-opacity=\"1\" /><path clip-path=\"url(#clip150)\" d=\"M62.9365 752.645 Q59.3254 752.645 57.4967 756.209 Q55.6912 759.751 55.6912 766.881 Q55.6912 773.987 57.4967 777.552 Q59.3254 781.094 62.9365 781.094 Q66.5707 781.094 68.3763 777.552 Q70.205 773.987 70.205 766.881 Q70.205 759.751 68.3763 756.209 Q66.5707 752.645 62.9365 752.645 M62.9365 748.941 Q68.7467 748.941 71.8022 753.547 Q74.8809 758.131 74.8809 766.881 Q74.8809 775.608 71.8022 780.214 Q68.7467 784.797 62.9365 784.797 Q57.1264 784.797 54.0477 780.214 Q50.9921 775.608 50.9921 766.881 Q50.9921 758.131 54.0477 753.547 Q57.1264 748.941 62.9365 748.941 Z\" fill=\"#000000\" fill-rule=\"evenodd\" fill-opacity=\"1\" /><path clip-path=\"url(#clip150)\" d=\"M83.0984 778.246 L87.9827 778.246 L87.9827 784.126 L83.0984 784.126 L83.0984 778.246 Z\" fill=\"#000000\" fill-rule=\"evenodd\" fill-opacity=\"1\" /><path clip-path=\"url(#clip150)\" d=\"M98.2141 749.566 L116.57 749.566 L116.57 753.501 L102.496 753.501 L102.496 761.973 Q103.515 761.626 104.534 761.464 Q105.552 761.279 106.571 761.279 Q112.358 761.279 115.737 764.45 Q119.117 767.621 119.117 773.038 Q119.117 778.617 115.645 781.719 Q112.172 784.797 105.853 784.797 Q103.677 784.797 101.409 784.427 Q99.1632 784.057 96.7558 783.316 L96.7558 778.617 Q98.8391 779.751 101.061 780.307 Q103.284 780.862 105.76 780.862 Q109.765 780.862 112.103 778.756 Q114.441 776.649 114.441 773.038 Q114.441 769.427 112.103 767.321 Q109.765 765.214 105.76 765.214 Q103.885 765.214 102.01 765.631 Q100.159 766.047 98.2141 766.927 L98.2141 749.566 Z\" fill=\"#000000\" fill-rule=\"evenodd\" fill-opacity=\"1\" /><path clip-path=\"url(#clip150)\" d=\"M138.33 752.645 Q134.719 752.645 132.89 756.209 Q131.084 759.751 131.084 766.881 Q131.084 773.987 132.89 777.552 Q134.719 781.094 138.33 781.094 Q141.964 781.094 143.769 777.552 Q145.598 773.987 145.598 766.881 Q145.598 759.751 143.769 756.209 Q141.964 752.645 138.33 752.645 M138.33 748.941 Q144.14 748.941 147.195 753.547 Q150.274 758.131 150.274 766.881 Q150.274 775.608 147.195 780.214 Q144.14 784.797 138.33 784.797 Q132.519 784.797 129.441 780.214 Q126.385 775.608 126.385 766.881 Q126.385 758.131 129.441 753.547 Q132.519 748.941 138.33 748.941 Z\" fill=\"#000000\" fill-rule=\"evenodd\" fill-opacity=\"1\" /><path clip-path=\"url(#clip150)\" d=\"M63.9319 413.21 Q60.3208 413.21 58.4921 416.775 Q56.6865 420.316 56.6865 427.446 Q56.6865 434.552 58.4921 438.117 Q60.3208 441.659 63.9319 441.659 Q67.5661 441.659 69.3717 438.117 Q71.2004 434.552 71.2004 427.446 Q71.2004 420.316 69.3717 416.775 Q67.5661 413.21 63.9319 413.21 M63.9319 409.506 Q69.742 409.506 72.7976 414.113 Q75.8763 418.696 75.8763 427.446 Q75.8763 436.173 72.7976 440.779 Q69.742 445.362 63.9319 445.362 Q58.1217 445.362 55.043 440.779 Q51.9875 436.173 51.9875 427.446 Q51.9875 418.696 55.043 414.113 Q58.1217 409.506 63.9319 409.506 Z\" fill=\"#000000\" fill-rule=\"evenodd\" fill-opacity=\"1\" /><path clip-path=\"url(#clip150)\" d=\"M84.0938 438.812 L88.978 438.812 L88.978 444.691 L84.0938 444.691 L84.0938 438.812 Z\" fill=\"#000000\" fill-rule=\"evenodd\" fill-opacity=\"1\" /><path clip-path=\"url(#clip150)\" d=\"M97.9826 410.131 L120.205 410.131 L120.205 412.122 L107.658 444.691 L102.774 444.691 L114.58 414.066 L97.9826 414.066 L97.9826 410.131 Z\" fill=\"#000000\" fill-rule=\"evenodd\" fill-opacity=\"1\" /><path clip-path=\"url(#clip150)\" d=\"M129.371 410.131 L147.728 410.131 L147.728 414.066 L133.654 414.066 L133.654 422.538 Q134.672 422.191 135.691 422.029 Q136.709 421.844 137.728 421.844 Q143.515 421.844 146.894 425.015 Q150.274 428.187 150.274 433.603 Q150.274 439.182 146.802 442.284 Q143.33 445.362 137.01 445.362 Q134.834 445.362 132.566 444.992 Q130.32 444.622 127.913 443.881 L127.913 439.182 Q129.996 440.316 132.219 440.872 Q134.441 441.427 136.918 441.427 Q140.922 441.427 143.26 439.321 Q145.598 437.214 145.598 433.603 Q145.598 429.992 143.26 427.886 Q140.922 425.779 136.918 425.779 Q135.043 425.779 133.168 426.196 Q131.316 426.613 129.371 427.492 L129.371 410.131 Z\" fill=\"#000000\" fill-rule=\"evenodd\" fill-opacity=\"1\" /><path clip-path=\"url(#clip150)\" d=\"M53.7467 101.321 L61.3856 101.321 L61.3856 74.9555 L53.0754 76.6222 L53.0754 72.3629 L61.3393 70.6963 L66.0152 70.6963 L66.0152 101.321 L73.654 101.321 L73.654 105.256 L53.7467 105.256 L53.7467 101.321 Z\" fill=\"#000000\" fill-rule=\"evenodd\" fill-opacity=\"1\" /><path clip-path=\"url(#clip150)\" d=\"M83.0984 99.3767 L87.9827 99.3767 L87.9827 105.256 L83.0984 105.256 L83.0984 99.3767 Z\" fill=\"#000000\" fill-rule=\"evenodd\" fill-opacity=\"1\" /><path clip-path=\"url(#clip150)\" d=\"M108.168 73.775 Q104.557 73.775 102.728 77.3398 Q100.922 80.8814 100.922 88.011 Q100.922 95.1174 102.728 98.6822 Q104.557 102.224 108.168 102.224 Q111.802 102.224 113.608 98.6822 Q115.436 95.1174 115.436 88.011 Q115.436 80.8814 113.608 77.3398 Q111.802 73.775 108.168 73.775 M108.168 70.0713 Q113.978 70.0713 117.033 74.6777 Q120.112 79.261 120.112 88.011 Q120.112 96.7378 117.033 101.344 Q113.978 105.928 108.168 105.928 Q102.358 105.928 99.2789 101.344 Q96.2234 96.7378 96.2234 88.011 Q96.2234 79.261 99.2789 74.6777 Q102.358 70.0713 108.168 70.0713 Z\" fill=\"#000000\" fill-rule=\"evenodd\" fill-opacity=\"1\" /><path clip-path=\"url(#clip150)\" d=\"M138.33 73.775 Q134.719 73.775 132.89 77.3398 Q131.084 80.8814 131.084 88.011 Q131.084 95.1174 132.89 98.6822 Q134.719 102.224 138.33 102.224 Q141.964 102.224 143.769 98.6822 Q145.598 95.1174 145.598 88.011 Q145.598 80.8814 143.769 77.3398 Q141.964 73.775 138.33 73.775 M138.33 70.0713 Q144.14 70.0713 147.195 74.6777 Q150.274 79.261 150.274 88.011 Q150.274 96.7378 147.195 101.344 Q144.14 105.928 138.33 105.928 Q132.519 105.928 129.441 101.344 Q126.385 96.7378 126.385 88.011 Q126.385 79.261 129.441 74.6777 Q132.519 70.0713 138.33 70.0713 Z\" fill=\"#000000\" fill-rule=\"evenodd\" fill-opacity=\"1\" /><polyline clip-path=\"url(#clip152)\" style=\"stroke:#009af9; stroke-linecap:butt; stroke-linejoin:round; stroke-width:4; stroke-opacity:1; fill:none\" points=\"\n",
       "  247.59,1445.72 289.301,87.9763 331.012,1445.72 372.723,1445.72 414.434,1445.72 456.146,1445.72 497.857,1445.72 539.568,1445.72 581.279,1445.72 622.991,1445.72 \n",
       "  664.702,1445.72 706.413,1445.72 748.124,1445.72 789.836,1445.72 831.547,1445.72 873.258,1445.72 914.969,1445.72 956.681,1445.72 998.392,1445.72 1040.1,1445.72 \n",
       "  1081.81,1445.72 1123.53,1445.72 1165.24,1445.72 1206.95,1445.72 1248.66,1445.72 1290.37,1445.72 1332.08,1445.72 1373.79,1445.72 1415.5,1445.72 1457.22,1445.72 \n",
       "  1498.93,1445.72 1540.64,1445.72 1582.35,1445.72 1624.06,1445.72 1665.77,1445.72 1707.48,1445.72 1749.19,1445.72 1790.91,1445.72 1832.62,1445.72 1874.33,1445.72 \n",
       "  1916.04,1445.72 1957.75,1445.72 1999.46,1445.72 2041.17,1445.72 2082.88,1445.72 2124.6,1445.72 2166.31,1445.72 2208.02,1445.72 2249.73,1445.72 2291.44,1445.72 \n",
       "  \n",
       "  \"/>\n",
       "<path clip-path=\"url(#clip150)\" d=\"\n",
       "M1987.39 198.898 L2280.54 198.898 L2280.54 95.2176 L1987.39 95.2176  Z\n",
       "  \" fill=\"#ffffff\" fill-rule=\"evenodd\" fill-opacity=\"1\"/>\n",
       "<polyline clip-path=\"url(#clip150)\" style=\"stroke:#000000; stroke-linecap:butt; stroke-linejoin:round; stroke-width:4; stroke-opacity:1; fill:none\" points=\"\n",
       "  1987.39,198.898 2280.54,198.898 2280.54,95.2176 1987.39,95.2176 1987.39,198.898 \n",
       "  \"/>\n",
       "<polyline clip-path=\"url(#clip150)\" style=\"stroke:#009af9; stroke-linecap:butt; stroke-linejoin:round; stroke-width:4; stroke-opacity:1; fill:none\" points=\"\n",
       "  2011.46,147.058 2155.89,147.058 \n",
       "  \"/>\n",
       "<path clip-path=\"url(#clip150)\" d=\"M2193.81 166.745 Q2192 171.375 2190.29 172.787 Q2188.58 174.199 2185.71 174.199 L2182.3 174.199 L2182.3 170.634 L2184.8 170.634 Q2186.56 170.634 2187.53 169.8 Q2188.51 168.967 2189.69 165.865 L2190.45 163.921 L2179.97 138.412 L2184.48 138.412 L2192.58 158.689 L2200.68 138.412 L2205.2 138.412 L2193.81 166.745 Z\" fill=\"#000000\" fill-rule=\"evenodd\" fill-opacity=\"1\" /><path clip-path=\"url(#clip150)\" d=\"M2212.49 160.402 L2220.13 160.402 L2220.13 134.037 L2211.82 135.703 L2211.82 131.444 L2220.08 129.778 L2224.76 129.778 L2224.76 160.402 L2232.4 160.402 L2232.4 164.338 L2212.49 164.338 L2212.49 160.402 Z\" fill=\"#000000\" fill-rule=\"evenodd\" fill-opacity=\"1\" /></svg>\n"
      ]
     },
     "execution_count": 13,
     "metadata": {},
     "output_type": "execute_result"
    }
   ],
   "source": [
    "Counter_pn = counter(X)\n",
    "Probabilities_n = fill(0.0,(NO_SAMPLE))\n",
    "for i in 0:NO_SAMPLE-1\n",
    "    Probabilities_n[i+1] = Counter_pn[i]/NO_SAMPLE\n",
    "end\n",
    "plot(0:NO_SAMPLE-1,Probabilities_n)"
   ]
  }
 ],
 "metadata": {
  "kernelspec": {
   "display_name": "Julia 1.7.2",
   "language": "julia",
   "name": "julia-1.7"
  },
  "language_info": {
   "file_extension": ".jl",
   "mimetype": "application/julia",
   "name": "julia",
   "version": "1.7.2"
  }
 },
 "nbformat": 4,
 "nbformat_minor": 5
}
