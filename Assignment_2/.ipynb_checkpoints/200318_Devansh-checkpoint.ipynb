{
 "cells": [
  {
   "cell_type": "code",
   "execution_count": null,
   "id": "01c30220",
   "metadata": {},
   "outputs": [],
   "source": [
    "# https://docs.google.com/document/d/1eioUEP7i1V89BIXY8u6L3qkvIZchk63ukC6tHJMiSrw/edit#\n",
    "# Resources Document Link"
   ]
  },
  {
   "cell_type": "code",
   "execution_count": null,
   "id": "3bda4e87",
   "metadata": {},
   "outputs": [],
   "source": [
    "import Pkg;\n",
    "Pkg.add(\"Distributions\");\n",
    "using Distributions;"
   ]
  },
  {
   "cell_type": "markdown",
   "id": "1c632cfa",
   "metadata": {},
   "source": [
    "# PROBLEM 1\n",
    "\n",
    "### Prove that the given algorithm generates a Bern  ( $\\frac{c_y p_y}{c_x p_x + c_y p_y}$ ) event.  Also, find the probability distribution of the number of iterations it takes to give an output.\n",
    "\n",
    "$draw~C_1 \\sim Bern~(\\frac{c_y}{c_x+c_y})$ \\\n",
    "$if~C_1=1 ~then$ \\\n",
    "$~~~~    draw~C_2 \\sim Bern~ (p_y)$ \\\n",
    "$~~~~if~C_2=1 ~then$ \\\n",
    "$~~~~~~~~        output ~1$ \\\n",
    "$~~~~if~C_2=0 ~then$ \\\n",
    "$~~~~~~~~        go ~to~ step~ 1$ \\\n",
    "$if~C_1=0 ~then$ \\\n",
    "$~~~~    draw ~C_2 \\sim Bern~ (p_x)$ \\\n",
    "$~~~~    if~C_2=1 ~then$ \\\n",
    "$~~~~~~~~        output ~0$ \\\n",
    "$~~~~    if~C_2=0 ~then$ \\\n",
    "$~~~~~~~~        go ~to ~step~ 1$\n",
    "\n"
   ]
  },
  {
   "cell_type": "code",
   "execution_count": null,
   "id": "50c8955c",
   "metadata": {},
   "outputs": [],
   "source": []
  },
  {
   "cell_type": "markdown",
   "id": "06d02464",
   "metadata": {},
   "source": [
    "# PROBLEM 2\n",
    "\n",
    "### Sample uniformly from a p-dimensional sphere (a circle is p=2). Consider a p-vector x = (x1, x2, ... , xp) and let  .  denote the Euclidean norm. The pdf of this distribution is:\n",
    "$f(x) = \\frac{\\Gamma(\\frac{p}{2}+1)}{\\pi^{\\frac{p}{2}}} I\\{||x|| < 1\\}$\n",
    "### Use a uniform p-dimensional hypercube to sample uniformly from this sphere. Implement this for p = 2, 3, 4, 5, and 6.  What happens as p increases?"
   ]
  },
  {
   "cell_type": "code",
   "execution_count": null,
   "id": "5e60bb82",
   "metadata": {},
   "outputs": [],
   "source": []
  },
  {
   "cell_type": "markdown",
   "id": "45a00358",
   "metadata": {},
   "source": [
    "# PROBLEM 3\n",
    "\n",
    "### Using accept-reject and a standard normal proposal, obtain samples from a truncated standard normal distribution with pdf:\n",
    "$f(x) = \\frac{1}{\\Phi(a)~-~\\Phi(-a)} \\frac{1}{\\sqrt{2\\pi}} e^{\\frac{-x^2}{2}} I\\{-a < x < a\\}$\n",
    "### where $\\Phi(·)$ is the CDF of a standard normal distribution. Run for a=4 and a=1.  What are the differences between the two settings?\n"
   ]
  },
  {
   "cell_type": "code",
   "execution_count": null,
   "id": "96e9d30a",
   "metadata": {},
   "outputs": [],
   "source": []
  }
 ],
 "metadata": {
  "kernelspec": {
   "display_name": "Julia 1.7.2",
   "language": "julia",
   "name": "julia-1.7"
  },
  "language_info": {
   "file_extension": ".jl",
   "mimetype": "application/julia",
   "name": "julia",
   "version": "1.7.2"
  }
 },
 "nbformat": 4,
 "nbformat_minor": 5
}
