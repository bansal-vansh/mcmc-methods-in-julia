{
 "cells": [
  {
   "cell_type": "code",
   "execution_count": 1,
   "id": "00ae338f",
   "metadata": {},
   "outputs": [],
   "source": [
    "using Distributions\n"
   ]
  },
  {
   "cell_type": "code",
   "execution_count": 2,
   "id": "5274f0b0",
   "metadata": {},
   "outputs": [],
   "source": [
    "using Plots"
   ]
  },
  {
   "cell_type": "code",
   "execution_count": 3,
   "id": "354a4485",
   "metadata": {},
   "outputs": [],
   "source": [
    "using Random\n"
   ]
  },
  {
   "cell_type": "code",
   "execution_count": 4,
   "id": "c2b1c259",
   "metadata": {},
   "outputs": [
    {
     "ename": "LoadError",
     "evalue": "ArgumentError: Package SpecialFunctions not found in current path:\n- Run `import Pkg; Pkg.add(\"SpecialFunctions\")` to install the SpecialFunctions package.\n",
     "output_type": "error",
     "traceback": [
      "ArgumentError: Package SpecialFunctions not found in current path:\n- Run `import Pkg; Pkg.add(\"SpecialFunctions\")` to install the SpecialFunctions package.\n",
      "",
      "Stacktrace:",
      " [1] require(into::Module, mod::Symbol)",
      "   @ Base .\\loading.jl:967",
      " [2] eval",
      "   @ .\\boot.jl:373 [inlined]",
      " [3] include_string(mapexpr::typeof(REPL.softscope), mod::Module, code::String, filename::String)",
      "   @ Base .\\loading.jl:1196"
     ]
    }
   ],
   "source": [
    "using SpecialFunctions"
   ]
  },
  {
   "cell_type": "code",
   "execution_count": 1,
   "id": "d4450abf",
   "metadata": {},
   "outputs": [],
   "source": [
    "using SpecialFunctions\n"
   ]
  },
  {
   "cell_type": "markdown",
   "id": "2bf5f67f",
   "metadata": {},
   "source": [
    "For p=2\n"
   ]
  },
  {
   "cell_type": "code",
   "execution_count": 3,
   "id": "82cb83ed",
   "metadata": {},
   "outputs": [
    {
     "data": {
      "text/plain": [
       "1.2732395447351628"
      ]
     },
     "execution_count": 3,
     "metadata": {},
     "output_type": "execute_result"
    }
   ],
   "source": [
    "f_x=(gamma((2/2)+1)/(π^(2/2)))\n",
    "c=4/π"
   ]
  },
  {
   "cell_type": "code",
   "execution_count": 4,
   "id": "fb425afa",
   "metadata": {},
   "outputs": [
    {
     "ename": "LoadError",
     "evalue": "syntax: missing comma or } in argument list",
     "output_type": "error",
     "traceback": [
      "syntax: missing comma or } in argument list",
      "",
      "Stacktrace:",
      " [1] top-level scope",
      "   @ In[4]:3",
      " [2] eval",
      "   @ .\\boot.jl:373 [inlined]",
      " [3] include_string(mapexpr::typeof(REPL.softscope), mod::Module, code::String, filename::String)",
      "   @ Base .\\loading.jl:1196"
     ]
    }
   ],
   "source": [
    "function circle_ar{\n",
    "    accept=0\n",
    "    counter=0\n",
    "    while(accept==0){\n",
    "        counter=counter+1\n",
    "        u1=rand(Uniform(-1,1))\n",
    "        u2=rand(Uniform(-1,1))\n",
    "        if((u1)^2+(u2)^2<1){\n",
    "            accept=1\n",
    "            return(c((u1,u2),counter))\n",
    "            }\n",
    "        }\n",
    "    }\n",
    " \n",
    " N=10000           "
   ]
  },
  {
   "cell_type": "code",
   "execution_count": 6,
   "id": "4aedc807",
   "metadata": {},
   "outputs": [
    {
     "ename": "LoadError",
     "evalue": "syntax: expected \"end\" in definition of function \"circle_ar\"",
     "output_type": "error",
     "traceback": [
      "syntax: expected \"end\" in definition of function \"circle_ar\"",
      "",
      "Stacktrace:",
      " [1] top-level scope",
      "   @ In[6]:2",
      " [2] eval",
      "   @ .\\boot.jl:373 [inlined]",
      " [3] include_string(mapexpr::typeof(REPL.softscope), mod::Module, code::String, filename::String)",
      "   @ Base .\\loading.jl:1196"
     ]
    }
   ],
   "source": [
    "function circle_ar\n",
    "    accept=0\n",
    "    counter=0\n",
    "    while(accept==0)\n",
    "        counter=counter+1\n",
    "        u1=rand(Uniform(-1,1))\n",
    "        u2=rand(Uniform(-1,1))\n",
    "        if((u1)^2+(u2)^2<1)\n",
    "            accept=1\n",
    "            return(c((u1,u2),counter))\n",
    "        end\n",
    "    end\n",
    "end\n",
    " "
   ]
  },
  {
   "cell_type": "code",
   "execution_count": 8,
   "id": "e7a6e645",
   "metadata": {},
   "outputs": [
    {
     "data": {
      "text/plain": [
       "circle_ar (generic function with 1 method)"
      ]
     },
     "execution_count": 8,
     "metadata": {},
     "output_type": "execute_result"
    }
   ],
   "source": [
    "function circle_ar()\n",
    "    accept=0\n",
    "    counter=0\n",
    "    while(accept==0)\n",
    "        counter=counter+1\n",
    "        u1=rand(Uniform(-1,1))\n",
    "        u2=rand(Uniform(-1,1))\n",
    "        if((u1)^2+(u2)^2<1)\n",
    "            accept=1\n",
    "            return(c((u1,u2),counter))\n",
    "        end\n",
    "    end\n",
    "end\n",
    " "
   ]
  },
  {
   "cell_type": "code",
   "execution_count": 9,
   "id": "729f1f72",
   "metadata": {},
   "outputs": [
    {
     "data": {
      "text/plain": [
       "10000"
      ]
     },
     "execution_count": 9,
     "metadata": {},
     "output_type": "execute_result"
    }
   ],
   "source": [
    "N=10000"
   ]
  },
  {
   "cell_type": "code",
   "execution_count": 10,
   "id": "f37afcb9",
   "metadata": {},
   "outputs": [
    {
     "ename": "LoadError",
     "evalue": "MethodError: no method matching (Matrix)(::Int64, ::Int64, ::Int64)\n\u001b[0mClosest candidates are:\n\u001b[0m  (Matrix)(\u001b[91m::LinearAlgebra.UniformScaling\u001b[39m, ::Integer, ::Integer) at C:\\Users\\Akhil Sagwal\\AppData\\Local\\Programs\\Julia-1.7.2\\share\\julia\\stdlib\\v1.7\\LinearAlgebra\\src\\uniformscaling.jl:492\n\u001b[0m  (Matrix)(\u001b[91m::UndefInitializer\u001b[39m, ::Integer, ::Integer) at C:\\Users\\Akhil Sagwal\\AppData\\Local\\Programs\\Julia-1.7.2\\share\\julia\\base\\baseext.jl:33",
     "output_type": "error",
     "traceback": [
      "MethodError: no method matching (Matrix)(::Int64, ::Int64, ::Int64)\n\u001b[0mClosest candidates are:\n\u001b[0m  (Matrix)(\u001b[91m::LinearAlgebra.UniformScaling\u001b[39m, ::Integer, ::Integer) at C:\\Users\\Akhil Sagwal\\AppData\\Local\\Programs\\Julia-1.7.2\\share\\julia\\stdlib\\v1.7\\LinearAlgebra\\src\\uniformscaling.jl:492\n\u001b[0m  (Matrix)(\u001b[91m::UndefInitializer\u001b[39m, ::Integer, ::Integer) at C:\\Users\\Akhil Sagwal\\AppData\\Local\\Programs\\Julia-1.7.2\\share\\julia\\base\\baseext.jl:33",
      "",
      "Stacktrace:",
      " [1] top-level scope",
      "   @ In[10]:1",
      " [2] eval",
      "   @ .\\boot.jl:373 [inlined]",
      " [3] include_string(mapexpr::typeof(REPL.softscope), mod::Module, code::String, filename::String)",
      "   @ Base .\\loading.jl:1196"
     ]
    }
   ],
   "source": [
    "samp=Matrix(0,2,N)"
   ]
  },
  {
   "cell_type": "code",
   "execution_count": 11,
   "id": "0cfd9d9e",
   "metadata": {},
   "outputs": [
    {
     "ename": "LoadError",
     "evalue": "MethodError: no method matching Matrix{Float64}(::Int64, ::Int64, ::Int64)\n\u001b[0mClosest candidates are:\n\u001b[0m  Matrix{T}(\u001b[91m::LinearAlgebra.UniformScaling\u001b[39m, ::Integer, ::Integer) where T at C:\\Users\\Akhil Sagwal\\AppData\\Local\\Programs\\Julia-1.7.2\\share\\julia\\stdlib\\v1.7\\LinearAlgebra\\src\\uniformscaling.jl:491\n\u001b[0m  Array{T, N}(\u001b[91m::Missing\u001b[39m, ::Any...) where {T, N} at C:\\Users\\Akhil Sagwal\\AppData\\Local\\Programs\\Julia-1.7.2\\share\\julia\\base\\baseext.jl:43\n\u001b[0m  Array{T, N}(\u001b[91m::Nothing\u001b[39m, ::Any...) where {T, N} at C:\\Users\\Akhil Sagwal\\AppData\\Local\\Programs\\Julia-1.7.2\\share\\julia\\base\\baseext.jl:42\n\u001b[0m  ...",
     "output_type": "error",
     "traceback": [
      "MethodError: no method matching Matrix{Float64}(::Int64, ::Int64, ::Int64)\n\u001b[0mClosest candidates are:\n\u001b[0m  Matrix{T}(\u001b[91m::LinearAlgebra.UniformScaling\u001b[39m, ::Integer, ::Integer) where T at C:\\Users\\Akhil Sagwal\\AppData\\Local\\Programs\\Julia-1.7.2\\share\\julia\\stdlib\\v1.7\\LinearAlgebra\\src\\uniformscaling.jl:491\n\u001b[0m  Array{T, N}(\u001b[91m::Missing\u001b[39m, ::Any...) where {T, N} at C:\\Users\\Akhil Sagwal\\AppData\\Local\\Programs\\Julia-1.7.2\\share\\julia\\base\\baseext.jl:43\n\u001b[0m  Array{T, N}(\u001b[91m::Nothing\u001b[39m, ::Any...) where {T, N} at C:\\Users\\Akhil Sagwal\\AppData\\Local\\Programs\\Julia-1.7.2\\share\\julia\\base\\baseext.jl:42\n\u001b[0m  ...",
      "",
      "Stacktrace:",
      " [1] top-level scope",
      "   @ In[11]:1",
      " [2] eval",
      "   @ .\\boot.jl:373 [inlined]",
      " [3] include_string(mapexpr::typeof(REPL.softscope), mod::Module, code::String, filename::String)",
      "   @ Base .\\loading.jl:1196"
     ]
    }
   ],
   "source": [
    "samp=Matrix{Float64}(0,2,N)"
   ]
  },
  {
   "cell_type": "code",
   "execution_count": 12,
   "id": "c7697ae9",
   "metadata": {},
   "outputs": [
    {
     "ename": "LoadError",
     "evalue": "UndefVarError: T not defined",
     "output_type": "error",
     "traceback": [
      "UndefVarError: T not defined",
      "",
      "Stacktrace:",
      " [1] top-level scope",
      "   @ In[12]:1",
      " [2] eval",
      "   @ .\\boot.jl:373 [inlined]",
      " [3] include_string(mapexpr::typeof(REPL.softscope), mod::Module, code::String, filename::String)",
      "   @ Base .\\loading.jl:1196"
     ]
    }
   ],
   "source": [
    "samp=Matrix{T}(0,2,N)"
   ]
  },
  {
   "cell_type": "code",
   "execution_count": 13,
   "id": "045b9f13",
   "metadata": {},
   "outputs": [
    {
     "ename": "LoadError",
     "evalue": "UndefVarError: arr not defined",
     "output_type": "error",
     "traceback": [
      "UndefVarError: arr not defined",
      "",
      "Stacktrace:",
      " [1] top-level scope",
      "   @ In[13]:1",
      " [2] eval",
      "   @ .\\boot.jl:373 [inlined]",
      " [3] include_string(mapexpr::typeof(REPL.softscope), mod::Module, code::String, filename::String)",
      "   @ Base .\\loading.jl:1196"
     ]
    }
   ],
   "source": [
    "counts=arr[N]"
   ]
  },
  {
   "cell_type": "code",
   "execution_count": 14,
   "id": "6acaee36",
   "metadata": {},
   "outputs": [
    {
     "data": {
      "text/plain": [
       "Any[]"
      ]
     },
     "execution_count": 14,
     "metadata": {},
     "output_type": "execute_result"
    }
   ],
   "source": [
    "samp=[]"
   ]
  },
  {
   "cell_type": "code",
   "execution_count": 15,
   "id": "d3496e9b",
   "metadata": {},
   "outputs": [
    {
     "data": {
      "text/plain": [
       "Any[]"
      ]
     },
     "execution_count": 15,
     "metadata": {},
     "output_type": "execute_result"
    }
   ],
   "source": [
    "counts=[]"
   ]
  },
  {
   "cell_type": "code",
   "execution_count": 16,
   "id": "743cb6c9",
   "metadata": {},
   "outputs": [
    {
     "ename": "LoadError",
     "evalue": "syntax: incomplete: premature end of input",
     "output_type": "error",
     "traceback": [
      "syntax: incomplete: premature end of input",
      "",
      "Stacktrace:",
      " [1] top-level scope",
      "   @ In[16]:1",
      " [2] eval",
      "   @ .\\boot.jl:373 [inlined]",
      " [3] include_string(mapexpr::typeof(REPL.softscope), mod::Module, code::String, filename::String)",
      "   @ Base .\\loading.jl:1196"
     ]
    }
   ],
   "source": [
    "for i in 0:N"
   ]
  },
  {
   "cell_type": "code",
   "execution_count": 17,
   "id": "1e97d99d",
   "metadata": {},
   "outputs": [
    {
     "ename": "LoadError",
     "evalue": "UndefVarError: Uniform not defined",
     "output_type": "error",
     "traceback": [
      "UndefVarError: Uniform not defined",
      "",
      "Stacktrace:",
      " [1] circle_ar()",
      "   @ Main .\\In[8]:6",
      " [2] top-level scope",
      "   @ .\\In[17]:2",
      " [3] eval",
      "   @ .\\boot.jl:373 [inlined]",
      " [4] include_string(mapexpr::typeof(REPL.softscope), mod::Module, code::String, filename::String)",
      "   @ Base .\\loading.jl:1196"
     ]
    }
   ],
   "source": [
    "for i in 0:N\n",
    "    ent=circle_ar()\n",
    "    push!(samp, ent[1])\n",
    "    push!(counters, ent[2])\n",
    "end\n",
    "x = []\n",
    "y = []\n",
    "for i in 1:N+1\n",
    "        push!(x, samp[i][1])\n",
    "        push!(y, samp[i][2])\n",
    "end\n",
    "\n",
    "    scatter(x, y, size=(500, 500))\n",
    "\n",
    "\n"
   ]
  },
  {
   "cell_type": "code",
   "execution_count": 18,
   "id": "0de405e6",
   "metadata": {},
   "outputs": [
    {
     "ename": "LoadError",
     "evalue": "ArgumentError: Package Uniform not found in current path:\n- Run `import Pkg; Pkg.add(\"Uniform\")` to install the Uniform package.\n",
     "output_type": "error",
     "traceback": [
      "ArgumentError: Package Uniform not found in current path:\n- Run `import Pkg; Pkg.add(\"Uniform\")` to install the Uniform package.\n",
      "",
      "Stacktrace:",
      " [1] require(into::Module, mod::Symbol)",
      "   @ Base .\\loading.jl:967",
      " [2] eval",
      "   @ .\\boot.jl:373 [inlined]",
      " [3] include_string(mapexpr::typeof(REPL.softscope), mod::Module, code::String, filename::String)",
      "   @ Base .\\loading.jl:1196"
     ]
    }
   ],
   "source": [
    "using Uniform"
   ]
  },
  {
   "cell_type": "code",
   "execution_count": null,
   "id": "a03d9a45",
   "metadata": {},
   "outputs": [],
   "source": []
  }
 ],
 "metadata": {
  "kernelspec": {
   "display_name": "Julia 1.7.2",
   "language": "julia",
   "name": "julia-1.7"
  },
  "language_info": {
   "file_extension": ".jl",
   "mimetype": "application/julia",
   "name": "julia",
   "version": "1.7.2"
  }
 },
 "nbformat": 4,
 "nbformat_minor": 5
}
