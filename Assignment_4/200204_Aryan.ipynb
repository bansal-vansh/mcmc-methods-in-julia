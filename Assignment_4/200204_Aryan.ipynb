{
 "cells": [
  {
   "cell_type": "markdown",
   "id": "473d5b5e",
   "metadata": {},
   "source": [
    "# Question 1"
   ]
  },
  {
   "cell_type": "markdown",
   "id": "9950bcf3",
   "metadata": {},
   "source": [
    "It is quite clear that $var(\\bar{X})=var(F)$.\\\n",
    "We need to find $var(\\bar{Y})$.\\\n",
    "We know:\n",
    "$$\n",
    "P(X_{t+1}|X_{t}=x)=F\\\\\n",
    "var(X)=var(F)\n",
    "$$\n",
    "Both the estimators have the same variance and are equal.\n"
   ]
  },
  {
   "cell_type": "markdown",
   "id": "50272628",
   "metadata": {},
   "source": [
    "# Question 2"
   ]
  },
  {
   "cell_type": "markdown",
   "id": "1c53bf29",
   "metadata": {},
   "source": [
    "## Question 2 (a)\n",
    "The joint posterior distribution for $\\theta=(\\mu, \\nu)$ is:\n",
    "$$\n",
    "P(\\theta|D) \\propto P(\\theta)P(D|\\theta)\\\\\n",
    "P(\\theta|D) \\propto \\nu^{a_{0}-1}e^{\\frac{-\\nu}{b_{0}}}I(\\{\\mu > 2\\})(1+\\frac{\\mu^{2}}{\\nu})^{-\\frac{\\nu + 1}{2}}\\prod_{i=1}^{n}e^{-\\frac{(y_{i}-\\mu)^{2}}{2}}\\\\\n",
    "P(\\theta|D)=f(\\theta)=c\\bar{f}(\\theta)\n",
    "$$\n",
    "$c\\bar{f}(\\theta)$ is the posterior distribution for $\\theta$.\n"
   ]
  },
  {
   "cell_type": "code",
   "execution_count": 1,
   "id": "5cb73ffa",
   "metadata": {},
   "outputs": [
    {
     "data": {
      "text/plain": [
       "MH (generic function with 1 method)"
      ]
     },
     "execution_count": 1,
     "metadata": {},
     "output_type": "execute_result"
    }
   ],
   "source": [
    "using Distributions\n",
    "function sampleY(mu,n)\n",
    "    f=Normal(mu,1)\n",
    "    Y=rand(f,n)\n",
    "    return Y\n",
    "end\n",
    "\n",
    "function sampleTheta() # Theta is [mu,nu]\n",
    "    f=Normal(0,1)\n",
    "    Y=rand(f,2)\n",
    "    while(Y[2]<2)\n",
    "        Y=rand(f,2)\n",
    "    end\n",
    "    return Y\n",
    "end\n",
    "\n",
    "function samplev(a,b)\n",
    "    vfunc=truncated(Gamma(a,b),lower=2)\n",
    "    v=rand(vfunc,1)\n",
    "    return v[1]\n",
    "end\n",
    "\n",
    "\n",
    "function samplemu(a,b,v)\n",
    "    mufunc=TDist(v)\n",
    "    mu=rand(mufunc,1)\n",
    "    return mu[1]\n",
    "end\n",
    "\n",
    "\n",
    "# function norm(x,mu)\n",
    "#     return exp(-(x-mu)^2/2)\n",
    "# end\n",
    "\n",
    "function mini(a,b)\n",
    "    if(a<b)\n",
    "        b=a\n",
    "    end\n",
    "    return b\n",
    "end\n",
    "\n",
    "function post(mu,nu,a,b,Y,n)\n",
    "    prod=1\n",
    "    if(mu<2)\n",
    "        return 0\n",
    "    end\n",
    "    prod=prod*(nu^(a-1))*exp(-nu/b)\n",
    "    prod=prod*(1+mu^2/nu)^(-(nu+1)/2)\n",
    "    i=1\n",
    "    while(i<=n)\n",
    "        prod=prod*exp(-0.5*(Y[i]-mu)^2)\n",
    "        i=i+1\n",
    "    end\n",
    "    return prod\n",
    "end\n",
    "\n",
    "\n",
    "function MH(a,b,Y,n,theta0,num)\n",
    "    S=[]\n",
    "    mu0=theta0[1][1]\n",
    "    nu0=theta0[1][2]\n",
    "    append!(S,theta0)\n",
    "    num=num-1\n",
    "    while(num>0)\n",
    "        u=rand(Uniform(0,1))\n",
    "        theta=sampleTheta()\n",
    "        mu=theta[1]\n",
    "        nu=theta[2]\n",
    "        if(u<mini(1,post(mu,nu,a,b,Y,n)/post(mu0,nu0,a,b,Y,n)))\n",
    "            mu0=mu\n",
    "            nu0=nu\n",
    "        end\n",
    "        theta1=[[mu,nu]]\n",
    "        append!(S,theta1)\n",
    "        num=num-1\n",
    "    end\n",
    "    return S\n",
    "end   "
   ]
  },
  {
   "cell_type": "code",
   "execution_count": 2,
   "id": "6f3fd507",
   "metadata": {},
   "outputs": [
    {
     "data": {
      "text/plain": [
       "0.00301973834223185"
      ]
     },
     "execution_count": 2,
     "metadata": {},
     "output_type": "execute_result"
    }
   ],
   "source": [
    "post(3,1,1,1,[1,2],2)"
   ]
  },
  {
   "cell_type": "code",
   "execution_count": 3,
   "id": "a4cae486",
   "metadata": {},
   "outputs": [
    {
     "name": "stdout",
     "output_type": "stream",
     "text": [
      "[-0.09945484831349852, 2.1393718145264415]\n",
      "This is Mu,Nu\n"
     ]
    }
   ],
   "source": [
    "nu=samplev(2,0.1)\n",
    "mu=samplemu(2,0.1,nu)\n",
    "theta=[[mu,nu]]\n",
    "Y=sampleY(mu,100)\n",
    "\n",
    "Z=MH(2,0.1,Y,100,theta,100000)\n",
    "println(Z[100000])\n",
    "println(\"This is Mu,Nu\")"
   ]
  },
  {
   "cell_type": "markdown",
   "id": "457f9c26",
   "metadata": {},
   "source": [
    "# Question 3"
   ]
  },
  {
   "cell_type": "markdown",
   "id": "eb70e912",
   "metadata": {},
   "source": [
    "## Question 3 (a)\n",
    "\n",
    "$$\n",
    "P(\\beta,\\sigma^{2})=\\frac{b^{a}}{\\Gamma{a}}(\\frac{1}{\\sigma^{2}})^{-(a+1)}e^{-\\frac{b}{\\sigma^{2}}}\\frac{1}{\\sigma\\sqrt{2\\pi}}e^{\\frac{-(\\beta-\\mu)^{2}}{2\\sigma^{2}}}\\\\\n",
    "P(\\beta,\\sigma^{2})=\\frac{b^{a}}{\\sqrt{2\\pi}\\Gamma{a}}\\sigma^{2a+2}(\\frac{e^{-\\frac{(\\beta-\\mu)^2+2b}{2\\sigma^{2}}}}{\\sigma})\n",
    "$$\n",
    "This is the joint prior distribution for $(\\beta,\\sigma^{2})$.\\\n",
    "Given that $y_{1},y_{2},y_{3},...,y_{n} \\sim N(X\\beta,\\sigma^{2}I_{n})$, we now can calculate the posterior distribution using Bayesian methods.\n",
    "\n",
    "The joint posterior distribution for $\\theta=(\\beta, \\sigma^{2})$ is:\n",
    "$$\n",
    "P(\\theta|D) \\propto P(\\theta)P(D|\\theta)\\\\\n",
    "P(\\theta|D) \\propto \\sigma^{2a+2}(\\frac{e^{-\\frac{(\\beta-\\mu)^2+2b}{2\\sigma^{2}}}}{\\sigma})\\frac{e^{-\\frac{(X\\beta-Y)^2}{2\\sigma^{2}}}}{\\sigma}\\\\\n",
    "P(\\theta|D)=f(\\theta)=c\\bar{f}(\\theta)\n",
    "$$"
   ]
  },
  {
   "cell_type": "code",
   "execution_count": 4,
   "id": "53098335",
   "metadata": {},
   "outputs": [
    {
     "data": {
      "text/plain": [
       "2-element Vector{Float64}:\n",
       " 29.214752679254886\n",
       " 96.19363785472291"
      ]
     },
     "execution_count": 4,
     "metadata": {},
     "output_type": "execute_result"
    }
   ],
   "source": [
    "using PyCall\n",
    "py\"\"\"\n",
    "from sklearn import datasets\n",
    "x, y, coef = datasets.make_regression(n_samples=100,\n",
    "                                      n_features=2,#number of features\n",
    "                                      noise=1,#bias and standard deviation of the guassian noise\n",
    "                                      coef=True,#true coefficient used to generated the data\n",
    "                                      random_state=0)\n",
    "\"\"\"\n",
    "x=py\"x\"\n",
    "y=py\"y\"\n",
    "c=py\"coef\"\n",
    "# Generate Dataset"
   ]
  },
  {
   "cell_type": "code",
   "execution_count": 5,
   "id": "738b8101",
   "metadata": {},
   "outputs": [
    {
     "data": {
      "text/plain": [
       "LinearReg (generic function with 1 method)"
      ]
     },
     "execution_count": 5,
     "metadata": {},
     "output_type": "execute_result"
    }
   ],
   "source": [
    "using Distributions\n",
    "\n",
    "function samplesig(a,b)\n",
    "    g=InverseGamma(a,b)\n",
    "    sig=rand(g)\n",
    "    return sig[1]\n",
    "end\n",
    "\n",
    "function sampleBeta(mu,sigma,n)\n",
    "    N=Normal(mu,sigma)\n",
    "    beta=rand(N,n)\n",
    "    return beta\n",
    "end\n",
    "\n",
    "function sampleTheta(n)\n",
    "    N=Normal()\n",
    "    beta=rand(N,n)\n",
    "    sigma=abs(rand(N))\n",
    "    theta=[beta,sigma]\n",
    "    return theta\n",
    "end\n",
    "\n",
    "\n",
    "function multiNorm(beta,sigma)\n",
    "    l=length(beta)\n",
    "    i=1\n",
    "    Y=[]\n",
    "    while(i<=l)\n",
    "        x=Normal(beta[i],sigma)\n",
    "        y=rand(x)\n",
    "        append!(Y,y)\n",
    "        i=i+1\n",
    "    end\n",
    "    return Y\n",
    "end\n",
    "\n",
    "function pdfNorm(X,beta,Y,sigma,a,b,mu)\n",
    "    xb=X*beta\n",
    "    l1=length(xb)\n",
    "    l=length(beta)\n",
    "    prod=Float64(sigma^(2*a+2))\n",
    "    i=1\n",
    "    sum=0\n",
    "    while(i<l)\n",
    "        prod=prod/sigma\n",
    "        sum=sum-((beta[i]-mu)^2)/(2*sigma^2)\n",
    "        i=i+1\n",
    "    end\n",
    "    i=1\n",
    "    while(i<l1)\n",
    "        prod=prod/sigma\n",
    "        sum=sum-(((xb[i]-Y[i])^2)/(2*sigma^2))\n",
    "        i=i+1\n",
    "    end\n",
    "    prod=prod*exp(-b/(sigma^2))\n",
    "    sum=sum+log(prod)\n",
    "    return sum\n",
    "end\n",
    "\n",
    "\n",
    "function sampleY(X,beta,sigma)\n",
    "    Y=multiNorm(X*beta,sigma)\n",
    "    return Y \n",
    "end\n",
    "\n",
    "\n",
    "function LinearReg(n,a,b,Y,X,mu,sigma,beta,num)\n",
    "    S=[]\n",
    "    beta0=beta\n",
    "    sigma0=sigma\n",
    "    theta0=[[beta0,sigma0]]\n",
    "    append!(S,theta0)\n",
    "    num=num-1\n",
    "    while(num>0)\n",
    "        u=rand(Uniform(0,1))\n",
    "        theta=sampleTheta(n)\n",
    "        sig=theta[2]\n",
    "        bet=theta[1]\n",
    "        if(log(u)<mini(0,pdfNorm(X,bet,Y,sig,a,b,mu)-pdfNorm(X,beta0,Y,sigma0,a,b,mu)))\n",
    "            beta0=bet\n",
    "            sigma0=sig\n",
    "        end\n",
    "        theta1=[[beta0,sigma0]]\n",
    "        append!(S,theta1)\n",
    "        num=num-1\n",
    "    end\n",
    "    return S\n",
    "end   \n"
   ]
  },
  {
   "cell_type": "code",
   "execution_count": 6,
   "id": "604c7d85",
   "metadata": {},
   "outputs": [
    {
     "name": "stdout",
     "output_type": "stream",
     "text": [
      "Linear Reg:\n"
     ]
    },
    {
     "data": {
      "text/plain": [
       "10000-element Vector{Any}:\n",
       " Any[[0.9682289289964102, 1.7221699511579738], 1.1567418897457777]\n",
       " Any[[0.9682289289964102, 1.7221699511579738], 1.1567418897457777]\n",
       " Any[[0.9682289289964102, 1.7221699511579738], 1.1567418897457777]\n",
       " Any[[0.9682289289964102, 1.7221699511579738], 1.1567418897457777]\n",
       " Any[[0.9682289289964102, 1.7221699511579738], 1.1567418897457777]\n",
       " Any[[0.9682289289964102, 1.7221699511579738], 1.1567418897457777]\n",
       " Any[[0.9682289289964102, 1.7221699511579738], 1.1567418897457777]\n",
       " Any[[0.9682289289964102, 1.7221699511579738], 1.1567418897457777]\n",
       " Any[[0.9682289289964102, 1.7221699511579738], 1.1567418897457777]\n",
       " Any[[1.8920519079818947, 0.16412213085255697], 1.1991640070924054]\n",
       " Any[[1.8920519079818947, 0.16412213085255697], 1.1991640070924054]\n",
       " Any[[1.8920519079818947, 0.16412213085255697], 1.1991640070924054]\n",
       " Any[[1.8920519079818947, 0.16412213085255697], 1.1991640070924054]\n",
       " ⋮\n",
       " Any[[1.0315382784831375, 0.773104203150817], 3.8420180791760803]\n",
       " Any[[1.0315382784831375, 0.773104203150817], 3.8420180791760803]\n",
       " Any[[1.0315382784831375, 0.773104203150817], 3.8420180791760803]\n",
       " Any[[1.0315382784831375, 0.773104203150817], 3.8420180791760803]\n",
       " Any[[1.0315382784831375, 0.773104203150817], 3.8420180791760803]\n",
       " Any[[1.0315382784831375, 0.773104203150817], 3.8420180791760803]\n",
       " Any[[1.0315382784831375, 0.773104203150817], 3.8420180791760803]\n",
       " Any[[1.0315382784831375, 0.773104203150817], 3.8420180791760803]\n",
       " Any[[1.0315382784831375, 0.773104203150817], 3.8420180791760803]\n",
       " Any[[1.0315382784831375, 0.773104203150817], 3.8420180791760803]\n",
       " Any[[1.0315382784831375, 0.773104203150817], 3.8420180791760803]\n",
       " Any[[1.0315382784831375, 0.773104203150817], 3.8420180791760803]"
      ]
     },
     "execution_count": 6,
     "metadata": {},
     "output_type": "execute_result"
    }
   ],
   "source": [
    "n=2\n",
    "mu=1\n",
    "a=2\n",
    "b=3\n",
    "sigma=sqrt(samplesig(a,b))\n",
    "beta=sampleBeta(mu,sigma,n)\n",
    "println(\"Linear Reg:\")\n",
    "num_epoch=10000\n",
    "res=LinearReg(n,a,b,y,x,mu,sigma,beta,num_epoch)"
   ]
  },
  {
   "cell_type": "code",
   "execution_count": 7,
   "id": "ed14257d",
   "metadata": {},
   "outputs": [
    {
     "data": {
      "text/plain": [
       "-369478.24429685867"
      ]
     },
     "execution_count": 7,
     "metadata": {},
     "output_type": "execute_result"
    }
   ],
   "source": [
    "pdfNorm(x,beta,y,sigma,a,b,mu)"
   ]
  },
  {
   "cell_type": "code",
   "execution_count": 8,
   "id": "d5212963",
   "metadata": {},
   "outputs": [
    {
     "data": {
      "text/plain": [
       "3.8420180791760803"
      ]
     },
     "execution_count": 8,
     "metadata": {},
     "output_type": "execute_result"
    }
   ],
   "source": [
    "betaFin=res[num_epoch][1]\n",
    "sigmaFin=res[num_epoch][2]"
   ]
  },
  {
   "cell_type": "code",
   "execution_count": 9,
   "id": "b6b49c97",
   "metadata": {},
   "outputs": [
    {
     "name": "stdout",
     "output_type": "stream",
     "text": [
      "Final Beta:[1.0315382784831375, 0.773104203150817]\n",
      "Final Sigma:3.8420180791760803\n"
     ]
    }
   ],
   "source": [
    "println(\"Final Beta:\",betaFin)\n",
    "println(\"Final Sigma:\",sigmaFin)"
   ]
  },
  {
   "cell_type": "code",
   "execution_count": 10,
   "id": "2b2f7964",
   "metadata": {},
   "outputs": [
    {
     "data": {
      "text/plain": [
       "100×2 Matrix{Float64}:\n",
       "  1.05445    -1.07075\n",
       " -0.362741   -0.634322\n",
       " -0.854096    0.313068\n",
       "  1.32639     0.298238\n",
       " -0.461585   -1.31591\n",
       "  1.94362    -1.17312\n",
       " -1.60206     0.625231\n",
       " -0.401781    0.177426\n",
       " -0.977278    1.86756\n",
       "  0.378163    0.154947\n",
       " -0.302303   -0.387327\n",
       " -0.747455   -0.413619\n",
       " -0.187184    0.0457585\n",
       "  ⋮          \n",
       "  0.428332   -0.0281822\n",
       "  0.653619   -2.55299\n",
       "  0.944479    2.38314\n",
       "  0.0318306  -0.674333\n",
       "  1.92953    -0.498032\n",
       " -1.45437     2.26975\n",
       "  0.462782   -1.6302\n",
       "  0.823504    0.771791\n",
       "  0.976639    0.208275\n",
       " -1.34776     1.88315\n",
       "  0.0521651  -1.10438\n",
       " -1.72628    -0.813146"
      ]
     },
     "execution_count": 10,
     "metadata": {},
     "output_type": "execute_result"
    }
   ],
   "source": [
    "x"
   ]
  },
  {
   "cell_type": "code",
   "execution_count": 11,
   "id": "89647128",
   "metadata": {},
   "outputs": [
    {
     "data": {
      "text/plain": [
       "100-element Vector{Float64}:\n",
       "  -72.50305646012106\n",
       "  -71.85306494343101\n",
       "    5.0647749388690375\n",
       "   66.93183449869574\n",
       " -140.7194095496918\n",
       "  -55.922642586225884\n",
       "   15.643486286718097\n",
       "    4.786473915337476\n",
       "  152.19592501357135\n",
       "   25.542831343549583\n",
       "  -46.1323328491405\n",
       "  -61.94355031734867\n",
       "   -1.533270738727035\n",
       "    ⋮\n",
       "   10.034839631641375\n",
       " -225.5758932706944\n",
       "  258.79201235994236\n",
       "  -63.41269884142541\n",
       "    8.35270787992977\n",
       "  176.63334879245508\n",
       " -142.87859023362495\n",
       "   97.90036194227108\n",
       "   49.71932728788642\n",
       "  142.29373341244977\n",
       " -105.77067693938837\n",
       " -129.14573814288124"
      ]
     },
     "execution_count": 11,
     "metadata": {},
     "output_type": "execute_result"
    }
   ],
   "source": [
    "y"
   ]
  },
  {
   "cell_type": "code",
   "execution_count": null,
   "id": "024d0a32",
   "metadata": {},
   "outputs": [],
   "source": []
  }
 ],
 "metadata": {
  "@webio": {
   "lastCommId": null,
   "lastKernelId": null
  },
  "kernelspec": {
   "display_name": "Julia 1.7.2",
   "language": "julia",
   "name": "julia-1.7"
  },
  "language_info": {
   "file_extension": ".jl",
   "mimetype": "application/julia",
   "name": "julia",
   "version": "1.7.2"
  }
 },
 "nbformat": 4,
 "nbformat_minor": 5
}
