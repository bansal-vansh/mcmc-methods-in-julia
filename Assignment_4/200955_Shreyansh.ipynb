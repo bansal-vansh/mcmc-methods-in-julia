{
 "cells": [
  {
   "cell_type": "code",
   "execution_count": 5,
   "metadata": {},
   "outputs": [],
   "source": [
    "using Distributions,SpecialFunctions,Random,Plots,StatsPlots"
   ]
  },
  {
   "cell_type": "markdown",
   "metadata": {},
   "source": [
    "Q1\n"
   ]
  },
  {
   "cell_type": "markdown",
   "metadata": {},
   "source": [
    "$ X_1,X_2,...,X_n \\sim F $ (iid draws) and $ Y_1, Y_2, ..., Y_n $ is a Markov Chain with F as the stationary distribution. $\\\\$\n",
    "Consider the estimates of mean:$\\\\$\n",
    "\n",
    "$$ \\bar X = \\frac{1}{n}\\sum_{i=1}^{n}X_i  \\space and \\space  \\bar Y =\\frac{1}{n}\\sum_{i=1}^{n}Y_i \\\\$$ \n",
    "\n",
    "We know Variance is $\\\\$\n",
    "$$ Var(\\sum_{i=1}^{p} a_iX_i)=\\sum_{i=1}^{p}(a_i)^2Var(X_i)+2\\sum_{1\\le i<j\\le p} a_ia_jCov(X_i,X_j) \\\\$$\n",
    "\n",
    "So for first iid distribution $ Cov(X_i,X_j) $ is Zero whereas for Markov Chain it is not zero as $ X_n $ is dependent on $ X_{n-1} \\\\$\n",
    "\n",
    "$$ Var(\\bar X)=\\frac{ Var(\\sum_{i=1}^{n} X_i)}{N^2} \\\\$$\n",
    "\n",
    "Similarly for $$ Var(\\bar Y)=\\frac{ Var(\\sum_{i=1}^{n} Y_i)}{N^2} \\\\ $$\n",
    "\n",
    "For IIDS as $Cov(X_i,X_j)$ is 0 whereas for Markov it is not zero hence Variance will have addition terms.$\\\\$\n",
    "Also, Initally the sample from MCMC can vary greatly from F hence increasing the Variance.$\\\\$\n",
    " So , $ Var(\\bar X)<Var(\\bar Y) $\n",
    " \n",
    "\n",
    "\n",
    "Hence IID is better Esitmator."
   ]
  },
  {
   "cell_type": "markdown",
   "metadata": {},
   "source": [
    "Q2"
   ]
  },
  {
   "cell_type": "markdown",
   "metadata": {},
   "source": [
    "We know $$ Y_i/\\mu \\sim N(\\mu,1)  \\\\ $$\n",
    "Along with $$ \\mu/v \\sim t_v \\\\ $$\n",
    "Where $$ v \\sim gamma(a_0,b_0,(2,\\infty)) \\\\ $$\n",
    "Let $ \\theta $  be the vector containing prior information, $ \\theta = (\\mu,v) \\\\$\n",
    "\n",
    "So, Posterior density is $\\\\$\n",
    "$$ q(\\theta/y_i)=q(\\mu,v/y_i)\\\\$$\n",
    "$$ q(\\theta,y_i)=\\frac{f(y_i/\\mu,v)f(\\mu,v)}{\\int_{\\theta}^{} f(y_i/\\mu,v)f(\\mu,v) } \\\\$$\n",
    "$$ q(\\theta,y_i) \\propto f(y_i/\\mu)f(\\mu,v)f(v) \\\\$$\n",
    "Let $$ \\pi(\\mu,v)=f(y_i/\\mu)f(\\mu,v)f(v)\\\\ $$\n",
    "$$ \\pi(\\mu,v)=v^{a_0-1}e^{\\frac{-v}{b_0}}I({\\mu>2})(1+\\frac{\\mu^2}{v})^{-\\frac{v+1}{2}}\\prod_{i=1}\\exp^{-\\frac{(y_i-\\mu)^2}{2}} \\\\$$\n",
    "Then Joint postertior distribution is $c\\pi(\\mu,v)$ where c is normalising constant"
   ]
  },
  {
   "cell_type": "markdown",
   "metadata": {},
   "source": [
    "We will use a Bivariate Normal Distribution proposal, centred at the current value with both RV's independent. So  $q(\\mu,v/x)$ will the density of the distribution $N(\\mu,v,\\sigma_1,\\sigma_2,0)$ where $\\sigma_1,\\sigma_2$ is similar to stepsize. We can choose a starting value as the random value of the truncated gamma function. We can set $\\sigma_1=1$ and $\\sigma_2=1$ for now.\n",
    "\n",
    "1.Set $x_1$ as mean of $gamma(a_0,b_0,(2,\\infty))$ and take a random t-dist for v $\\\\$\n",
    "2.Draw a proposed value $ Y^{\\star}=(\\mu^{\\star},v^{\\star}) \\sim N(\\mu_t,v_t,1,1,0) \\\\$\n",
    "3.Calculate $$\\alpha(X_t,Y^{\\star})=min(1,\\frac{\\pi(Y^{\\star})q(X_t/Y^{\\star})}{\\pi(X_t)q(Y^{\\star}/X_t)}) $$ where $X_t=(\\mu_t,v_t) \\space and \\space Y^{\\star}=(\\mu^{\\star},v^{\\star})\\\\$\n",
    "As Normal is symmetric $$\\alpha(X_t,Y^{\\star})=min(1,\\frac{\\pi(Y^{\\star})}{\\pi(X_t)}) $$ \n",
    "\n",
    "4. Draw $ U \\sim U[0,1].\\space If \\space U<\\alpha(X_t,Y^{\\star})$. Set $X_{t+1}=Y^{\\star}\\\\$\n",
    "5.Else, set $ X_{t+1}=X_t\\\\ $\n",
    "6.Stop when t=T."
   ]
  },
  {
   "cell_type": "code",
   "execution_count": 65,
   "metadata": {},
   "outputs": [
    {
     "data": {
      "text/plain": [
       "100"
      ]
     },
     "execution_count": 65,
     "metadata": {},
     "output_type": "execute_result"
    }
   ],
   "source": [
    "#Setting the global index\n",
    "global a0=2\n",
    "global b0=0.1\n",
    "global n=100"
   ]
  },
  {
   "cell_type": "code",
   "execution_count": 73,
   "metadata": {},
   "outputs": [],
   "source": [
    "global arr_y=[]\n",
    "for i in 1:n\n",
    "    x=rand(Normal(0,1))\n",
    "    push!(y,x)\n",
    "end    "
   ]
  },
  {
   "cell_type": "code",
   "execution_count": 78,
   "metadata": {},
   "outputs": [
    {
     "data": {
      "text/plain": [
       "pie (generic function with 1 method)"
      ]
     },
     "execution_count": 78,
     "metadata": {},
     "output_type": "execute_result"
    }
   ],
   "source": [
    "#Calculating value of pie(mu,v)\n",
    "function pie(mu,v)\n",
    "    if(mu<2)\n",
    "        return 0\n",
    "    else\n",
    "        res=v^(a0-1)*(exp(real(-v/b0)))*((1+mu^2/v)^(-(v+1)/2))\n",
    "        for i in 1:100\n",
    "            res*=exp(real((arr_y[i]-mu)^2)/2)\n",
    "            return res\n",
    "        end\n",
    "    end\n",
    "    \n",
    "end            "
   ]
  },
  {
   "cell_type": "code",
   "execution_count": 68,
   "metadata": {},
   "outputs": [
    {
     "data": {
      "text/plain": [
       "newpoint (generic function with 1 method)"
      ]
     },
     "execution_count": 68,
     "metadata": {},
     "output_type": "execute_result"
    }
   ],
   "source": [
    "#function to find new point\n",
    "function newpoint(curr)\n",
    "    mu_new=rand(Normal(curr[1],1))\n",
    "    v_new=rand(Normal(curr[2],1))\n",
    "    res=[]\n",
    "    push!(res,mu_new)\n",
    "    push!(res,v_new)\n",
    "    return res\n",
    "end"
   ]
  },
  {
   "cell_type": "code",
   "execution_count": 69,
   "metadata": {},
   "outputs": [
    {
     "data": {
      "text/plain": [
       "cal (generic function with 1 method)"
      ]
     },
     "execution_count": 69,
     "metadata": {},
     "output_type": "execute_result"
    }
   ],
   "source": [
    "#Function calculating alpha\n",
    "function cal(new,curr)\n",
    "    mh=pie(new[1],new[2])/pie(curr[1],curr[2])\n",
    "    return min(1,mh)\n",
    "end    "
   ]
  },
  {
   "cell_type": "code",
   "execution_count": 79,
   "metadata": {},
   "outputs": [
    {
     "ename": "LoadError",
     "evalue": "DomainError with -2.8953340751033263:\nExponentiation yielding a complex result requires a complex argument.\nReplace x^y with (x+0im)^y, Complex(x)^y, or similar.",
     "output_type": "error",
     "traceback": [
      "DomainError with -2.8953340751033263:\nExponentiation yielding a complex result requires a complex argument.\nReplace x^y with (x+0im)^y, Complex(x)^y, or similar.",
      "",
      "Stacktrace:",
      " [1] throw_exp_domainerror(x::Float64)",
      "   @ Base.Math ./math.jl:37",
      " [2] ^",
      "   @ ./math.jl:909 [inlined]",
      " [3] pie(mu::Float64, v::Float64)",
      "   @ Main ./In[78]:6",
      " [4] cal(new::Vector{Any}, curr::Vector{Any})",
      "   @ Main ./In[69]:3",
      " [5] top-level scope",
      "   @ ./In[79]:10",
      " [6] eval",
      "   @ ./boot.jl:373 [inlined]",
      " [7] include_string(mapexpr::typeof(REPL.softscope), mod::Module, code::String, filename::String)",
      "   @ Base ./loading.jl:1196"
     ]
    }
   ],
   "source": [
    "global sample=[[]]\n",
    "curr=[]\n",
    "mu=rand(truncated(Gamma(a0,b0); lower=2))\n",
    "v=rand(TDist(mu))\n",
    "push!(curr,mu)\n",
    "push!(curr,v)\n",
    "push!(sample,curr)\n",
    "for i in 1 : 1000\n",
    "    new=newpoint(curr)\n",
    "    alpha=cal(new,curr)\n",
    "    u=rand(uniform(0,1))\n",
    "    if u<alpha\n",
    "        curr=new\n",
    "    end\n",
    "    push!(sample,curr)\n",
    "end\n",
    "\n"
   ]
  }
 ],
 "metadata": {
  "kernelspec": {
   "display_name": "Julia 1.7.2",
   "language": "julia",
   "name": "julia-1.7"
  },
  "language_info": {
   "file_extension": ".jl",
   "mimetype": "application/julia",
   "name": "julia",
   "version": "1.7.2"
  },
  "orig_nbformat": 4
 },
 "nbformat": 4,
 "nbformat_minor": 2
}
