{
 "cells": [
  {
   "cell_type": "markdown",
   "id": "d4781629",
   "metadata": {},
   "source": [
    "# Assignment 4"
   ]
  },
  {
   "cell_type": "markdown",
   "id": "be6489b2",
   "metadata": {},
   "source": [
    "## Que 2"
   ]
  },
  {
   "cell_type": "markdown",
   "id": "f8787ded",
   "metadata": {},
   "source": [
    "Joint Probability Distribution"
   ]
  },
  {
   "cell_type": "markdown",
   "id": "6af33a87",
   "metadata": {},
   "source": [
    "<h2>$\\pi(\\mu,\\nu|y)\t\\propto \\pi(\\mu,\\nu)f(y|\\mu,\\nu)$</h2>"
   ]
  },
  {
   "cell_type": "markdown",
   "id": "a725b719",
   "metadata": {},
   "source": [
    "<h2>$\\pi(\\mu,\\nu|y)\t\\propto \\frac{\\nu^{a_o-1}e^{b_o\\nu}\\Gamma(\\frac{v+1}{2})}{\\sqrt{\\nu}\\Gamma(\\frac{v}{2})(1+\\frac{\\mu^2}{\\nu})^{\\frac{v+1}{2}}}\\prod_{i=1}^{n} e^{-\\frac{(y_i-\\mu)^{2}}{2}}$</h2>"
   ]
  },
  {
   "cell_type": "markdown",
   "id": "304e9b7b",
   "metadata": {},
   "source": [
    "MH Algorithm:"
   ]
  },
  {
   "cell_type": "markdown",
   "id": "ed12a248",
   "metadata": {},
   "source": [
    "Choose a starting calue of y, \\nu, \\mu"
   ]
  },
  {
   "cell_type": "markdown",
   "id": "71108d63",
   "metadata": {},
   "source": [
    "Draw a proposed value \\nuv^*\\sim Truncated Gamma(a_o, b_o,(2,\\infty))$"
   ]
  },
  {
   "cell_type": "markdown",
   "id": "0fc7fcce",
   "metadata": {},
   "source": [
    "Then draw $\\mu^*\\sim t_{\\nu}$"
   ]
  },
  {
   "cell_type": "markdown",
   "id": "79290b42",
   "metadata": {},
   "source": [
    "Finally draw $y^*\\sim N(\\mu, 1)$"
   ]
  },
  {
   "cell_type": "markdown",
   "id": "bf613c46",
   "metadata": {},
   "source": [
    "Calculate <h5>$\\alpha = min\\{1, \\frac{\\pi(\\mu^*,\\nu^*|y)}{\\pi(\\mu,\\nu|y)}\\}$</h5>"
   ]
  },
  {
   "cell_type": "markdown",
   "id": "bd23c8ad",
   "metadata": {},
   "source": [
    "Draw $U \\sim U[0,1]$"
   ]
  },
  {
   "cell_type": "markdown",
   "id": "39cc8586",
   "metadata": {},
   "source": [
    "If $U < \\alpha$ set $y = y^*$, $\\mu = \\mu^*$ and $\\nu = \\nu^*$ else run loop again with same y, $\\mu$ and $\\nu$"
   ]
  },
  {
   "cell_type": "markdown",
   "id": "20b5aa95",
   "metadata": {},
   "source": [
    "Implementation in Julia"
   ]
  },
  {
   "cell_type": "code",
   "execution_count": 71,
   "id": "ff9673f6",
   "metadata": {},
   "outputs": [
    {
     "data": {
      "text/plain": [
       "1"
      ]
     },
     "execution_count": 71,
     "metadata": {},
     "output_type": "execute_result"
    }
   ],
   "source": []
  },
  {
   "cell_type": "code",
   "execution_count": 2,
   "id": "d1ae6893",
   "metadata": {},
   "outputs": [],
   "source": [
    "import Pkg"
   ]
  },
  {
   "cell_type": "code",
   "execution_count": 9,
   "id": "4828cbe3",
   "metadata": {},
   "outputs": [
    {
     "name": "stderr",
     "output_type": "stream",
     "text": [
      "\u001b[32m\u001b[1m   Resolving\u001b[22m\u001b[39m package versions...\n",
      "\u001b[32m\u001b[1m  No Changes\u001b[22m\u001b[39m to `C:\\Users\\anura\\.julia\\environments\\v1.7\\Project.toml`\n",
      "\u001b[32m\u001b[1m  No Changes\u001b[22m\u001b[39m to `C:\\Users\\anura\\.julia\\environments\\v1.7\\Manifest.toml`\n"
     ]
    }
   ],
   "source": [
    "Pkg.add(\"Distributions\")"
   ]
  },
  {
   "cell_type": "code",
   "execution_count": 10,
   "id": "ca286f34",
   "metadata": {},
   "outputs": [
    {
     "name": "stderr",
     "output_type": "stream",
     "text": [
      "\u001b[32m\u001b[1m   Resolving\u001b[22m\u001b[39m package versions...\n",
      "\u001b[32m\u001b[1m    Updating\u001b[22m\u001b[39m `C:\\Users\\anura\\.julia\\environments\\v1.7\\Project.toml`\n",
      " \u001b[90m [276daf66] \u001b[39m\u001b[92m+ SpecialFunctions v2.1.5\u001b[39m\n",
      "\u001b[32m\u001b[1m  No Changes\u001b[22m\u001b[39m to `C:\\Users\\anura\\.julia\\environments\\v1.7\\Manifest.toml`\n"
     ]
    }
   ],
   "source": [
    "Pkg.add(\"SpecialFunctions\")"
   ]
  },
  {
   "cell_type": "code",
   "execution_count": 11,
   "id": "497d5680",
   "metadata": {},
   "outputs": [],
   "source": [
    "using SpecialFunctions"
   ]
  },
  {
   "cell_type": "code",
   "execution_count": 21,
   "id": "4e33fa1f",
   "metadata": {},
   "outputs": [
    {
     "data": {
      "text/plain": [
       "TaskLocalRNG()"
      ]
     },
     "execution_count": 21,
     "metadata": {},
     "output_type": "execute_result"
    }
   ],
   "source": [
    "using Distributions\n",
    "using Random\n",
    "using Plots\n",
    "Random.seed!(42)"
   ]
  },
  {
   "cell_type": "code",
   "execution_count": 78,
   "id": "be5d4503",
   "metadata": {},
   "outputs": [
    {
     "data": {
      "text/plain": [
       "1"
      ]
     },
     "execution_count": 78,
     "metadata": {},
     "output_type": "execute_result"
    }
   ],
   "source": [
    "a0 = 2\n",
    "b0=0.1\n",
    "mu1 = 0\n",
    "nu1 = 30\n",
    "y1 = 1"
   ]
  },
  {
   "cell_type": "code",
   "execution_count": 79,
   "id": "d7d176a3",
   "metadata": {},
   "outputs": [],
   "source": [
    "y = []\n",
    "push!(y,y1)\n",
    "for n in 1:10000\n",
    "    nu2 = rand(Truncated(Gamma(a0, b0), 2, Inf))\n",
    "    mu2 = rand(TDist(nu1))\n",
    "    y2 = rand(Normal(mu1, 1))\n",
    "    alpha = min(1, (nu1^(a0-1)*(exp(b0*nu1))*gamma((nu1+1)/2))*exp((-1*(y1-mu1)^2)/2)/((sqrt(nu1))*gamma(nu1/2)*((1+(mu1^2)/nu1)^((nu1+1)/2))))\n",
    "    u = rand(Uniform(0,1))\n",
    "    if(u<alpha)\n",
    "        push!(y,y2)\n",
    "        nu1 = nu2\n",
    "        mu1 = mu2\n",
    "        y1 = y2\n",
    "    end\n",
    "end"
   ]
  },
  {
   "cell_type": "code",
   "execution_count": 80,
   "id": "5e3b3578",
   "metadata": {},
   "outputs": [
    {
     "data": {
      "text/plain": [
       "14-element Vector{Any}:\n",
       "  1\n",
       "  0.25758767435908136\n",
       "  0.4747083207688054\n",
       "  0.5833260660380729\n",
       " -2.022972643286958\n",
       " -3.2603412743948823\n",
       " -0.6633134391452642\n",
       " -0.5624717926799101\n",
       "  1.1019135700348281\n",
       "  0.06707454787188633\n",
       "  0.08112689351454923\n",
       " -2.2392454432147355\n",
       "  2.285197033906096\n",
       " -1.724880383519105"
      ]
     },
     "execution_count": 80,
     "metadata": {},
     "output_type": "execute_result"
    }
   ],
   "source": [
    "y"
   ]
  },
  {
   "cell_type": "code",
   "execution_count": 81,
   "id": "b7645d6d",
   "metadata": {},
   "outputs": [
    {
     "data": {
      "image/svg+xml": [
       "<?xml version=\"1.0\" encoding=\"utf-8\"?>\n",
       "<svg xmlns=\"http://www.w3.org/2000/svg\" xmlns:xlink=\"http://www.w3.org/1999/xlink\" width=\"600\" height=\"400\" viewBox=\"0 0 2400 1600\">\n",
       "<defs>\n",
       "  <clipPath id=\"clip780\">\n",
       "    <rect x=\"0\" y=\"0\" width=\"2400\" height=\"1600\"/>\n",
       "  </clipPath>\n",
       "</defs>\n",
       "<path clip-path=\"url(#clip780)\" d=\"\n",
       "M0 1600 L2400 1600 L2400 0 L0 0  Z\n",
       "  \" fill=\"#ffffff\" fill-rule=\"evenodd\" fill-opacity=\"1\"/>\n",
       "<defs>\n",
       "  <clipPath id=\"clip781\">\n",
       "    <rect x=\"480\" y=\"0\" width=\"1681\" height=\"1600\"/>\n",
       "  </clipPath>\n",
       "</defs>\n",
       "<path clip-path=\"url(#clip780)\" d=\"\n",
       "M148.057 1486.45 L2352.76 1486.45 L2352.76 47.2441 L148.057 47.2441  Z\n",
       "  \" fill=\"#ffffff\" fill-rule=\"evenodd\" fill-opacity=\"1\"/>\n",
       "<defs>\n",
       "  <clipPath id=\"clip782\">\n",
       "    <rect x=\"148\" y=\"47\" width=\"2206\" height=\"1440\"/>\n",
       "  </clipPath>\n",
       "</defs>\n",
       "<polyline clip-path=\"url(#clip782)\" style=\"stroke:#000000; stroke-linecap:butt; stroke-linejoin:round; stroke-width:2; stroke-opacity:0.1; fill:none\" points=\"\n",
       "  450.443,1486.45 450.443,47.2441 \n",
       "  \"/>\n",
       "<polyline clip-path=\"url(#clip782)\" style=\"stroke:#000000; stroke-linecap:butt; stroke-linejoin:round; stroke-width:2; stroke-opacity:0.1; fill:none\" points=\"\n",
       "  850.425,1486.45 850.425,47.2441 \n",
       "  \"/>\n",
       "<polyline clip-path=\"url(#clip782)\" style=\"stroke:#000000; stroke-linecap:butt; stroke-linejoin:round; stroke-width:2; stroke-opacity:0.1; fill:none\" points=\"\n",
       "  1250.41,1486.45 1250.41,47.2441 \n",
       "  \"/>\n",
       "<polyline clip-path=\"url(#clip782)\" style=\"stroke:#000000; stroke-linecap:butt; stroke-linejoin:round; stroke-width:2; stroke-opacity:0.1; fill:none\" points=\"\n",
       "  1650.39,1486.45 1650.39,47.2441 \n",
       "  \"/>\n",
       "<polyline clip-path=\"url(#clip782)\" style=\"stroke:#000000; stroke-linecap:butt; stroke-linejoin:round; stroke-width:2; stroke-opacity:0.1; fill:none\" points=\"\n",
       "  2050.37,1486.45 2050.37,47.2441 \n",
       "  \"/>\n",
       "<polyline clip-path=\"url(#clip780)\" style=\"stroke:#000000; stroke-linecap:butt; stroke-linejoin:round; stroke-width:4; stroke-opacity:1; fill:none\" points=\"\n",
       "  148.057,1486.45 2352.76,1486.45 \n",
       "  \"/>\n",
       "<polyline clip-path=\"url(#clip780)\" style=\"stroke:#000000; stroke-linecap:butt; stroke-linejoin:round; stroke-width:4; stroke-opacity:1; fill:none\" points=\"\n",
       "  450.443,1486.45 450.443,1467.55 \n",
       "  \"/>\n",
       "<polyline clip-path=\"url(#clip780)\" style=\"stroke:#000000; stroke-linecap:butt; stroke-linejoin:round; stroke-width:4; stroke-opacity:1; fill:none\" points=\"\n",
       "  850.425,1486.45 850.425,1467.55 \n",
       "  \"/>\n",
       "<polyline clip-path=\"url(#clip780)\" style=\"stroke:#000000; stroke-linecap:butt; stroke-linejoin:round; stroke-width:4; stroke-opacity:1; fill:none\" points=\"\n",
       "  1250.41,1486.45 1250.41,1467.55 \n",
       "  \"/>\n",
       "<polyline clip-path=\"url(#clip780)\" style=\"stroke:#000000; stroke-linecap:butt; stroke-linejoin:round; stroke-width:4; stroke-opacity:1; fill:none\" points=\"\n",
       "  1650.39,1486.45 1650.39,1467.55 \n",
       "  \"/>\n",
       "<polyline clip-path=\"url(#clip780)\" style=\"stroke:#000000; stroke-linecap:butt; stroke-linejoin:round; stroke-width:4; stroke-opacity:1; fill:none\" points=\"\n",
       "  2050.37,1486.45 2050.37,1467.55 \n",
       "  \"/>\n",
       "<path clip-path=\"url(#clip780)\" d=\"M422.179 1544.91 L438.498 1544.91 L438.498 1548.85 L416.554 1548.85 L416.554 1544.91 Q419.216 1542.16 423.799 1537.53 Q428.406 1532.88 429.586 1531.53 Q431.832 1529.01 432.711 1527.27 Q433.614 1525.51 433.614 1523.82 Q433.614 1521.07 431.67 1519.33 Q429.748 1517.6 426.647 1517.6 Q424.448 1517.6 421.994 1518.36 Q419.563 1519.13 416.786 1520.68 L416.786 1515.95 Q419.61 1514.82 422.063 1514.24 Q424.517 1513.66 426.554 1513.66 Q431.924 1513.66 435.119 1516.35 Q438.313 1519.03 438.313 1523.52 Q438.313 1525.65 437.503 1527.57 Q436.716 1529.47 434.61 1532.07 Q434.031 1532.74 430.929 1535.95 Q427.827 1539.15 422.179 1544.91 Z\" fill=\"#000000\" fill-rule=\"evenodd\" fill-opacity=\"1\" /><path clip-path=\"url(#clip780)\" d=\"M448.313 1542.97 L453.197 1542.97 L453.197 1548.85 L448.313 1548.85 L448.313 1542.97 Z\" fill=\"#000000\" fill-rule=\"evenodd\" fill-opacity=\"1\" /><path clip-path=\"url(#clip780)\" d=\"M463.429 1514.29 L481.785 1514.29 L481.785 1518.22 L467.711 1518.22 L467.711 1526.7 Q468.73 1526.35 469.748 1526.19 Q470.767 1526 471.785 1526 Q477.572 1526 480.952 1529.17 Q484.332 1532.34 484.332 1537.76 Q484.332 1543.34 480.859 1546.44 Q477.387 1549.52 471.068 1549.52 Q468.892 1549.52 466.623 1549.15 Q464.378 1548.78 461.971 1548.04 L461.971 1543.34 Q464.054 1544.47 466.276 1545.03 Q468.498 1545.58 470.975 1545.58 Q474.98 1545.58 477.318 1543.48 Q479.656 1541.37 479.656 1537.76 Q479.656 1534.15 477.318 1532.04 Q474.98 1529.94 470.975 1529.94 Q469.1 1529.94 467.225 1530.35 Q465.373 1530.77 463.429 1531.65 L463.429 1514.29 Z\" fill=\"#000000\" fill-rule=\"evenodd\" fill-opacity=\"1\" /><path clip-path=\"url(#clip780)\" d=\"M817.589 1514.29 L835.945 1514.29 L835.945 1518.22 L821.871 1518.22 L821.871 1526.7 Q822.89 1526.35 823.908 1526.19 Q824.927 1526 825.945 1526 Q831.733 1526 835.112 1529.17 Q838.492 1532.34 838.492 1537.76 Q838.492 1543.34 835.02 1546.44 Q831.547 1549.52 825.228 1549.52 Q823.052 1549.52 820.783 1549.15 Q818.538 1548.78 816.131 1548.04 L816.131 1543.34 Q818.214 1544.47 820.436 1545.03 Q822.658 1545.58 825.135 1545.58 Q829.14 1545.58 831.478 1543.48 Q833.816 1541.37 833.816 1537.76 Q833.816 1534.15 831.478 1532.04 Q829.14 1529.94 825.135 1529.94 Q823.26 1529.94 821.385 1530.35 Q819.533 1530.77 817.589 1531.65 L817.589 1514.29 Z\" fill=\"#000000\" fill-rule=\"evenodd\" fill-opacity=\"1\" /><path clip-path=\"url(#clip780)\" d=\"M847.705 1542.97 L852.589 1542.97 L852.589 1548.85 L847.705 1548.85 L847.705 1542.97 Z\" fill=\"#000000\" fill-rule=\"evenodd\" fill-opacity=\"1\" /><path clip-path=\"url(#clip780)\" d=\"M872.774 1517.37 Q869.163 1517.37 867.334 1520.93 Q865.529 1524.47 865.529 1531.6 Q865.529 1538.71 867.334 1542.27 Q869.163 1545.82 872.774 1545.82 Q876.408 1545.82 878.214 1542.27 Q880.042 1538.71 880.042 1531.6 Q880.042 1524.47 878.214 1520.93 Q876.408 1517.37 872.774 1517.37 M872.774 1513.66 Q878.584 1513.66 881.64 1518.27 Q884.718 1522.85 884.718 1531.6 Q884.718 1540.33 881.64 1544.94 Q878.584 1549.52 872.774 1549.52 Q866.964 1549.52 863.885 1544.94 Q860.83 1540.33 860.83 1531.6 Q860.83 1522.85 863.885 1518.27 Q866.964 1513.66 872.774 1513.66 Z\" fill=\"#000000\" fill-rule=\"evenodd\" fill-opacity=\"1\" /><path clip-path=\"url(#clip780)\" d=\"M1216.73 1514.29 L1238.95 1514.29 L1238.95 1516.28 L1226.4 1548.85 L1221.52 1548.85 L1233.32 1518.22 L1216.73 1518.22 L1216.73 1514.29 Z\" fill=\"#000000\" fill-rule=\"evenodd\" fill-opacity=\"1\" /><path clip-path=\"url(#clip780)\" d=\"M1248.07 1542.97 L1252.95 1542.97 L1252.95 1548.85 L1248.07 1548.85 L1248.07 1542.97 Z\" fill=\"#000000\" fill-rule=\"evenodd\" fill-opacity=\"1\" /><path clip-path=\"url(#clip780)\" d=\"M1263.18 1514.29 L1281.54 1514.29 L1281.54 1518.22 L1267.47 1518.22 L1267.47 1526.7 Q1268.48 1526.35 1269.5 1526.19 Q1270.52 1526 1271.54 1526 Q1277.33 1526 1280.71 1529.17 Q1284.09 1532.34 1284.09 1537.76 Q1284.09 1543.34 1280.61 1546.44 Q1277.14 1549.52 1270.82 1549.52 Q1268.65 1549.52 1266.38 1549.15 Q1264.13 1548.78 1261.73 1548.04 L1261.73 1543.34 Q1263.81 1544.47 1266.03 1545.03 Q1268.25 1545.58 1270.73 1545.58 Q1274.73 1545.58 1277.07 1543.48 Q1279.41 1541.37 1279.41 1537.76 Q1279.41 1534.15 1277.07 1532.04 Q1274.73 1529.94 1270.73 1529.94 Q1268.86 1529.94 1266.98 1530.35 Q1265.13 1530.77 1263.18 1531.65 L1263.18 1514.29 Z\" fill=\"#000000\" fill-rule=\"evenodd\" fill-opacity=\"1\" /><path clip-path=\"url(#clip780)\" d=\"M1602.46 1544.91 L1610.1 1544.91 L1610.1 1518.55 L1601.79 1520.21 L1601.79 1515.95 L1610.05 1514.29 L1614.73 1514.29 L1614.73 1544.91 L1622.37 1544.91 L1622.37 1548.85 L1602.46 1548.85 L1602.46 1544.91 Z\" fill=\"#000000\" fill-rule=\"evenodd\" fill-opacity=\"1\" /><path clip-path=\"url(#clip780)\" d=\"M1641.81 1517.37 Q1638.2 1517.37 1636.37 1520.93 Q1634.57 1524.47 1634.57 1531.6 Q1634.57 1538.71 1636.37 1542.27 Q1638.2 1545.82 1641.81 1545.82 Q1645.45 1545.82 1647.25 1542.27 Q1649.08 1538.71 1649.08 1531.6 Q1649.08 1524.47 1647.25 1520.93 Q1645.45 1517.37 1641.81 1517.37 M1641.81 1513.66 Q1647.62 1513.66 1650.68 1518.27 Q1653.76 1522.85 1653.76 1531.6 Q1653.76 1540.33 1650.68 1544.94 Q1647.62 1549.52 1641.81 1549.52 Q1636 1549.52 1632.92 1544.94 Q1629.87 1540.33 1629.87 1531.6 Q1629.87 1522.85 1632.92 1518.27 Q1636 1513.66 1641.81 1513.66 Z\" fill=\"#000000\" fill-rule=\"evenodd\" fill-opacity=\"1\" /><path clip-path=\"url(#clip780)\" d=\"M1661.97 1542.97 L1666.86 1542.97 L1666.86 1548.85 L1661.97 1548.85 L1661.97 1542.97 Z\" fill=\"#000000\" fill-rule=\"evenodd\" fill-opacity=\"1\" /><path clip-path=\"url(#clip780)\" d=\"M1687.04 1517.37 Q1683.43 1517.37 1681.6 1520.93 Q1679.8 1524.47 1679.8 1531.6 Q1679.8 1538.71 1681.6 1542.27 Q1683.43 1545.82 1687.04 1545.82 Q1690.68 1545.82 1692.48 1542.27 Q1694.31 1538.71 1694.31 1531.6 Q1694.31 1524.47 1692.48 1520.93 Q1690.68 1517.37 1687.04 1517.37 M1687.04 1513.66 Q1692.85 1513.66 1695.91 1518.27 Q1698.99 1522.85 1698.99 1531.6 Q1698.99 1540.33 1695.91 1544.94 Q1692.85 1549.52 1687.04 1549.52 Q1681.23 1549.52 1678.15 1544.94 Q1675.1 1540.33 1675.1 1531.6 Q1675.1 1522.85 1678.15 1518.27 Q1681.23 1513.66 1687.04 1513.66 Z\" fill=\"#000000\" fill-rule=\"evenodd\" fill-opacity=\"1\" /><path clip-path=\"url(#clip780)\" d=\"M2002.94 1544.91 L2010.58 1544.91 L2010.58 1518.55 L2002.27 1520.21 L2002.27 1515.95 L2010.53 1514.29 L2015.21 1514.29 L2015.21 1544.91 L2022.85 1544.91 L2022.85 1548.85 L2002.94 1548.85 L2002.94 1544.91 Z\" fill=\"#000000\" fill-rule=\"evenodd\" fill-opacity=\"1\" /><path clip-path=\"url(#clip780)\" d=\"M2036.32 1544.91 L2052.64 1544.91 L2052.64 1548.85 L2030.69 1548.85 L2030.69 1544.91 Q2033.36 1542.16 2037.94 1537.53 Q2042.55 1532.88 2043.73 1531.53 Q2045.97 1529.01 2046.85 1527.27 Q2047.75 1525.51 2047.75 1523.82 Q2047.75 1521.07 2045.81 1519.33 Q2043.89 1517.6 2040.79 1517.6 Q2038.59 1517.6 2036.13 1518.36 Q2033.7 1519.13 2030.93 1520.68 L2030.93 1515.95 Q2033.75 1514.82 2036.2 1514.24 Q2038.66 1513.66 2040.69 1513.66 Q2046.06 1513.66 2049.26 1516.35 Q2052.45 1519.03 2052.45 1523.52 Q2052.45 1525.65 2051.64 1527.57 Q2050.86 1529.47 2048.75 1532.07 Q2048.17 1532.74 2045.07 1535.95 Q2041.97 1539.15 2036.32 1544.91 Z\" fill=\"#000000\" fill-rule=\"evenodd\" fill-opacity=\"1\" /><path clip-path=\"url(#clip780)\" d=\"M2062.45 1542.97 L2067.34 1542.97 L2067.34 1548.85 L2062.45 1548.85 L2062.45 1542.97 Z\" fill=\"#000000\" fill-rule=\"evenodd\" fill-opacity=\"1\" /><path clip-path=\"url(#clip780)\" d=\"M2077.57 1514.29 L2095.93 1514.29 L2095.93 1518.22 L2081.85 1518.22 L2081.85 1526.7 Q2082.87 1526.35 2083.89 1526.19 Q2084.91 1526 2085.93 1526 Q2091.71 1526 2095.09 1529.17 Q2098.47 1532.34 2098.47 1537.76 Q2098.47 1543.34 2095 1546.44 Q2091.53 1549.52 2085.21 1549.52 Q2083.03 1549.52 2080.76 1549.15 Q2078.52 1548.78 2076.11 1548.04 L2076.11 1543.34 Q2078.19 1544.47 2080.42 1545.03 Q2082.64 1545.58 2085.11 1545.58 Q2089.12 1545.58 2091.46 1543.48 Q2093.8 1541.37 2093.8 1537.76 Q2093.8 1534.15 2091.46 1532.04 Q2089.12 1529.94 2085.11 1529.94 Q2083.24 1529.94 2081.36 1530.35 Q2079.51 1530.77 2077.57 1531.65 L2077.57 1514.29 Z\" fill=\"#000000\" fill-rule=\"evenodd\" fill-opacity=\"1\" /><polyline clip-path=\"url(#clip782)\" style=\"stroke:#000000; stroke-linecap:butt; stroke-linejoin:round; stroke-width:2; stroke-opacity:0.1; fill:none\" points=\"\n",
       "  148.057,1381.98 2352.76,1381.98 \n",
       "  \"/>\n",
       "<polyline clip-path=\"url(#clip782)\" style=\"stroke:#000000; stroke-linecap:butt; stroke-linejoin:round; stroke-width:2; stroke-opacity:0.1; fill:none\" points=\"\n",
       "  148.057,1137.14 2352.76,1137.14 \n",
       "  \"/>\n",
       "<polyline clip-path=\"url(#clip782)\" style=\"stroke:#000000; stroke-linecap:butt; stroke-linejoin:round; stroke-width:2; stroke-opacity:0.1; fill:none\" points=\"\n",
       "  148.057,892.306 2352.76,892.306 \n",
       "  \"/>\n",
       "<polyline clip-path=\"url(#clip782)\" style=\"stroke:#000000; stroke-linecap:butt; stroke-linejoin:round; stroke-width:2; stroke-opacity:0.1; fill:none\" points=\"\n",
       "  148.057,647.471 2352.76,647.471 \n",
       "  \"/>\n",
       "<polyline clip-path=\"url(#clip782)\" style=\"stroke:#000000; stroke-linecap:butt; stroke-linejoin:round; stroke-width:2; stroke-opacity:0.1; fill:none\" points=\"\n",
       "  148.057,402.637 2352.76,402.637 \n",
       "  \"/>\n",
       "<polyline clip-path=\"url(#clip782)\" style=\"stroke:#000000; stroke-linecap:butt; stroke-linejoin:round; stroke-width:2; stroke-opacity:0.1; fill:none\" points=\"\n",
       "  148.057,157.802 2352.76,157.802 \n",
       "  \"/>\n",
       "<polyline clip-path=\"url(#clip780)\" style=\"stroke:#000000; stroke-linecap:butt; stroke-linejoin:round; stroke-width:4; stroke-opacity:1; fill:none\" points=\"\n",
       "  148.057,1486.45 148.057,47.2441 \n",
       "  \"/>\n",
       "<polyline clip-path=\"url(#clip780)\" style=\"stroke:#000000; stroke-linecap:butt; stroke-linejoin:round; stroke-width:4; stroke-opacity:1; fill:none\" points=\"\n",
       "  148.057,1381.98 166.954,1381.98 \n",
       "  \"/>\n",
       "<polyline clip-path=\"url(#clip780)\" style=\"stroke:#000000; stroke-linecap:butt; stroke-linejoin:round; stroke-width:4; stroke-opacity:1; fill:none\" points=\"\n",
       "  148.057,1137.14 166.954,1137.14 \n",
       "  \"/>\n",
       "<polyline clip-path=\"url(#clip780)\" style=\"stroke:#000000; stroke-linecap:butt; stroke-linejoin:round; stroke-width:4; stroke-opacity:1; fill:none\" points=\"\n",
       "  148.057,892.306 166.954,892.306 \n",
       "  \"/>\n",
       "<polyline clip-path=\"url(#clip780)\" style=\"stroke:#000000; stroke-linecap:butt; stroke-linejoin:round; stroke-width:4; stroke-opacity:1; fill:none\" points=\"\n",
       "  148.057,647.471 166.954,647.471 \n",
       "  \"/>\n",
       "<polyline clip-path=\"url(#clip780)\" style=\"stroke:#000000; stroke-linecap:butt; stroke-linejoin:round; stroke-width:4; stroke-opacity:1; fill:none\" points=\"\n",
       "  148.057,402.637 166.954,402.637 \n",
       "  \"/>\n",
       "<polyline clip-path=\"url(#clip780)\" style=\"stroke:#000000; stroke-linecap:butt; stroke-linejoin:round; stroke-width:4; stroke-opacity:1; fill:none\" points=\"\n",
       "  148.057,157.802 166.954,157.802 \n",
       "  \"/>\n",
       "<path clip-path=\"url(#clip780)\" d=\"M50.9921 1382.43 L80.6679 1382.43 L80.6679 1386.36 L50.9921 1386.36 L50.9921 1382.43 Z\" fill=\"#000000\" fill-rule=\"evenodd\" fill-opacity=\"1\" /><path clip-path=\"url(#clip780)\" d=\"M104.927 1380.62 Q108.283 1381.34 110.158 1383.61 Q112.057 1385.88 112.057 1389.21 Q112.057 1394.32 108.538 1397.13 Q105.02 1399.93 98.5382 1399.93 Q96.3623 1399.93 94.0475 1399.49 Q91.7558 1399.07 89.3021 1398.21 L89.3021 1393.7 Q91.2465 1394.83 93.5613 1395.41 Q95.8761 1395.99 98.3993 1395.99 Q102.797 1395.99 105.089 1394.26 Q107.404 1392.52 107.404 1389.21 Q107.404 1386.15 105.251 1384.44 Q103.121 1382.7 99.3021 1382.7 L95.2743 1382.7 L95.2743 1378.86 L99.4872 1378.86 Q102.936 1378.86 104.765 1377.5 Q106.594 1376.11 106.594 1373.51 Q106.594 1370.85 104.696 1369.44 Q102.821 1368.01 99.3021 1368.01 Q97.3808 1368.01 95.1817 1368.42 Q92.9826 1368.84 90.3438 1369.72 L90.3438 1365.55 Q93.0058 1364.81 95.3206 1364.44 Q97.6585 1364.07 99.7187 1364.07 Q105.043 1364.07 108.145 1366.5 Q111.246 1368.91 111.246 1373.03 Q111.246 1375.9 109.603 1377.89 Q107.959 1379.86 104.927 1380.62 Z\" fill=\"#000000\" fill-rule=\"evenodd\" fill-opacity=\"1\" /><path clip-path=\"url(#clip780)\" d=\"M51.9412 1137.59 L81.617 1137.59 L81.617 1141.53 L51.9412 1141.53 L51.9412 1137.59 Z\" fill=\"#000000\" fill-rule=\"evenodd\" fill-opacity=\"1\" /><path clip-path=\"url(#clip780)\" d=\"M95.7373 1150.49 L112.057 1150.49 L112.057 1154.42 L90.1123 1154.42 L90.1123 1150.49 Q92.7743 1147.73 97.3576 1143.1 Q101.964 1138.45 103.145 1137.11 Q105.39 1134.58 106.27 1132.85 Q107.172 1131.09 107.172 1129.4 Q107.172 1126.64 105.228 1124.91 Q103.307 1123.17 100.205 1123.17 Q98.0058 1123.17 95.5521 1123.93 Q93.1215 1124.7 90.3438 1126.25 L90.3438 1121.53 Q93.1678 1120.39 95.6215 1119.81 Q98.0752 1119.24 100.112 1119.24 Q105.483 1119.24 108.677 1121.92 Q111.871 1124.61 111.871 1129.1 Q111.871 1131.23 111.061 1133.15 Q110.274 1135.05 108.168 1137.64 Q107.589 1138.31 104.487 1141.53 Q101.385 1144.72 95.7373 1150.49 Z\" fill=\"#000000\" fill-rule=\"evenodd\" fill-opacity=\"1\" /><path clip-path=\"url(#clip780)\" d=\"M51.5708 892.757 L81.2466 892.757 L81.2466 896.693 L51.5708 896.693 L51.5708 892.757 Z\" fill=\"#000000\" fill-rule=\"evenodd\" fill-opacity=\"1\" /><path clip-path=\"url(#clip780)\" d=\"M92.1493 905.651 L99.7882 905.651 L99.7882 879.285 L91.478 880.952 L91.478 876.693 L99.7419 875.026 L104.418 875.026 L104.418 905.651 L112.057 905.651 L112.057 909.586 L92.1493 909.586 L92.1493 905.651 Z\" fill=\"#000000\" fill-rule=\"evenodd\" fill-opacity=\"1\" /><path clip-path=\"url(#clip780)\" d=\"M100.112 633.27 Q96.5011 633.27 94.6724 636.835 Q92.8669 640.377 92.8669 647.506 Q92.8669 654.613 94.6724 658.177 Q96.5011 661.719 100.112 661.719 Q103.746 661.719 105.552 658.177 Q107.381 654.613 107.381 647.506 Q107.381 640.377 105.552 636.835 Q103.746 633.27 100.112 633.27 M100.112 629.566 Q105.922 629.566 108.978 634.173 Q112.057 638.756 112.057 647.506 Q112.057 656.233 108.978 660.839 Q105.922 665.423 100.112 665.423 Q94.3021 665.423 91.2234 660.839 Q88.1679 656.233 88.1679 647.506 Q88.1679 638.756 91.2234 634.173 Q94.3021 629.566 100.112 629.566 Z\" fill=\"#000000\" fill-rule=\"evenodd\" fill-opacity=\"1\" /><path clip-path=\"url(#clip780)\" d=\"M92.1493 415.982 L99.7882 415.982 L99.7882 389.616 L91.478 391.283 L91.478 387.024 L99.7419 385.357 L104.418 385.357 L104.418 415.982 L112.057 415.982 L112.057 419.917 L92.1493 419.917 L92.1493 415.982 Z\" fill=\"#000000\" fill-rule=\"evenodd\" fill-opacity=\"1\" /><path clip-path=\"url(#clip780)\" d=\"M95.7373 171.147 L112.057 171.147 L112.057 175.082 L90.1123 175.082 L90.1123 171.147 Q92.7743 168.393 97.3576 163.763 Q101.964 159.11 103.145 157.768 Q105.39 155.245 106.27 153.508 Q107.172 151.749 107.172 150.059 Q107.172 147.305 105.228 145.569 Q103.307 143.833 100.205 143.833 Q98.0058 143.833 95.5521 144.596 Q93.1215 145.36 90.3438 146.911 L90.3438 142.189 Q93.1678 141.055 95.6215 140.476 Q98.0752 139.897 100.112 139.897 Q105.483 139.897 108.677 142.583 Q111.871 145.268 111.871 149.758 Q111.871 151.888 111.061 153.809 Q110.274 155.707 108.168 158.3 Q107.589 158.971 104.487 162.189 Q101.385 165.383 95.7373 171.147 Z\" fill=\"#000000\" fill-rule=\"evenodd\" fill-opacity=\"1\" /><polyline clip-path=\"url(#clip782)\" style=\"stroke:#009af9; stroke-linecap:butt; stroke-linejoin:round; stroke-width:4; stroke-opacity:1; fill:none\" points=\"\n",
       "  210.454,402.637 370.446,584.405 530.439,531.246 690.432,504.653 850.425,1142.77 1010.42,1445.72 1170.41,809.874 1330.4,785.184 1490.4,377.685 1650.39,631.049 \n",
       "  1810.38,627.609 1970.37,1195.72 2130.37,87.9763 2290.36,1069.78 \n",
       "  \"/>\n",
       "<path clip-path=\"url(#clip780)\" d=\"\n",
       "M1981.87 198.898 L2279.27 198.898 L2279.27 95.2176 L1981.87 95.2176  Z\n",
       "  \" fill=\"#ffffff\" fill-rule=\"evenodd\" fill-opacity=\"1\"/>\n",
       "<polyline clip-path=\"url(#clip780)\" style=\"stroke:#000000; stroke-linecap:butt; stroke-linejoin:round; stroke-width:4; stroke-opacity:1; fill:none\" points=\"\n",
       "  1981.87,198.898 2279.27,198.898 2279.27,95.2176 1981.87,95.2176 1981.87,198.898 \n",
       "  \"/>\n",
       "<polyline clip-path=\"url(#clip780)\" style=\"stroke:#009af9; stroke-linecap:butt; stroke-linejoin:round; stroke-width:4; stroke-opacity:1; fill:none\" points=\"\n",
       "  2006.37,147.058 2153.35,147.058 \n",
       "  \"/>\n",
       "<path clip-path=\"url(#clip780)\" d=\"M2191.68 166.745 Q2189.88 171.375 2188.17 172.787 Q2186.45 174.199 2183.58 174.199 L2180.18 174.199 L2180.18 170.634 L2182.68 170.634 Q2184.44 170.634 2185.41 169.8 Q2186.38 168.967 2187.56 165.865 L2188.33 163.921 L2177.84 138.412 L2182.36 138.412 L2190.46 158.689 L2198.56 138.412 L2203.07 138.412 L2191.68 166.745 Z\" fill=\"#000000\" fill-rule=\"evenodd\" fill-opacity=\"1\" /><path clip-path=\"url(#clip780)\" d=\"M2210.37 160.402 L2218 160.402 L2218 134.037 L2209.69 135.703 L2209.69 131.444 L2217.96 129.778 L2222.63 129.778 L2222.63 160.402 L2230.27 160.402 L2230.27 164.338 L2210.37 164.338 L2210.37 160.402 Z\" fill=\"#000000\" fill-rule=\"evenodd\" fill-opacity=\"1\" /></svg>\n"
      ]
     },
     "execution_count": 81,
     "metadata": {},
     "output_type": "execute_result"
    }
   ],
   "source": [
    "plot(y)"
   ]
  },
  {
   "cell_type": "code",
   "execution_count": null,
   "id": "fc13c97d",
   "metadata": {},
   "outputs": [],
   "source": []
  }
 ],
 "metadata": {
  "kernelspec": {
   "display_name": "Julia 1.7.2",
   "language": "julia",
   "name": "julia-1.7"
  },
  "language_info": {
   "file_extension": ".jl",
   "mimetype": "application/julia",
   "name": "julia",
   "version": "1.7.2"
  }
 },
 "nbformat": 4,
 "nbformat_minor": 5
}
