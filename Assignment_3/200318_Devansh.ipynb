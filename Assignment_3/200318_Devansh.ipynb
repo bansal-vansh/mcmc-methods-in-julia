{
 "cells": [
  {
   "cell_type": "code",
   "execution_count": 1,
   "id": "0fb478f9",
   "metadata": {},
   "outputs": [],
   "source": [
    "# https://docs.google.com/document/d/1eioUEP7i1V89BIXY8u6L3qkvIZchk63ukC6tHJMiSrw/edit#\n",
    "# Resources Document Link"
   ]
  },
  {
   "cell_type": "code",
   "execution_count": 2,
   "id": "ac46d677",
   "metadata": {},
   "outputs": [
    {
     "name": "stderr",
     "output_type": "stream",
     "text": [
      "\u001b[32m\u001b[1m    Updating\u001b[22m\u001b[39m registry at `C:\\Users\\Devansh\\.julia\\registries\\General.toml`\n",
      "\u001b[32m\u001b[1m   Resolving\u001b[22m\u001b[39m package versions...\n",
      "\u001b[32m\u001b[1m  No Changes\u001b[22m\u001b[39m to `C:\\Users\\Devansh\\.julia\\environments\\v1.7\\Project.toml`\n",
      "\u001b[32m\u001b[1m  No Changes\u001b[22m\u001b[39m to `C:\\Users\\Devansh\\.julia\\environments\\v1.7\\Manifest.toml`\n",
      "\u001b[32m\u001b[1m   Resolving\u001b[22m\u001b[39m package versions...\n",
      "\u001b[32m\u001b[1m  No Changes\u001b[22m\u001b[39m to `C:\\Users\\Devansh\\.julia\\environments\\v1.7\\Project.toml`\n",
      "\u001b[32m\u001b[1m  No Changes\u001b[22m\u001b[39m to `C:\\Users\\Devansh\\.julia\\environments\\v1.7\\Manifest.toml`\n"
     ]
    }
   ],
   "source": [
    "import Pkg;\n",
    "Pkg.add(\"Distributions\");\n",
    "Pkg.add(\"Plots\");\n",
    "using Distributions;\n",
    "using Statistics;\n",
    "using Plots: plot, histogram;"
   ]
  },
  {
   "cell_type": "markdown",
   "id": "a07de3b2",
   "metadata": {},
   "source": [
    "## PROBLEM 1\n",
    "Consider estimating the mean of a standard Cauchy distribution using importance sampling with a normal proposal distribution. Does the estimator have finite variance?"
   ]
  },
  {
   "cell_type": "markdown",
   "id": "2617879a",
   "metadata": {},
   "source": [
    "## PROBLEM 2\n",
    "Considering a target density $f(x)$ and an importance proposal $g(x)$. Suppose - \\\n",
    "\n",
    "\\\n",
    "Then we know that the simple importance estimator has a finite variance. \\\n",
    "\\\n",
    "Does the weighted importance estimator also have finite variance? To estimate the mean of the target density, is there any benefit to using importance sampling over accept-reject sampling?\n"
   ]
  },
  {
   "cell_type": "markdown",
   "id": "c086621f",
   "metadata": {},
   "source": [
    "## PROBLEM 3"
   ]
  },
  {
   "cell_type": "markdown",
   "id": "71b44111",
   "metadata": {},
   "source": [
    "## PROBLEM 4"
   ]
  },
  {
   "cell_type": "code",
   "execution_count": null,
   "id": "43701e82",
   "metadata": {},
   "outputs": [],
   "source": []
  }
 ],
 "metadata": {
  "kernelspec": {
   "display_name": "Julia 1.7.2",
   "language": "julia",
   "name": "julia-1.7"
  },
  "language_info": {
   "file_extension": ".jl",
   "mimetype": "application/julia",
   "name": "julia",
   "version": "1.7.2"
  }
 },
 "nbformat": 4,
 "nbformat_minor": 5
}
