{
 "cells": [
  {
   "cell_type": "markdown",
   "id": "1a197b5c",
   "metadata": {},
   "source": [
    "## Q1. Does estimator has finite variance?\n",
    "$f(x)=\\frac{1}{\\pi(1+x^2)}$<br>\n",
    "$g(x)=\\frac{exp(-x^2/2)}{sqrt(2\\pi)}$<br>\n",
    "$sup_x\\frac{f(x)}{g(x)} = \\infty$<br>\n",
    "So we can't say surely about that as it is sufficient condition not a necessary one.<br>\n",
    "So, let's try to simulate that one.\n"
   ]
  },
  {
   "cell_type": "code",
   "execution_count": 80,
   "id": "9c152b6b",
   "metadata": {},
   "outputs": [],
   "source": [
    "using Random\n",
    "using QuadGK\n",
    "using Distributions"
   ]
  },
  {
   "cell_type": "code",
   "execution_count": 86,
   "metadata": {},
   "outputs": [
    {
     "data": {
      "text/plain": [
       "343.58217704429177"
      ]
     },
     "metadata": {},
     "output_type": "display_data"
    }
   ],
   "source": [
    "f(x) = 1/(pi*(1+(x)^2))\n",
    "g(x) = exp(-(x^2)/2)/sqrt(2*pi)\n",
    "A = []\n",
    "iterations = 10000\n",
    "Random.seed!(1)\n",
    "for j=0:iterations\n",
    "    Z = rand(Normal())\n",
    "    push!(A, (Z*f(Z))/g(Z))\n",
    "end\n",
    "var(A)"
   ]
  },
  {
   "cell_type": "markdown",
   "id": "0afb95d6",
   "metadata": {},
   "source": [
    "The variance value of estimator is finite.But it has a very high variance.If i don't set the seed variation is much more in value."
   ]
  },
  {
   "cell_type": "markdown",
   "id": "e32ab5ae",
   "metadata": {},
   "source": [
    "## Q2."
   ]
  },
  {
   "cell_type": "markdown",
   "id": "f288aed8",
   "metadata": {},
   "source": [
    "(a) From what we have seen in lectures, the variance of the weighted estimator is $\\sigma_g^2(E_g[w(Z)^2])$ after some approximations. As w(Z)< M, we can say the expection will have lower bound but from this we can't make conclusions about it being finite.So it may be the case that it is infinity if expectation doesn't diverge."
   ]
  },
  {
   "cell_type": "markdown",
   "id": "4e6b1824",
   "metadata": {},
   "source": [
    "(b) Yes, there is ofcourse a benefit as we reach to estimate fast as compared with Accept-reject where to choose even a single value we might have to perform several repetitions."
   ]
  },
  {
   "cell_type": "markdown",
   "id": "363131e9",
   "metadata": {},
   "source": [
    "### Q3 IMPORTANCE SAMPLING ESTIMATOR"
   ]
  },
  {
   "cell_type": "code",
   "execution_count": 95,
   "id": "07ab16cf",
   "metadata": {},
   "outputs": [
    {
     "name": "stdout",
     "output_type": "stream",
     "text": [
      "First moment  for Simple Sampler for v = 5 is 0.3258237240941205\n",
      "First Moment for Weighted Sampler for v = 5 is 0.31633315800844575\n",
      "Variance  for Weighted Sampler for v = 5 is 0.4529788658503306\n"
     ]
    }
   ],
   "source": [
    "function sampler(v)\n",
    "    Random.seed!(1)\n",
    "    n = 50\n",
    "    iterations = 5000\n",
    "    y = rand(TDist(v),n)\n",
    "    p(x) = exp(-(x^2)/2)*prod((1 .+((y.-x).^2)./v).^(-(1+v)/2))\n",
    "    integral, err = quadgk(p,-Inf,Inf);\n",
    "    constant = 1/integral\n",
    "    pie(x) = constant*p(x)\n",
    "    g(x) = exp(-(x^2)/2)/sqrt(2*pi)\n",
    "    A = []\n",
    "    for i=0:iterations\n",
    "        Z = rand(Normal())\n",
    "        push!(A,(Z*pie(Z)/g(Z)))\n",
    "    end\n",
    "    println(\"First moment  for Simple Sampler for v = \", v , \" is \", mean(A))\n",
    "    B = []\n",
    "    W = []\n",
    "    for i=0:iterations\n",
    "        Z = rand(Normal())\n",
    "        push!(B,(Z*p(Z)/g(Z)))\n",
    "        push!(W,p(Z)/g(Z))\n",
    "    end\n",
    "    println(\"First Moment for Weighted Sampler for v = \", v , \" is \", mean(B)/mean(W))\n",
    "    println(\"Variance  for Weighted Sampler for v = \", v , \" is \",var(A)*(1+var(W)/((mean(B)/mean(W))^2)))\n",
    "end\n",
    "sampler(5)"
   ]
  },
  {
   "cell_type": "code",
   "execution_count": 96,
   "id": "3c8d7e81",
   "metadata": {},
   "outputs": [
    {
     "name": "stdout",
     "output_type": "stream",
     "text": [
      "First moment  for Simple Sampler for v = 1 is 0.1644603969092262\n",
      "First Moment for Weighted Sampler for v = 1 is 0.16405313522093382\n",
      "Variance  for Weighted Sampler for v = 1 is 0.14749586313632457\n",
      "First moment  for Simple Sampler for v = 2 is 0.03699876516501468\n",
      "First Moment for Weighted Sampler for v = 2 is 0.03974466782226018\n",
      "Variance  for Weighted Sampler for v = 2 is 0.06811952857446894\n"
     ]
    }
   ],
   "source": [
    "sampler(1)\n",
    "sampler(2)"
   ]
  },
  {
   "cell_type": "markdown",
   "id": "3d6a56e0",
   "metadata": {},
   "source": [
    "For v = 1,2 we get a little less variance especially for v=2."
   ]
  },
  {
   "cell_type": "markdown",
   "id": "63f5e229",
   "metadata": {},
   "source": [
    "### Q.4 Posterior Distribution of $\\lambda$"
   ]
  },
  {
   "cell_type": "markdown",
   "id": "725fb835",
   "metadata": {},
   "source": [
    "$\\pi(\\lambda) \\propto \\lambda^{\\alpha-1} e^{-\\beta\\lambda}$<br>\n",
    "$f(Y_1,Y_2,....,Y_n|\\lambda) = \\prod_{i=0}^{n}Poisson(\\lambda) = \\prod_{i=0}^{n}(\\frac{\\lambda^{y_i} e^{-\\lambda}}{y_i!}) \\propto \\lambda^{\\sum y_i} e^{-n\\lambda}$<br>\n",
    "$f(\\lambda|Y_1,Y_2,....,Y_n) \\propto {\\pi(\\lambda)f(Y_1,Y_2,....,Y_n|\\lambda)}$<br>\n",
    "$f(\\lambda|Y_1,Y_2,....,Y_n) \\propto \\lambda^{\\alpha+\\sum y_i-1} e^{-(\\beta+n)\\lambda}$<br>\n",
    "Thus, the posterior function will itself be a Gamma($\\alpha+\\sum y_i,\\beta+n$) Distribution"
   ]
  }
 ],
 "metadata": {
  "kernelspec": {
   "display_name": "Julia 1.7.2",
   "language": "julia",
   "name": "julia-1.7"
  },
  "language_info": {
   "file_extension": ".jl",
   "mimetype": "application/julia",
   "name": "julia",
   "version": "1.7.2"
  }
 },
 "nbformat": 4,
 "nbformat_minor": 5
}
