{
 "cells": [
  {
   "cell_type": "markdown",
   "metadata": {},
   "source": [
    "# Solution 1\n",
    "\n",
    "We have importance sampling estimator as $$\\hat{\\theta_g}= \\frac{1}{N} \\sum_{t=1}^{N}\\frac{h(Z_t)\\pi(Z_t)}{g(Z_t)}$$\n",
    "where, function to be estimated is $h(x)=x$, importance density is $g(x)=\\frac{1}{\\sqrt{2\\pi}}e^{-\\frac{x^2}{2}}$ and target density is $\\pi(x) = \\frac{1}{\\pi(1+x^2)}$.\n",
    "Now, after substituting the values and a bit of rearrangement, we can see that $Var_g(\\hat{\\theta_g})$ is finite iff $Var_g(\\frac{h(Z_1)\\pi(Z_1)}{g(Z_1)})=Var_g(\\frac{xe^{\\frac{x^2}{2}}}{1+x^2})=Var_g(s(x))$ is finite.\n",
    "Now, $E_g(s)=\\int_{-\\infty}^{\\infty}\\frac{x}{1+x^2}dx = 0$, and $E_g(s^2)= \\int_{-\\infty}^{\\infty} \\frac{x^2e^{\\frac{x^2}{2}}}{(1+x^2)^2} \\to \\infty$. So, $Var_g(s)=\\infty$ and as a result the estimator does not have a finite variance. \n",
    " "
   ]
  },
  {
   "cell_type": "markdown",
   "metadata": {},
   "source": [
    "# Solution 2\n",
    "\n",
    "(a) If we assume that the error in the approximate expression for variance in the lecture to be constant upto scaling then even if the simple importance estimator has finite variance, the weighted importance estimator may not have finite variance. The reason is that $Var_g(\\hat{\\theta_g})$ is finite iff $\\frac{E_g(w^2)}{(E_g(w))^2}$ is finite. But if $g$ is uniform distibution on an interval and $w$ is like the function described [here](https://math.stackexchange.com/a/4230717) scaled to the same interval, then the ratio will diverge.\n",
    "\n",
    "(b) In importance sampling, proposals are never rejected, but in accept-reject, we may need many iterations to get an acceptable proposal. So, if we use importace sampling we may land near the result quickly."
   ]
  },
  {
   "cell_type": "markdown",
   "metadata": {},
   "source": [
    "# Solution to Problem 3\n",
    "\n",
    "By running the code for different values of $N$, we can see that the variance is increasing with $N$ for all three cases. This suggests that weighted importance sampling estimator does not have a finite variance in all three cases. The variance is decreasing with incresing value of $v$. "
   ]
  },
  {
   "cell_type": "code",
   "execution_count": 10,
   "metadata": {},
   "outputs": [
    {
     "data": {
      "text/plain": [
       "TaskLocalRNG()"
      ]
     },
     "execution_count": 10,
     "metadata": {},
     "output_type": "execute_result"
    }
   ],
   "source": [
    "using Distributions\n",
    "using Random\n",
    "Random.seed!(1)"
   ]
  },
  {
   "cell_type": "code",
   "execution_count": 11,
   "metadata": {},
   "outputs": [
    {
     "data": {
      "text/plain": [
       "sampleY (generic function with 1 method)"
      ]
     },
     "execution_count": 11,
     "metadata": {},
     "output_type": "execute_result"
    }
   ],
   "source": [
    "function sampleY(v,n)\n",
    "    global i=0\n",
    "    global Y=[]\n",
    "    global v=5\n",
    "    d=TDist(v)\n",
    "    while(i<n)\n",
    "        global i=i+1\n",
    "        y=rand(d,1)\n",
    "        append!(Y,y)\n",
    "    end\n",
    "return Y\n",
    "end"
   ]
  },
  {
   "cell_type": "code",
   "execution_count": 12,
   "metadata": {},
   "outputs": [
    {
     "data": {
      "text/plain": [
       "PI (generic function with 1 method)"
      ]
     },
     "execution_count": 12,
     "metadata": {},
     "output_type": "execute_result"
    }
   ],
   "source": [
    "function PI(Y,x,v,n)\n",
    "    global m=exp(-x*x/2)\n",
    "    global i1=0\n",
    "    while(i1<n)\n",
    "        global i1=i1+1\n",
    "        global m=m*(1+(Y[i1]-x)^2/v)^(-(v+1)/2)\n",
    "    end\n",
    "    return m\n",
    "end"
   ]
  },
  {
   "cell_type": "code",
   "execution_count": 13,
   "metadata": {},
   "outputs": [
    {
     "data": {
      "text/plain": [
       "normalcdf (generic function with 1 method)"
      ]
     },
     "execution_count": 13,
     "metadata": {},
     "output_type": "execute_result"
    }
   ],
   "source": [
    "function normalcdf(x)\n",
    "    a=exp((-x*x/2))/((2*pi)^(0.5))\n",
    "    return a\n",
    "end"
   ]
  },
  {
   "cell_type": "code",
   "execution_count": 14,
   "metadata": {},
   "outputs": [
    {
     "data": {
      "text/plain": [
       "firstMoment (generic function with 1 method)"
      ]
     },
     "execution_count": 14,
     "metadata": {},
     "output_type": "execute_result"
    }
   ],
   "source": [
    "function firstMoment(n,v,num)\n",
    "    Y=sampleY(v,n)\n",
    "    global i3=0\n",
    "    global top=0\n",
    "    global bot=0\n",
    "    global flag=0\n",
    "    while (flag==0)\n",
    "#         println(i3)\n",
    "        x=randn()\n",
    "        g=normalcdf(x)\n",
    "        p=PI(Y,x,v,n)\n",
    "#         println(\"p:\",p,\"g:\",g)\n",
    "        top=top+(x*p)/g\n",
    "        bot=bot+p/g\n",
    "        i3=i3+1\n",
    "        if(i3>=num)\n",
    "            global flag=1\n",
    "            break\n",
    "        end\n",
    "    end\n",
    "    return top/bot\n",
    "end"
   ]
  },
  {
   "cell_type": "code",
   "execution_count": 15,
   "metadata": {},
   "outputs": [
    {
     "data": {
      "text/plain": [
       "secondMoment (generic function with 1 method)"
      ]
     },
     "execution_count": 15,
     "metadata": {},
     "output_type": "execute_result"
    }
   ],
   "source": [
    "function secondMoment(n,v,num)\n",
    "    Y=sampleY(v,n)\n",
    "    global i2=0\n",
    "    global top2=0\n",
    "    global bot2=0\n",
    "    while (i2<num)\n",
    "        i2=i2+1\n",
    "        x=randn()\n",
    "        g=normalcdf(x)\n",
    "        p=PI(Y,x,v,n)\n",
    "        top2=top2+x*x*p/g\n",
    "        bot2=bot2+p/g\n",
    "    end\n",
    "    return top2/bot2\n",
    "end"
   ]
  },
  {
   "cell_type": "code",
   "execution_count": 16,
   "metadata": {},
   "outputs": [
    {
     "name": "stdout",
     "output_type": "stream",
     "text": [
      "For v=5\n",
      "Expectation:0.3195498376470879\n",
      "Variance:0.048214074599329894\n"
     ]
    }
   ],
   "source": [
    "println(\"For v=5\")\n",
    "expectation=firstMoment(50,5,10000)\n",
    "println(\"Expectation:\",expectation)\n",
    "println(\"Variance:\",expectation^2-secondMoment(50,5,10000))"
   ]
  },
  {
   "cell_type": "code",
   "execution_count": 17,
   "metadata": {},
   "outputs": [
    {
     "name": "stdout",
     "output_type": "stream",
     "text": [
      "For v=1\n",
      "Expectation:0.04382631588330899\n",
      "Variance:-0.18224589091390006\n"
     ]
    }
   ],
   "source": [
    "println(\"For v=1\")\n",
    "expectation=firstMoment(50,1,10000)\n",
    "println(\"Expectation:\",expectation)\n",
    "println(\"Variance:\",expectation^2-secondMoment(50,1,10000))"
   ]
  },
  {
   "cell_type": "code",
   "execution_count": 18,
   "metadata": {},
   "outputs": [
    {
     "name": "stdout",
     "output_type": "stream",
     "text": [
      "For v=2\n",
      "Expectation:0.20644879379356426\n",
      "Variance:0.00898394357852978\n"
     ]
    }
   ],
   "source": [
    "println(\"For v=2\")\n",
    "expectation=firstMoment(50,2,10000)\n",
    "println(\"Expectation:\",expectation)\n",
    "println(\"Variance:\",(expectation)^2-secondMoment(50,2,10000))"
   ]
  },
  {
   "cell_type": "markdown",
   "metadata": {},
   "source": [
    "# Solution to problem 4\n",
    "\n",
    "We have $Y_1,\\dots Y_n | \\lambda \\sim Poisson({\\lambda})$ and $\\lambda \\sim Gamma(\\alpha, \\beta)$, let $(y_1, \\dots y_n)$ be a sample drawn from $Y = (Y_1, \\dots Y_n)$ and let $y = \\sum_{i=1}^{n} y_i$. Then, \n",
    "$$p(\\lambda | Y) \\propto f(Y|\\lambda) p(\\lambda) \\propto \\lambda^{\\alpha - 1} e^{-\\beta \\lambda}\\prod_{i=1}^{n} \\frac{\\lambda^{y_i} e^{- \\lambda}}{y_i!} \\propto \\lambda^{\\alpha + y- 1} e^{-(\\beta + n)\\lambda} \\sim Gamma(\\alpha + y , \\beta + n) \\text{  (Upto constant of proportionality)}$$\n",
    "So, we conclude that $p(\\lambda | Y) \\sim Gamma(\\alpha + y , \\beta + n)$.\n"
   ]
  },
  {
   "cell_type": "code",
   "execution_count": null,
   "metadata": {},
   "outputs": [],
   "source": []
  }
 ],
 "metadata": {
  "kernelspec": {
   "display_name": "Julia 1.7.2",
   "language": "julia",
   "name": "julia-1.7"
  },
  "language_info": {
   "file_extension": ".jl",
   "mimetype": "application/julia",
   "name": "julia",
   "version": "1.7.2"
  }
 },
 "nbformat": 4,
 "nbformat_minor": 5
}
