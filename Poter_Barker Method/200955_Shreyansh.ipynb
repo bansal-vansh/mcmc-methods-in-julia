{
 "cells": [
  {
   "cell_type": "markdown",
   "metadata": {},
   "source": [
    "Q1"
   ]
  },
  {
   "cell_type": "markdown",
   "metadata": {},
   "source": [
    "Section 2:- Barker's Method and the Two-coin algortithmn $\\\\$\n",
    "The Barker Algorithmn  ensures the stationarity of $\\pi$ and the update step is defined as:-$\\\\$\n",
    "$$ \\alpha_B(x,y)=\\frac{\\pi(y)q(y,x)}{\\pi(x)q(x,y)+\\pi(y)q(y,x)} \\\\$$\n",
    "$$\\implies \\alpha_B(x,y)=\\frac{\\pi\\prime(x)q(x,y)}{\\pi\\prime(x)q(x,y)+\\pi\\prime(y)q(y,x)} $$\n",
    "\n",
    "However, it is not possible to calculate $\\alpha_B$ everytime. We can get over this problem by using Bernouli factory to obtain events of probability $\\alpha_B(x_m,y)$ without evaluting it.\n",
    "\n",
    "So, algorithmn for Barker's will be :\n",
    "\n",
    "1. Draw $y\\sim q(x_m,dy)$\n",
    "2. Draw $A\\sim Bern(\\alpha_B(x_m,y))$\n",
    "3. If A=1 then\n",
    "4. $x_{m+1}=y \\\\$\n",
    "5.Else $\\\\$\n",
    "6.$x_{m+1}=x_m$    \n",
    "\n",
    "Now, the goal is to find events which occur with probility h(p). We can use the following bernouli factory to sample events with probability $\\alpha_B(x,y)$ Let $\\\\$\n",
    "$$\\pi(x)q(x,y)=c_xp_x$$\n",
    "\n",
    " "
   ]
  },
  {
   "cell_type": "markdown",
   "metadata": {},
   "source": [
    "Here $c_x$ is the local bound i.e:$\\\\$\n",
    "$$\\pi(x)q(x,y)\\le c_x\\space so \\space set\\space p_x=\\frac{\\pi(x)q(x,y)}{c_x}\\\\$$\n",
    "We can use \n",
    "$$h(p_x,p_y)=\\frac{c_yp_y}{c_xp_x+c_yp_y}=\\alpha_B(x,y) $$"
   ]
  },
  {
   "cell_type": "markdown",
   "metadata": {},
   "source": [
    "We know the number of loops before stopping forms a Geometric Series with ratio $\\frac{c_xp_x+c_yp_y}{c_x+c_y}.\\\\$\n",
    "The mean execution time is 1/r or $s_1=\\frac{c_x+c_y}{c_xp_x+c_yp_y}\\\\$\n",
    "\n",
    "So, the running time of algorithmn is dependent on $c_x\\space and \\space c_y$, which in turn depend on bound of the distribution. If bound is loose then it yields a large mean time.\n",
    "\n",
    "So this section talks about a new approach to update step without evaluting the acceptance probability, using Bernouli factories."
   ]
  },
  {
   "cell_type": "markdown",
   "metadata": {},
   "source": [
    "Section 3:-PortKey Barker's Method:-"
   ]
  },
  {
   "cell_type": "markdown",
   "metadata": {},
   "source": [
    "The inefficiency in implemneting the Bernouli factory is from the inefficiency of the two-coin algorithm. So , to improve upon this we can introduce new acceptance ratio for which the Bernouli factory method is efficent. For a proposal density q(x,y) , consider \n",
    "$$\\alpha(x,y)=\\frac{\\pi(y)q(y,x)}{\\pi(x)q(x,y)+\\pi(y)q(y,x)+d(x,y)}$$ \n",
    "where $d(x,y) \\ge 0 \\\\$\n",
    "Now as we want the $\\pi$ to be invariant so $\\pi$ must be reversible markov chain. So, it is possible if and only if \n",
    "$$\\pi(y)q(y,x)\\alpha(y,x)=\\pi(x)q(x,y)\\alpha(x,y)\\\\$$\n",
    "Now let d(x,y)=d(y,x) So:-\n",
    "$$\\pi(y)q(y,x)\\alpha(y,x)=\\frac{\\pi(y)q(y,x)\\pi(x)q(x,y)}{\\pi(x)q(x,y)+\\pi(y)q(y,x)+d(x,y)}=\\pi(x)q(x,y)\\alpha(x,y) $$\n",
    "Hence $\\pi$ is reversible.\n",
    "\n",
    "Now, by Peskun’s ordering, Barker’s method is more efficient. However, for a particular choice of d(x,y) we present a Bernoulli factory that provides significant computational gain.\n"
   ]
  },
  {
   "cell_type": "markdown",
   "metadata": {},
   "source": [
    "For a user-choosen $0<\\beta \\le 1$ we consider the following acceptance probability:-\n",
    "$$\\alpha_{\\beta}(x,y)=\\frac{\\pi(y)q(y,x)}{\\pi(x)q(x,y)+\\pi(y)q(y,x)+\\frac{1-\\beta}{\\beta}(c_x+c_y)} $$\n",
    "where c_x and c_y is given as previously.$\\\\$\n"
   ]
  },
  {
   "cell_type": "markdown",
   "metadata": {},
   "source": [
    "$\\beta \\approx 1 $ so that d(x,y) is small. To yield $\\alpha_{\\beta}(x,y)$ we modify the two-coin algorithm via, what we call a portkey method. Our portkey two-coin algorithm introduces a first step in the two-coin algorithm that allows immediate rejections with probability 1 − β. So avoids running large number of loops witnessed in the previous algorithmn.\n",
    "\n",
    "Now again it will follow a Geometric series with ratio r=$\\frac{c_yp_y}{c_xp_x+c_yp_y+\\frac{1-\\beta}{\\beta}(c_x+c_y)}$, hence mean running time is \n",
    "$$s_{\\beta}=(1-\\beta)+\\beta\\frac{c_yp_y+c_xp_x}{c_x+c_y} $$\n"
   ]
  },
  {
   "cell_type": "markdown",
   "metadata": {},
   "source": [
    "So the ratio of the two algorithmn is\n",
    "$$\\frac{s_{\\beta}}{s_1}=(1-\\beta)\\frac{c_x+c_y}{c_yp_y+c_xp_y}+\\beta $$\n",
    "It is clearly greater than 1, so our new algorithmn takes lesser time.\n",
    "\n",
    "But this computational  efficiency comes at the price of statistical efficiency."
   ]
  },
  {
   "cell_type": "markdown",
   "metadata": {},
   "source": [
    "Let $P_B \\space and \\space P_{\\beta}$ denote the Markov operators for Barker's and Portkey algorithms respectively.\n",
    "Also, let $\\bar g_n$ denote the Monte Carlo Estimator of $\\int_{}^{} g\\pi(dx) $ using kernel P. \n",
    "Let var(g,P) denote $\\lim_{n \\to \\infty}nVar(\\bar g_n)$"
   ]
  },
  {
   "cell_type": "markdown",
   "metadata": {},
   "source": [
    "As for $0<\\beta \\le 1, \\alpha_{\\beta}(x,y) \\le \\beta \\alpha_B(x,y) $ which results in \n",
    "$$ var(g,P_B)\\le var(g,P_{\\beta})+(\\beta-1)Var_{\\pi}(\\bar g_n)"
   ]
  },
  {
   "cell_type": "markdown",
   "metadata": {},
   "source": [
    "Another important result that follows is $0<\\beta \\le 1$ if there exists $\\delta>0$ such that $p_x>\\delta$ then\n",
    "$$\\alpha_B(x,y) \\le (1+\\frac{1-\\beta}{\\delta\\beta}).\\alpha_{\\beta}(x,y) $$\n",
    " "
   ]
  },
  {
   "cell_type": "markdown",
   "metadata": {},
   "source": [
    "Which leds to\n",
    "$$var(g,P_{\\beta}) \\le (1+\\frac{1-\\beta}{\\beta})var(g,P_B)+\\frac{1-\\beta}{\\delta\\beta}var_{\\pi}(g) $$"
   ]
  },
  {
   "cell_type": "markdown",
   "metadata": {},
   "source": [
    "So from the above results we can conclude that when $p_x\\space or \\space p_y$ is small, $\\beta$ should be set large, specifically $1-\\delta$ "
   ]
  },
  {
   "cell_type": "markdown",
   "metadata": {},
   "source": [
    "So, in conclusion in Section 3, we address the problem of heavy computational cost of the two-coin algorithmn, by using a different acceptance probability, but by Peksun's ordering we can say this comes at the cost of Statistical efficiency. Also, one can see that when $p_x \\space or \\space p_y$ is smalll,  $\\beta$ should be set large and as close to 1 possible, to reduce this statistical error. "
   ]
  },
  {
   "cell_type": "markdown",
   "metadata": {},
   "source": [
    "Section 4: Flipped portkey two-coin Algorithmn"
   ]
  },
  {
   "cell_type": "markdown",
   "metadata": {},
   "source": [
    "Another challenge in implementing the above two algorithmn is indentifying a suitable $c_x$ as it the bound and the better the bound is the lesser is the computational cost "
   ]
  },
  {
   "cell_type": "markdown",
   "metadata": {},
   "source": [
    "When faced with a target density that is restricted to a constrained space, it may be easier to lower bound $\\pi(x)q(x,y)$ or in other words, upper bound $\\pi(x)^{-1}q(x,y)^{-1}$"
   ]
  },
  {
   "cell_type": "markdown",
   "metadata": {},
   "source": [
    "So , we can write it as $$\\pi(x)^{-1}q(x,y)^{-1}=\\~{c_x}\\~{p_x} $$ where $\\~{c_x}>0$ and $0<\\~{p_x}<1$"
   ]
  },
  {
   "cell_type": "markdown",
   "metadata": {},
   "source": [
    "So, we can change the d(x,y) in the previous algorithmn as $$d(x,y)=\\~{d(x,y)}=\\frac{1-\\beta}{\\beta}\\frac{\\~{c_x}+\\~{c_y}}{\\~{c_x}\\~{c_y}\\~{p_x}\\~{p_y}} $$"
   ]
  },
  {
   "cell_type": "markdown",
   "metadata": {},
   "source": [
    "Let us represent this acceptance probability as $\\alpha_{f(\\beta)}(x,y)$"
   ]
  },
  {
   "cell_type": "markdown",
   "metadata": {},
   "source": [
    "So a algorithmn called the Flipped portkey two coin algorithmn is used to simulate event of probability $\\alpha_{f(\\beta)}(x,y)$"
   ]
  },
  {
   "cell_type": "markdown",
   "metadata": {},
   "source": [
    "Algorithmn:$\\\\$\n",
    "1.Draw $S\\sim Bernouli(\\beta) \\\\$\n",
    "2. if $ S=0 $ then $\\\\$\n",
    "3.return 0 $\\\\$\n",
    "4.else $ \\\\ $\n",
    "5.Draw $C_1 \\sim Bern(\\frac{\\~c_x}{\\~{c_x}+\\~{c_y}}) \\\\$\n",
    "6. if $ C_1=1 $ then $ \\\\ $\n",
    "7. Draw $C_2 \\sim Bern(\\~{p_x}) \\\\ $\n",
    "8. If $C_2=1 \\space then \\\\$\n",
    "9. Return 1 $ \\\\ $\n",
    "10. Else $ \\\\ $\n",
    "11. go to step 1 $\\\\$\n",
    "12.if $C_1=0 \\space then \\\\$\n",
    "13. Draw $C_2 \\sim Bern(\\~{p_y}) \\\\ $\n",
    "14. if $C_2=1 \\space then \\\\$\n",
    "15. Return 0 $ \\\\ $\n",
    "16.If $C_2=0 \\space then \\\\ $\n",
    "17. go to step 1 \n"
   ]
  },
  {
   "cell_type": "markdown",
   "metadata": {},
   "source": [
    "By setting $\\beta=1$ we will get back the Barker's Algorithmn, thus it is a second Bernouli factory method for Barker's Algorithmn. Also, $\\pi$ is a reversible Markov chain"
   ]
  },
  {
   "cell_type": "markdown",
   "metadata": {},
   "source": [
    "The variance ordering is same as in case of previous Portkey Algorithm "
   ]
  },
  {
   "cell_type": "markdown",
   "metadata": {},
   "source": [
    "In addition to to the distribution having lower bound, flipped key should be chosen if generating the $ \\~{p_x} $ coins is eassier than $p_x$ coins."
   ]
  },
  {
   "cell_type": "code",
   "execution_count": 1,
   "metadata": {},
   "outputs": [],
   "source": [
    " using Distributions,SpecialFunctions,Random,Plots,StatsPlots"
   ]
  },
  {
   "cell_type": "code",
   "execution_count": 2,
   "metadata": {},
   "outputs": [
    {
     "data": {
      "text/plain": [
       "c_bound (generic function with 1 method)"
      ]
     },
     "execution_count": 2,
     "metadata": {},
     "output_type": "execute_result"
    }
   ],
   "source": [
    "function c_bound(x,k)## Function to return the c_x and C_y\n",
    "    return (k/(exp(1)*x))\n",
    "end    "
   ]
  },
  {
   "cell_type": "code",
   "execution_count": 3,
   "metadata": {},
   "outputs": [
    {
     "data": {
      "text/plain": [
       "b2_coin (generic function with 1 method)"
      ]
     },
     "execution_count": 3,
     "metadata": {},
     "output_type": "execute_result"
    }
   ],
   "source": [
    "function b2_coin(x_curr,x_prop,k,beta,a1,b1)##Function to generate the PortKey Two coin algorithmn\n",
    "    foo=0\n",
    "    c_prop=c_bound(x_prop,k)\n",
    "    c_curr=c_bound(x_curr,k)\n",
    "    loops=0\n",
    "    arr=[]\n",
    "    while(foo==0)\n",
    "        loops+=1\n",
    "        s=rand(Bernoulli(beta))\n",
    "        if(s==0)\n",
    "            arr=[]\n",
    "            push!(arr,x_curr)\n",
    "            push!(arr,loops)\n",
    "            return arr\n",
    "        else\n",
    "            C1=rand(Bernoulli(c_prop/(c_prop+c_curr)))\n",
    "            if(C1==1)\n",
    "                lam1=rand(Gamma(a1,b1))\n",
    "                p1=2\n",
    "                while((p1>1)||(p1<0))\n",
    "                    p1=pdf(Weibull(lam1,k),x_prop)\n",
    "                end    \n",
    "                C2=rand(Bernoulli(p1))\n",
    "                if(C2==1)\n",
    "                    push!(arr,x_prop)\n",
    "                    push!(arr,loops)\n",
    "                    return arr\n",
    "                end\n",
    "            end\n",
    "        end\n",
    "    end\n",
    "end                    \n",
    "\n",
    "\n"
   ]
  },
  {
   "cell_type": "code",
   "execution_count": 4,
   "metadata": {},
   "outputs": [
    {
     "data": {
      "text/plain": [
       "mcmc (generic function with 1 method)"
      ]
     },
     "execution_count": 4,
     "metadata": {},
     "output_type": "execute_result"
    }
   ],
   "source": [
    "function mcmc(N,beta,start,h,k,a1,b1)##Function to generate test data for Portkey algorithmn\n",
    "    out_port=Array{Float64}(undef, 0)\n",
    "    loops_port=[]\n",
    "    push!(out_port,start)\n",
    "    println(start)\n",
    "    println(out_port)\n",
    "    acc=0\n",
    "    for i in 2:N\n",
    "        prop=rand(Normal(out_port[i-1],sqrt(h)))\n",
    "        if(prop<0)\n",
    "            push!(out_port,out_port[i-1])\n",
    "            continue\n",
    "        end\n",
    "        interim=b2_coin(out_port[i-1],prop,k,beta,a1,b1)\n",
    "        push!(out_port,interim[1])\n",
    "        if(out_port[i]!=out_port[i-1])\n",
    "            acc+=1\n",
    "            push!(loops_port,interim[2])\n",
    "        end\n",
    "    end\n",
    "    list=(result=out_port,loops=loops_port,accept=acc)\n",
    "    return list\n",
    "end            "
   ]
  },
  {
   "cell_type": "code",
   "execution_count": 5,
   "metadata": {},
   "outputs": [
    {
     "data": {
      "text/plain": [
       "first (generic function with 1 method)"
      ]
     },
     "execution_count": 5,
     "metadata": {},
     "output_type": "execute_result"
    }
   ],
   "source": [
    "function first(a1,b1,k)##Funtion to determine the first step\n",
    "    arr=[]\n",
    "    true_mean=(a1/b1*(gamma(1+1/k)))\n",
    "    foo=gamma(1+2/k)-(gamma(1+1/k))^2\n",
    "    true_var=((gamma(1 + 1/k))^2* a1/b1^2 + foo*(a1/b1^2 + a1^2/b1^2)) \n",
    "    push!(arr,true_mean)\n",
    "    push!(arr,true_var)\n",
    "end    \n"
   ]
  },
  {
   "cell_type": "code",
   "execution_count": 15,
   "metadata": {},
   "outputs": [],
   "source": [
    "res=first(10,100,10)\n",
    "beta_90=mcmc(Int(10),0.90,res[1],10,10,100,res[2])\n",
    "##res[1]\n"
   ]
  },
  {
   "cell_type": "code",
   "execution_count": null,
   "metadata": {},
   "outputs": [],
   "source": [
    "beta_75=mcmc(Int(1000),0.75,res[1],10,10,100,res[2])"
   ]
  }
 ],
 "metadata": {
  "kernelspec": {
   "display_name": "Julia 1.7.2",
   "language": "julia",
   "name": "julia-1.7"
  },
  "language_info": {
   "file_extension": ".jl",
   "mimetype": "application/julia",
   "name": "julia",
   "version": "1.7.2"
  },
  "orig_nbformat": 4
 },
 "nbformat": 4,
 "nbformat_minor": 2
}
